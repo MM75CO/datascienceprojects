{
 "cells": [
  {
   "cell_type": "code",
   "execution_count": 1,
   "metadata": {},
   "outputs": [],
   "source": [
    "import numpy as np\n",
    "import matplotlib.pyplot as plt\n",
    "import pandas as pd\n",
    "from pandas_datareader import data\n",
    "import datetime as dt\n",
    "import pandas_datareader.data as web\n",
    "import time"
   ]
  },
  {
   "cell_type": "markdown",
   "metadata": {},
   "source": [
    "### importazione dati"
   ]
  },
  {
   "cell_type": "code",
   "execution_count": 2,
   "metadata": {},
   "outputs": [],
   "source": [
    "def import_data(name,source='yahoo'):    \n",
    "    start = dt.datetime(1920, 1, 1, 0, 0)\n",
    "    end = dt.datetime.now()\n",
    "    df = web.DataReader(name, source, start, end)\n",
    "    #Symbol = 'High'\n",
    "    df.reset_index(inplace=True)\n",
    "    df.set_index(\"Date\", inplace=True)\n",
    "    df = df.drop(['Low','Open','Adj Close','High','Volume'],axis='columns')\n",
    "    return df"
   ]
  },
  {
   "cell_type": "code",
   "execution_count": 3,
   "metadata": {},
   "outputs": [],
   "source": [
    "# QUI VENGONO IMPORTATO GLI ETF, SPECIFICANDO IL LORO TICKER.\n",
    "# IN QUESTO ESEMPIO 1) AZIONARIO GLOBALE, 2) AZIONARIO EMERGENTI, 3) BOND EUROPEI, 4) BOND SOCIETARI, 5) ORO\n",
    "# PUOI CAMBIARE ETF CAMBIANDO I TICKERS, DOPO IMPORT_DATA\n",
    "\n",
    "\n",
    "df=import_data(['IWDE.MI','IEEM.MI','XGLE.MI','XBLC.MI','XAD1.MI']) \n",
    "df.columns=['Msci','Emergenti','EUBond','CorporateBond','Gold']\n",
    "\n",
    "df=df.fillna(method='ffill')"
   ]
  },
  {
   "cell_type": "code",
   "execution_count": 4,
   "metadata": {},
   "outputs": [
    {
     "data": {
      "text/html": [
       "<div>\n",
       "<style scoped>\n",
       "    .dataframe tbody tr th:only-of-type {\n",
       "        vertical-align: middle;\n",
       "    }\n",
       "\n",
       "    .dataframe tbody tr th {\n",
       "        vertical-align: top;\n",
       "    }\n",
       "\n",
       "    .dataframe thead th {\n",
       "        text-align: right;\n",
       "    }\n",
       "</style>\n",
       "<table border=\"1\" class=\"dataframe\">\n",
       "  <thead>\n",
       "    <tr style=\"text-align: right;\">\n",
       "      <th></th>\n",
       "      <th>Msci</th>\n",
       "      <th>Emergenti</th>\n",
       "      <th>EUBond</th>\n",
       "      <th>CorporateBond</th>\n",
       "      <th>Gold</th>\n",
       "    </tr>\n",
       "    <tr>\n",
       "      <th>Date</th>\n",
       "      <th></th>\n",
       "      <th></th>\n",
       "      <th></th>\n",
       "      <th></th>\n",
       "      <th></th>\n",
       "    </tr>\n",
       "  </thead>\n",
       "  <tbody>\n",
       "    <tr>\n",
       "      <th>2012-01-02</th>\n",
       "      <td>25.684999</td>\n",
       "      <td>28.290001</td>\n",
       "      <td>170.960007</td>\n",
       "      <td>124.010002</td>\n",
       "      <td>127.309998</td>\n",
       "    </tr>\n",
       "    <tr>\n",
       "      <th>2012-01-03</th>\n",
       "      <td>25.745001</td>\n",
       "      <td>28.520000</td>\n",
       "      <td>171.029999</td>\n",
       "      <td>124.099998</td>\n",
       "      <td>128.910004</td>\n",
       "    </tr>\n",
       "    <tr>\n",
       "      <th>2012-01-04</th>\n",
       "      <td>25.745001</td>\n",
       "      <td>28.514999</td>\n",
       "      <td>171.029999</td>\n",
       "      <td>124.099998</td>\n",
       "      <td>129.279999</td>\n",
       "    </tr>\n",
       "    <tr>\n",
       "      <th>2012-01-05</th>\n",
       "      <td>25.745001</td>\n",
       "      <td>28.629999</td>\n",
       "      <td>169.960007</td>\n",
       "      <td>124.099998</td>\n",
       "      <td>129.050003</td>\n",
       "    </tr>\n",
       "    <tr>\n",
       "      <th>2012-01-06</th>\n",
       "      <td>25.745001</td>\n",
       "      <td>28.695000</td>\n",
       "      <td>169.960007</td>\n",
       "      <td>124.099998</td>\n",
       "      <td>130.169998</td>\n",
       "    </tr>\n",
       "    <tr>\n",
       "      <th>...</th>\n",
       "      <td>...</td>\n",
       "      <td>...</td>\n",
       "      <td>...</td>\n",
       "      <td>...</td>\n",
       "      <td>...</td>\n",
       "    </tr>\n",
       "    <tr>\n",
       "      <th>2020-03-31</th>\n",
       "      <td>46.080002</td>\n",
       "      <td>30.025000</td>\n",
       "      <td>246.070007</td>\n",
       "      <td>150.199997</td>\n",
       "      <td>106.570000</td>\n",
       "    </tr>\n",
       "    <tr>\n",
       "      <th>2020-04-01</th>\n",
       "      <td>43.974998</td>\n",
       "      <td>29.014999</td>\n",
       "      <td>246.699997</td>\n",
       "      <td>149.970001</td>\n",
       "      <td>105.269997</td>\n",
       "    </tr>\n",
       "    <tr>\n",
       "      <th>2020-04-02</th>\n",
       "      <td>43.930000</td>\n",
       "      <td>29.695000</td>\n",
       "      <td>246.729996</td>\n",
       "      <td>149.509995</td>\n",
       "      <td>106.730003</td>\n",
       "    </tr>\n",
       "    <tr>\n",
       "      <th>2020-04-03</th>\n",
       "      <td>43.619999</td>\n",
       "      <td>29.540001</td>\n",
       "      <td>246.300003</td>\n",
       "      <td>149.580002</td>\n",
       "      <td>107.190002</td>\n",
       "    </tr>\n",
       "    <tr>\n",
       "      <th>2020-04-14</th>\n",
       "      <td>48.599998</td>\n",
       "      <td>31.684999</td>\n",
       "      <td>245.410004</td>\n",
       "      <td>153.410004</td>\n",
       "      <td>114.989998</td>\n",
       "    </tr>\n",
       "  </tbody>\n",
       "</table>\n",
       "<p>2088 rows × 5 columns</p>\n",
       "</div>"
      ],
      "text/plain": [
       "                 Msci  Emergenti      EUBond  CorporateBond        Gold\n",
       "Date                                                                   \n",
       "2012-01-02  25.684999  28.290001  170.960007     124.010002  127.309998\n",
       "2012-01-03  25.745001  28.520000  171.029999     124.099998  128.910004\n",
       "2012-01-04  25.745001  28.514999  171.029999     124.099998  129.279999\n",
       "2012-01-05  25.745001  28.629999  169.960007     124.099998  129.050003\n",
       "2012-01-06  25.745001  28.695000  169.960007     124.099998  130.169998\n",
       "...               ...        ...         ...            ...         ...\n",
       "2020-03-31  46.080002  30.025000  246.070007     150.199997  106.570000\n",
       "2020-04-01  43.974998  29.014999  246.699997     149.970001  105.269997\n",
       "2020-04-02  43.930000  29.695000  246.729996     149.509995  106.730003\n",
       "2020-04-03  43.619999  29.540001  246.300003     149.580002  107.190002\n",
       "2020-04-14  48.599998  31.684999  245.410004     153.410004  114.989998\n",
       "\n",
       "[2088 rows x 5 columns]"
      ]
     },
     "execution_count": 4,
     "metadata": {},
     "output_type": "execute_result"
    }
   ],
   "source": [
    "df[df.index>'2012']"
   ]
  },
  {
   "cell_type": "code",
   "execution_count": 5,
   "metadata": {},
   "outputs": [
    {
     "data": {
      "image/png": "[encoded data removed]",
      "text/plain": [
       "<Figure size 432x288 with 1 Axes>"
      ]
     },
     "metadata": {
      "needs_background": "light"
     },
     "output_type": "display_data"
    }
   ],
   "source": [
    "# NORMALIZZAZIONE AL SOLO FINE ILLUSTRATIVO\n",
    "\n",
    "normalizzazione_ETF=np.array(df[df.index=='2012-01-02'])\n",
    "\n",
    "dfnorm=df/normalizzazione_ETF\n",
    "\n",
    "dfnorm.plot()\n",
    "plt.xlim('2012','2020-04-15')\n",
    "plt.grid()\n",
    "plt.savefig('grafico_etf.png',dpi=300)\n",
    "plt.show()"
   ]
  },
  {
   "cell_type": "code",
   "execution_count": null,
   "metadata": {},
   "outputs": [],
   "source": []
  },
  {
   "cell_type": "markdown",
   "metadata": {},
   "source": [
    "### massimo drawdown"
   ]
  },
  {
   "cell_type": "code",
   "execution_count": 6,
   "metadata": {},
   "outputs": [
    {
     "name": "stdout",
     "output_type": "stream",
     "text": [
      "9.50987952638233 71\n"
     ]
    },
    {
     "data": {
      "image/png": "[encoded data removed]",
      "text/plain": [
       "<Figure size 432x288 with 1 Axes>"
      ]
     },
     "metadata": {
      "needs_background": "light"
     },
     "output_type": "display_data"
    }
   ],
   "source": [
    "# DEFINIZIONE DELLA FUNZIONE PER IL CALCOLO DEL MASSIMO DRAWDOWN\n",
    "\n",
    "rand_sequence=np.random.normal(3/12,5/np.sqrt(12),size=12*10)\n",
    "rend_cumulativo=np.cumprod(1+rand_sequence/100)*100\n",
    "\n",
    "\n",
    "def drawdown(array):\n",
    "    massimo=array[0]\n",
    "    lista=[]\n",
    "    for i in range(len(array)):\n",
    "        if array[i]>massimo:\n",
    "            massimo=array[i]\n",
    "            lista.append(massimo)\n",
    "        else:\n",
    "            lista.append(massimo)\n",
    "     \n",
    "    lista=np.array(lista)\n",
    "    \n",
    "    drawdown_parz=(lista-array)/lista*100\n",
    "    #print(np.max(drawdown_parz),np.argmax(drawdown_parz))\n",
    "    \n",
    "    return (np.max(drawdown_parz),np.argmax(drawdown_parz),lista)\n",
    "\n",
    "\n",
    "massimo_esp=drawdown(rend_cumulativo)\n",
    "\n",
    "print(massimo_esp[0],massimo_esp[1])\n",
    "\n",
    "plt.plot(rend_cumulativo)\n",
    "plt.plot(massimo_esp[2])\n",
    "plt.show()"
   ]
  },
  {
   "cell_type": "markdown",
   "metadata": {},
   "source": [
    "### simulazione benchmark, senza ribilanciamento"
   ]
  },
  {
   "cell_type": "code",
   "execution_count": 7,
   "metadata": {},
   "outputs": [],
   "source": [
    "p2data=pd.read_csv('p2-rendimento.csv')\n",
    "p2data.index=pd.to_datetime(p2data.index,format='%d.%m.%Y')\n",
    "p2data['Data']=p2data['Data']-3.59\n",
    "\n",
    "p2data['Rendimento']=100000*(1+p2data['Data']/100)"
   ]
  },
  {
   "cell_type": "code",
   "execution_count": 8,
   "metadata": {},
   "outputs": [
    {
     "name": "stdout",
     "output_type": "stream",
     "text": [
      "Massimo drawdown  10.606815636416387 %\n"
     ]
    },
    {
     "data": {
      "image/png": "[encoded data removed]",
      "text/plain": [
       "<Figure size 432x288 with 1 Axes>"
      ]
     },
     "metadata": {
      "needs_background": "light"
     },
     "output_type": "display_data"
    }
   ],
   "source": [
    "df_sim=df[df.index>='2020-02-22']\n",
    "\n",
    "df_sim=df_sim[['Msci','EUBond']]\n",
    "\n",
    "n_obbligazioni=75000/df_sim.iloc[0,1]\n",
    "n_azioni=25000/df_sim.iloc[0,0]\n",
    "\n",
    "df_sim['Benchmark']=n_azioni*df_sim['Msci']+n_obbligazioni*df_sim['EUBond']\n",
    "\n",
    "print('Massimo drawdown ',drawdown(np.array(df_sim['Benchmark']))[0],'%')\n",
    "\n",
    "plt.plot(df_sim.index,df_sim['Benchmark'],label='Benchmark 25-75')\n",
    "plt.plot(p2data.index,p2data['Rendimento'],label='Mio portafoglio 2 Moneyfarm')\n",
    "plt.xticks(rotation=30)\n",
    "plt.title('Confronto col benchmark')\n",
    "plt.ylabel('Capitale €')\n",
    "plt.xlim('2020-02-25','2020-04-09')\n",
    "plt.legend()\n",
    "plt.tight_layout()\n",
    "plt.savefig('benchmark.png',dpi=300)\n",
    "plt.show()"
   ]
  },
  {
   "cell_type": "code",
   "execution_count": 9,
   "metadata": {},
   "outputs": [
    {
     "data": {
      "text/plain": [
       "-5736.816308320209"
      ]
     },
     "execution_count": 9,
     "metadata": {},
     "output_type": "execute_result"
    }
   ],
   "source": [
    "df_sim.iloc[-1,2]-100000    #PERDITA ATTUALE DEL BENCHMARK"
   ]
  },
  {
   "cell_type": "markdown",
   "metadata": {},
   "source": [
    "### simulazione portafoglio"
   ]
  },
  {
   "cell_type": "code",
   "execution_count": 10,
   "metadata": {},
   "outputs": [],
   "source": [
    "# SIMULAZIONE PORTAFOGLIO, CON RIBILANCIAMENTO ATTUALE\n",
    "\n",
    "def rendimento_bis(ripartizione,capitale0=100000,inizio='2012',fine='2020-05',nomietf=['Msci','Emergenti','EUBond','CorporateBond','Gold']):\n",
    "    \n",
    "    daysperyear=255\n",
    "    \n",
    "    # acquisizione prezzi\n",
    "    df2=df[(df.index>=inizio) & (df.index<=fine)]\n",
    "    durata=round(len(df2)/daysperyear,1)\n",
    "    titoli=np.array(df2[nomietf])\n",
    "    n_titoli=titoli.shape[1]\n",
    "    \n",
    "    \n",
    "    # ripartizione iniziale\n",
    "    ripartizione=np.array(ripartizione)\n",
    "    cap_rip=ripartizione/100*capitale0\n",
    "    \n",
    "    num_rip=cap_rip/titoli[0,:]\n",
    "    capitale2=np.random.rand(len(df2),n_titoli+2)\n",
    "    \n",
    "    rend_annuo_bar=[]\n",
    "    \n",
    "    kk=-1\n",
    "    \n",
    "    # evoluzione\n",
    "    for i in range(len(df2)):\n",
    "        capitale2[i,0]=round(i/daysperyear,2)\n",
    "        for j in range(1,n_titoli+1):\n",
    "            capitale2[i,j]=num_rip[j-1]*titoli[i,j-1]\n",
    "        \n",
    "        capitale2[i,n_titoli+1]=np.sum(capitale2[i,1:n_titoli+1])\n",
    "        kk=kk+1\n",
    "        \n",
    "    # ribilanciamento\n",
    "        if kk==255:\n",
    "            cap_rip=ripartizione/100*capitale2[i,n_titoli+1]\n",
    "            num_rip=cap_rip/titoli[i,:]\n",
    "            #print(num_rip,capitale2[i,n_titoli+1])\n",
    "            # rendimento annuale nella lista\n",
    "            rannuo_bar=np.round((capitale2[i,n_titoli+1]/capitale2[i-daysperyear,n_titoli+1]-1)*100,2)\n",
    "            #print(capitale2[i,n_titoli+1],capitale2[i-255,n_titoli+1],i,i-255)\n",
    "            rend_annuo_bar.append([df2.index[i].year-1,rannuo_bar])\n",
    "            #print(df2.index[i])\n",
    "            # azzero il contatore kk (responsabile del bilanciamento annuale)\n",
    "            kk=0\n",
    "    \n",
    "    \n",
    "    # rendimento annualizzato\n",
    "    rend_annualizzato=round(((capitale2[i,n_titoli+1]/capitale0)**(1/durata)-1)*100,2)\n",
    "    \n",
    "    array_finale=capitale2[:,n_titoli+1]\n",
    "    \n",
    "    # massima perdita\n",
    "    maxdrowdawn=round(drawdown(array_finale)[0],2)\n",
    "    drowdawn_when=round(drawdown(array_finale)[1]/daysperyear,2)\n",
    "    \n",
    "    return (capitale2,rend_annualizzato,maxdrowdawn,drowdawn_when,np.array(rend_annuo_bar))"
   ]
  },
  {
   "cell_type": "code",
   "execution_count": null,
   "metadata": {},
   "outputs": [],
   "source": []
  },
  {
   "cell_type": "code",
   "execution_count": 11,
   "metadata": {},
   "outputs": [
    {
     "name": "stdout",
     "output_type": "stream",
     "text": [
      "rendimento  4.83 % - massima perdita  17.47 % - dopo  8.14 anni\n"
     ]
    },
    {
     "data": {
      "image/png": "[encoded data removed]",
      "text/plain": [
       "<Figure size 432x288 with 1 Axes>"
      ]
     },
     "metadata": {
      "needs_background": "light"
     },
     "output_type": "display_data"
    }
   ],
   "source": [
    "peppe_completo=rendimento_bis([33,11,33,11,12],inizio='2012',fine='2020-05')\n",
    "\n",
    "peppe=peppe_completo[0]\n",
    "print('rendimento ',peppe_completo[1],'% - massima perdita ',peppe_completo[2],'% - dopo ',peppe_completo[3],'anni')\n",
    "\n",
    "xticks_str=[]\n",
    "xticks_num=np.arange(0,9,1)\n",
    "\n",
    "for i in range(len(xticks_num)):\n",
    "    xticks_str.append(str(xticks_num[i]+2012))\n",
    "\n",
    "plt.plot(peppe[:,0],peppe[:,6],label='Totale')\n",
    "plt.plot(peppe[:,0],peppe[:,1],label='Msci',linestyle='--')\n",
    "plt.plot(peppe[:,0],peppe[:,2],label='Emergenti',linestyle='--')\n",
    "plt.plot(peppe[:,0],peppe[:,3],label='EUBond',linestyle='--')\n",
    "plt.plot(peppe[:,0],peppe[:,4],label='CorporateBond',linestyle='--')\n",
    "plt.plot(peppe[:,0],peppe[:,5],label='Gold',linestyle='--')\n",
    "#plt.xticks(xticks_num,xticks_str)\n",
    "plt.xlabel('Anni')\n",
    "plt.ylabel('Rendimento')\n",
    "#plt.ylim(0,500000)\n",
    "#plt.xlim(8,8.18)\n",
    "plt.legend()\n",
    "plt.show()"
   ]
  },
  {
   "cell_type": "code",
   "execution_count": 12,
   "metadata": {},
   "outputs": [
    {
     "data": {
      "image/png": "[encoded data removed]",
      "text/plain": [
       "<Figure size 432x288 with 1 Axes>"
      ]
     },
     "metadata": {
      "needs_background": "light"
     },
     "output_type": "display_data"
    }
   ],
   "source": [
    "# VISUALIZZAZIONE DEI RENDIMENTI ANNUALI\n",
    "\n",
    "plt.bar(peppe_completo[4][:,0],peppe_completo[4][:,1])\n",
    "plt.xlabel('Anno')\n",
    "plt.ylabel('Rendimento %')\n",
    "plt.savefig('output_portfolio/rendimenti-annuali.png')\n",
    "plt.show()"
   ]
  },
  {
   "cell_type": "code",
   "execution_count": null,
   "metadata": {},
   "outputs": [],
   "source": []
  },
  {
   "cell_type": "markdown",
   "metadata": {},
   "source": [
    "### analisi rischio rendimento"
   ]
  },
  {
   "cell_type": "code",
   "execution_count": 13,
   "metadata": {},
   "outputs": [],
   "source": [
    "# QUESTA FUNZIONE RESTISTUISCE IL RENDIMENTO E LA MASSIMA PERDITA\n",
    "\n",
    "def rischio_rendimento(array,start='2012',end='2021',nomietf=['Msci','Emergenti','EUBond','CorporateBond','Gold']):\n",
    "    risultato=rendimento_bis(array,capitale0=100000,inizio=start,fine=end,nomietf=nomietf)\n",
    "    return (risultato[1],risultato[2])"
   ]
  },
  {
   "cell_type": "code",
   "execution_count": 14,
   "metadata": {},
   "outputs": [
    {
     "data": {
      "text/plain": [
       "(6.04, 11.87)"
      ]
     },
     "execution_count": 14,
     "metadata": {},
     "output_type": "execute_result"
    }
   ],
   "source": [
    "rischio_rendimento([33,11,33,11,12],start='2012',end='2020-02-22')"
   ]
  },
  {
   "cell_type": "code",
   "execution_count": 15,
   "metadata": {},
   "outputs": [],
   "source": [
    "# genero le combinazioni\n",
    "\n",
    "valori=[]\n",
    "n_val=10    # aumentare per avere maggiori combinazioni tra gli ETF (richiede maggior tempo e l'aumento è esponenziale)\n",
    "\n",
    "for i in range(0,n_val+1):\n",
    "    for j in range(0,n_val+1-i):\n",
    "        for m in range(0,n_val+1-i-j):\n",
    "            for n in range(0,n_val+1-i-j-m):\n",
    "                k=n_val-i-j-m-n\n",
    "                valori.append([i,j,m,n,k])\n",
    "                \n",
    "                               \n",
    "valori=np.array(valori)*(100/n_val)"
   ]
  },
  {
   "cell_type": "code",
   "execution_count": null,
   "metadata": {},
   "outputs": [],
   "source": []
  },
  {
   "cell_type": "code",
   "execution_count": 16,
   "metadata": {},
   "outputs": [
    {
     "name": "stdout",
     "output_type": "stream",
     "text": [
      "[[  0.   0.   0.   0. 100.]\n",
      " [  0.   0.   0.  10.  90.]\n",
      " [  0.   0.   0.  20.  80.]\n",
      " ...\n",
      " [ 90.   0.  10.   0.   0.]\n",
      " [ 90.  10.   0.   0.   0.]\n",
      " [100.   0.   0.   0.   0.]]\n",
      "Controllo: deve essere 100 = 100.0\n",
      "1001\n"
     ]
    }
   ],
   "source": [
    "print(valori)\n",
    "\n",
    "print('Controllo: deve essere 100 =',np.mean(np.sum(valori,axis=1)))\n",
    "\n",
    "print(len(valori))"
   ]
  },
  {
   "cell_type": "code",
   "execution_count": 17,
   "metadata": {},
   "outputs": [
    {
     "name": "stdout",
     "output_type": "stream",
     "text": [
      "9 %\n",
      "19 %\n",
      "29 %\n",
      "39 %\n",
      "49 %\n",
      "59 %\n",
      "69 %\n",
      "79 %\n",
      "89 %\n",
      "99 %\n"
     ]
    }
   ],
   "source": [
    "# analisi rischio rendimento con le combinazioni create in precedenza\n",
    "\n",
    "rr_val=[]\n",
    "costi=0.4    # costi degli ETF\n",
    "counter=0\n",
    "for i in range(len(valori)):\n",
    "    rr_parz=rischio_rendimento(valori[i,:],start='2012',end='2020-05')\n",
    "    r_netto=(rr_parz[1]-0.2)*0.75\n",
    "    rr_val.append([i,rr_parz[0]-costi,rr_parz[1],np.abs(rr_parz[1]/(rr_parz[0]-costi)),valori[i,0],valori[i,1],valori[i,2],valori[i,3],valori[i,4]])\n",
    "    counter=counter+1\n",
    "    if counter==100:\n",
    "        stage=int(i/len(valori)*100)\n",
    "        counter=0\n",
    "        print(stage,'%')"
   ]
  },
  {
   "cell_type": "code",
   "execution_count": 18,
   "metadata": {},
   "outputs": [],
   "source": [
    "df_rr=pd.DataFrame(rr_val)\n",
    "df_rr.to_csv('rischio-rendimento.csv',index=False)\n",
    "#df_rr.to_csv('rischio-rendimento-precrisi.csv',index=False)\n",
    "#df_rr=pd.read_csv('rischio-rendimento.csv')\n",
    "df_rr.columns=['ID','rendimento','max perdita','anni per recuperare','Msci','Emergenti','EUBond','CorporateBond','Gold']\n",
    "rr_val=np.array(df_rr)"
   ]
  },
  {
   "cell_type": "markdown",
   "metadata": {},
   "source": [
    "### presentazione dei risultati"
   ]
  },
  {
   "cell_type": "code",
   "execution_count": 19,
   "metadata": {},
   "outputs": [],
   "source": [
    "arg_massimo=np.argmin(rr_val[:,3])   #portafoglio col minor tempo di recupero dopo la perdita"
   ]
  },
  {
   "cell_type": "code",
   "execution_count": 20,
   "metadata": {},
   "outputs": [
    {
     "data": {
      "text/plain": [
       "ID                      65.000000\n",
       "rendimento               4.110000\n",
       "max perdita              6.140000\n",
       "anni per recuperare      1.493917\n",
       "Msci                     0.000000\n",
       "Emergenti                0.000000\n",
       "EUBond                 100.000000\n",
       "CorporateBond            0.000000\n",
       "Gold                     0.000000\n",
       "Name: 65, dtype: float64"
      ]
     },
     "execution_count": 20,
     "metadata": {},
     "output_type": "execute_result"
    }
   ],
   "source": [
    "df_rr.iloc[arg_massimo,:]"
   ]
  },
  {
   "cell_type": "code",
   "execution_count": 21,
   "metadata": {},
   "outputs": [
    {
     "name": "stdout",
     "output_type": "stream",
     "text": [
      "2.5272852155516556\n",
      "4.248970767593341\n"
     ]
    },
    {
     "data": {
      "image/png": "[encoded data removed]",
      "text/plain": [
       "<Figure size 720x360 with 2 Axes>"
      ]
     },
     "metadata": {
      "needs_background": "light"
     },
     "output_type": "display_data"
    }
   ],
   "source": [
    "x_rr=df_rr['max perdita']\n",
    "y_rr=df_rr['rendimento']\n",
    "\n",
    "costi_mfarm=0.65\n",
    "\n",
    "#p2_rend=((121/115.6)**(1/5)-1)*100\n",
    "#p4_rend=((136.1/124.3)**(1/5)-1)*100\n",
    "\n",
    "p2_rend=((122.1/100)**(1/8)-1)*100\n",
    "p4_rend=((139.5/100)**(1/8)-1)*100\n",
    "p6_rend=((153.6/100)**(1/8)-1)*100\n",
    "\n",
    "\n",
    "print(p2_rend)\n",
    "print(p4_rend)\n",
    "\n",
    "plt.figure(figsize=(10,5))\n",
    "plt.subplot(1,2,1)\n",
    "plt.plot(x_rr,y_rr,'.')\n",
    "plt.xlabel('Max loss %')\n",
    "plt.ylabel('Annual interest %')\n",
    "plt.plot(10.6,p2_rend,marker='*',color='orange',markersize=11,label='P2')\n",
    "plt.plot(16.9,p4_rend,marker='*',color='red',markersize=11,label='P4')\n",
    "plt.plot(19.6,p6_rend,marker='*',color='pink',markersize=11,label='P6')\n",
    "#plt.plot(15.33,5.09,marker='*',color='cyan',markersize=11,label='My Portfolio')\n",
    "plt.title('Without Moneyfarm fee (from 2012)')\n",
    "plt.legend()\n",
    "plt.subplot(1,2,2)\n",
    "plt.plot(x_rr,y_rr,'.')\n",
    "plt.xlabel('Max loss %')\n",
    "plt.ylabel('Annual interest %')\n",
    "plt.plot(10.6,p2_rend-costi_mfarm,marker='*',color='orange',markersize=11,label='P2')\n",
    "plt.plot(16.9,p4_rend-costi_mfarm,marker='*',color='red',markersize=11,label='P4')\n",
    "plt.plot(19.6,p6_rend-costi_mfarm,marker='*',color='pink',markersize=11,label='P6')\n",
    "#plt.plot(15.33,5.09-0.07,marker='*',color='cyan',markersize=11,label='My Portfolio')\n",
    "plt.title('With Moneyfarm fee (from 2012)')\n",
    "plt.legend()\n",
    "plt.savefig('output_portfolio/risk-interest.png',dpi=300)\n",
    "plt.show()"
   ]
  },
  {
   "cell_type": "code",
   "execution_count": 22,
   "metadata": {},
   "outputs": [
    {
     "data": {
      "image/png": "[encoded data removed]",
      "text/plain": [
       "<Figure size 432x288 with 1 Axes>"
      ]
     },
     "metadata": {
      "needs_background": "light"
     },
     "output_type": "display_data"
    }
   ],
   "source": [
    "plt.plot(x_rr,y_rr,'.')\n",
    "plt.xlabel('Max loss')\n",
    "plt.ylabel('Annual interest')\n",
    "plt.grid()\n",
    "plt.savefig('output_portfolio/risk-interest-general.png',dpi=300)\n",
    "plt.show()"
   ]
  },
  {
   "cell_type": "code",
   "execution_count": 23,
   "metadata": {},
   "outputs": [],
   "source": [
    "#imposta una massima perdita tollerabile\n",
    "max_perdita=(4861/26500)*100   \n",
    "\n",
    "#df_sub=df_rr[df_rr['max perdita']<=max_perdita]    #togli qui il commento per impostare una perdita massima\n",
    "df_sub=df_rr"
   ]
  },
  {
   "cell_type": "code",
   "execution_count": null,
   "metadata": {},
   "outputs": [],
   "source": []
  },
  {
   "cell_type": "code",
   "execution_count": 24,
   "metadata": {},
   "outputs": [
    {
     "name": "stderr",
     "output_type": "stream",
     "text": [
      "/Users/andreapalladino/anaconda3/lib/python3.6/site-packages/ipykernel_launcher.py:1: FutureWarning: \n",
      "The current behaviour of 'Series.argmax' is deprecated, use 'idxmax'\n",
      "instead.\n",
      "The behavior of 'argmax' will be corrected to return the positional\n",
      "maximum in the future. For now, use 'series.values.argmax' or\n",
      "'np.argmax(np.array(values))' to get the position of the maximum\n",
      "row.\n",
      "  \"\"\"Entry point for launching an IPython kernel.\n"
     ]
    },
    {
     "data": {
      "text/plain": [
       "ID                     1000.0000\n",
       "rendimento                7.6900\n",
       "max perdita              30.7700\n",
       "anni per recuperare       4.0013\n",
       "Msci                    100.0000\n",
       "Emergenti                 0.0000\n",
       "EUBond                    0.0000\n",
       "CorporateBond             0.0000\n",
       "Gold                      0.0000\n",
       "Name: 1000, dtype: float64"
      ]
     },
     "execution_count": 24,
     "metadata": {},
     "output_type": "execute_result"
    }
   ],
   "source": [
    "pos_max=df_sub['rendimento'].argmax()\n",
    "df_sub.loc[pos_max]"
   ]
  },
  {
   "cell_type": "code",
   "execution_count": 25,
   "metadata": {},
   "outputs": [],
   "source": [
    "df_sub_sorted=df_sub.sort_values(by='rendimento',ascending=False)\n",
    "#df_sub_sorted=df_sub.sort_values(by='max perdita',ascending=True)\n",
    "#df_sub_sorted=df_sub.sort_values(by='anni per recuperare',ascending=True)\n",
    "\n",
    "\n",
    "# THIS SHOWS ONLY PORTOFLIO WITH ALL 5 ETFS\n",
    "\n",
    "#mask_subdf=(df_sub_sorted[['Msci','Emergenti','EUBond','CorporateBond','Gold']]!=0).sum(axis=1)==5\n",
    "#mask_subdf=(df_sub_sorted[['Gold']]).sum(axis=1)==5\n",
    "#df_sub_sorted=df_sub_sorted.loc[mask_subdf,:]\n",
    "#df_sub_sorted.iloc[0,[1,2]]"
   ]
  },
  {
   "cell_type": "code",
   "execution_count": 26,
   "metadata": {},
   "outputs": [],
   "source": [
    "# inserisco la massima perdita del 2020\n",
    "\n",
    "#portafogli_scelti=np.array(df_sub_sorted[['Msci','EUBond','Gold']])\n",
    "#perdita2020=[]\n",
    "\n",
    "#for i in portafogli_scelti:\n",
    "#    perdita2020.append(rischio_rendimento(i,start='2020',end='2020-05')[1])\n",
    "    \n",
    "#df_sub_sorted['max perdita 2020']=perdita2020"
   ]
  },
  {
   "cell_type": "code",
   "execution_count": 27,
   "metadata": {},
   "outputs": [
    {
     "data": {
      "text/html": [
       "<div>\n",
       "<style scoped>\n",
       "    .dataframe tbody tr th:only-of-type {\n",
       "        vertical-align: middle;\n",
       "    }\n",
       "\n",
       "    .dataframe tbody tr th {\n",
       "        vertical-align: top;\n",
       "    }\n",
       "\n",
       "    .dataframe thead th {\n",
       "        text-align: right;\n",
       "    }\n",
       "</style>\n",
       "<table border=\"1\" class=\"dataframe\">\n",
       "  <thead>\n",
       "    <tr style=\"text-align: right;\">\n",
       "      <th></th>\n",
       "      <th>ID</th>\n",
       "      <th>rendimento</th>\n",
       "      <th>max perdita</th>\n",
       "      <th>anni per recuperare</th>\n",
       "      <th>Msci</th>\n",
       "      <th>Emergenti</th>\n",
       "      <th>EUBond</th>\n",
       "      <th>CorporateBond</th>\n",
       "      <th>Gold</th>\n",
       "    </tr>\n",
       "  </thead>\n",
       "  <tbody>\n",
       "    <tr>\n",
       "      <th>1000</th>\n",
       "      <td>1000</td>\n",
       "      <td>7.69</td>\n",
       "      <td>30.77</td>\n",
       "      <td>4.001300</td>\n",
       "      <td>100.0</td>\n",
       "      <td>0.0</td>\n",
       "      <td>0.0</td>\n",
       "      <td>0.0</td>\n",
       "      <td>0.0</td>\n",
       "    </tr>\n",
       "    <tr>\n",
       "      <th>998</th>\n",
       "      <td>998</td>\n",
       "      <td>7.41</td>\n",
       "      <td>28.17</td>\n",
       "      <td>3.801619</td>\n",
       "      <td>90.0</td>\n",
       "      <td>0.0</td>\n",
       "      <td>10.0</td>\n",
       "      <td>0.0</td>\n",
       "      <td>0.0</td>\n",
       "    </tr>\n",
       "    <tr>\n",
       "      <th>997</th>\n",
       "      <td>997</td>\n",
       "      <td>7.20</td>\n",
       "      <td>29.11</td>\n",
       "      <td>4.043056</td>\n",
       "      <td>90.0</td>\n",
       "      <td>0.0</td>\n",
       "      <td>0.0</td>\n",
       "      <td>10.0</td>\n",
       "      <td>0.0</td>\n",
       "    </tr>\n",
       "    <tr>\n",
       "      <th>991</th>\n",
       "      <td>991</td>\n",
       "      <td>7.11</td>\n",
       "      <td>25.58</td>\n",
       "      <td>3.597750</td>\n",
       "      <td>80.0</td>\n",
       "      <td>0.0</td>\n",
       "      <td>20.0</td>\n",
       "      <td>0.0</td>\n",
       "      <td>0.0</td>\n",
       "    </tr>\n",
       "    <tr>\n",
       "      <th>999</th>\n",
       "      <td>999</td>\n",
       "      <td>7.10</td>\n",
       "      <td>30.70</td>\n",
       "      <td>4.323944</td>\n",
       "      <td>90.0</td>\n",
       "      <td>10.0</td>\n",
       "      <td>0.0</td>\n",
       "      <td>0.0</td>\n",
       "      <td>0.0</td>\n",
       "    </tr>\n",
       "    <tr>\n",
       "      <th>996</th>\n",
       "      <td>996</td>\n",
       "      <td>6.95</td>\n",
       "      <td>28.43</td>\n",
       "      <td>4.090647</td>\n",
       "      <td>90.0</td>\n",
       "      <td>0.0</td>\n",
       "      <td>0.0</td>\n",
       "      <td>0.0</td>\n",
       "      <td>10.0</td>\n",
       "    </tr>\n",
       "    <tr>\n",
       "      <th>990</th>\n",
       "      <td>990</td>\n",
       "      <td>6.91</td>\n",
       "      <td>26.51</td>\n",
       "      <td>3.836469</td>\n",
       "      <td>80.0</td>\n",
       "      <td>0.0</td>\n",
       "      <td>10.0</td>\n",
       "      <td>10.0</td>\n",
       "      <td>0.0</td>\n",
       "    </tr>\n",
       "    <tr>\n",
       "      <th>994</th>\n",
       "      <td>994</td>\n",
       "      <td>6.82</td>\n",
       "      <td>28.09</td>\n",
       "      <td>4.118768</td>\n",
       "      <td>80.0</td>\n",
       "      <td>10.0</td>\n",
       "      <td>10.0</td>\n",
       "      <td>0.0</td>\n",
       "      <td>0.0</td>\n",
       "    </tr>\n",
       "    <tr>\n",
       "      <th>975</th>\n",
       "      <td>975</td>\n",
       "      <td>6.80</td>\n",
       "      <td>22.98</td>\n",
       "      <td>3.379412</td>\n",
       "      <td>70.0</td>\n",
       "      <td>0.0</td>\n",
       "      <td>30.0</td>\n",
       "      <td>0.0</td>\n",
       "      <td>0.0</td>\n",
       "    </tr>\n",
       "    <tr>\n",
       "      <th>988</th>\n",
       "      <td>988</td>\n",
       "      <td>6.71</td>\n",
       "      <td>27.44</td>\n",
       "      <td>4.089419</td>\n",
       "      <td>80.0</td>\n",
       "      <td>0.0</td>\n",
       "      <td>0.0</td>\n",
       "      <td>20.0</td>\n",
       "      <td>0.0</td>\n",
       "    </tr>\n",
       "    <tr>\n",
       "      <th>989</th>\n",
       "      <td>989</td>\n",
       "      <td>6.65</td>\n",
       "      <td>25.83</td>\n",
       "      <td>3.884211</td>\n",
       "      <td>80.0</td>\n",
       "      <td>0.0</td>\n",
       "      <td>10.0</td>\n",
       "      <td>0.0</td>\n",
       "      <td>10.0</td>\n",
       "    </tr>\n",
       "    <tr>\n",
       "      <th>993</th>\n",
       "      <td>993</td>\n",
       "      <td>6.62</td>\n",
       "      <td>29.03</td>\n",
       "      <td>4.385196</td>\n",
       "      <td>80.0</td>\n",
       "      <td>10.0</td>\n",
       "      <td>0.0</td>\n",
       "      <td>10.0</td>\n",
       "      <td>0.0</td>\n",
       "    </tr>\n",
       "    <tr>\n",
       "      <th>974</th>\n",
       "      <td>974</td>\n",
       "      <td>6.60</td>\n",
       "      <td>23.91</td>\n",
       "      <td>3.622727</td>\n",
       "      <td>70.0</td>\n",
       "      <td>0.0</td>\n",
       "      <td>20.0</td>\n",
       "      <td>10.0</td>\n",
       "      <td>0.0</td>\n",
       "    </tr>\n",
       "    <tr>\n",
       "      <th>981</th>\n",
       "      <td>981</td>\n",
       "      <td>6.52</td>\n",
       "      <td>25.49</td>\n",
       "      <td>3.909509</td>\n",
       "      <td>70.0</td>\n",
       "      <td>10.0</td>\n",
       "      <td>20.0</td>\n",
       "      <td>0.0</td>\n",
       "      <td>0.0</td>\n",
       "    </tr>\n",
       "    <tr>\n",
       "      <th>995</th>\n",
       "      <td>995</td>\n",
       "      <td>6.50</td>\n",
       "      <td>30.62</td>\n",
       "      <td>4.710769</td>\n",
       "      <td>80.0</td>\n",
       "      <td>20.0</td>\n",
       "      <td>0.0</td>\n",
       "      <td>0.0</td>\n",
       "      <td>0.0</td>\n",
       "    </tr>\n",
       "    <tr>\n",
       "      <th>945</th>\n",
       "      <td>945</td>\n",
       "      <td>6.47</td>\n",
       "      <td>20.39</td>\n",
       "      <td>3.151468</td>\n",
       "      <td>60.0</td>\n",
       "      <td>0.0</td>\n",
       "      <td>40.0</td>\n",
       "      <td>0.0</td>\n",
       "      <td>0.0</td>\n",
       "    </tr>\n",
       "    <tr>\n",
       "      <th>987</th>\n",
       "      <td>987</td>\n",
       "      <td>6.44</td>\n",
       "      <td>26.76</td>\n",
       "      <td>4.155280</td>\n",
       "      <td>80.0</td>\n",
       "      <td>0.0</td>\n",
       "      <td>0.0</td>\n",
       "      <td>10.0</td>\n",
       "      <td>10.0</td>\n",
       "    </tr>\n",
       "    <tr>\n",
       "      <th>972</th>\n",
       "      <td>972</td>\n",
       "      <td>6.40</td>\n",
       "      <td>24.84</td>\n",
       "      <td>3.881250</td>\n",
       "      <td>70.0</td>\n",
       "      <td>0.0</td>\n",
       "      <td>10.0</td>\n",
       "      <td>20.0</td>\n",
       "      <td>0.0</td>\n",
       "    </tr>\n",
       "    <tr>\n",
       "      <th>992</th>\n",
       "      <td>992</td>\n",
       "      <td>6.35</td>\n",
       "      <td>28.35</td>\n",
       "      <td>4.464567</td>\n",
       "      <td>80.0</td>\n",
       "      <td>10.0</td>\n",
       "      <td>0.0</td>\n",
       "      <td>0.0</td>\n",
       "      <td>10.0</td>\n",
       "    </tr>\n",
       "    <tr>\n",
       "      <th>973</th>\n",
       "      <td>973</td>\n",
       "      <td>6.33</td>\n",
       "      <td>23.24</td>\n",
       "      <td>3.671406</td>\n",
       "      <td>70.0</td>\n",
       "      <td>0.0</td>\n",
       "      <td>20.0</td>\n",
       "      <td>0.0</td>\n",
       "      <td>10.0</td>\n",
       "    </tr>\n",
       "  </tbody>\n",
       "</table>\n",
       "</div>"
      ],
      "text/plain": [
       "        ID  rendimento  max perdita  anni per recuperare   Msci  Emergenti  \\\n",
       "1000  1000        7.69        30.77             4.001300  100.0        0.0   \n",
       "998    998        7.41        28.17             3.801619   90.0        0.0   \n",
       "997    997        7.20        29.11             4.043056   90.0        0.0   \n",
       "991    991        7.11        25.58             3.597750   80.0        0.0   \n",
       "999    999        7.10        30.70             4.323944   90.0       10.0   \n",
       "996    996        6.95        28.43             4.090647   90.0        0.0   \n",
       "990    990        6.91        26.51             3.836469   80.0        0.0   \n",
       "994    994        6.82        28.09             4.118768   80.0       10.0   \n",
       "975    975        6.80        22.98             3.379412   70.0        0.0   \n",
       "988    988        6.71        27.44             4.089419   80.0        0.0   \n",
       "989    989        6.65        25.83             3.884211   80.0        0.0   \n",
       "993    993        6.62        29.03             4.385196   80.0       10.0   \n",
       "974    974        6.60        23.91             3.622727   70.0        0.0   \n",
       "981    981        6.52        25.49             3.909509   70.0       10.0   \n",
       "995    995        6.50        30.62             4.710769   80.0       20.0   \n",
       "945    945        6.47        20.39             3.151468   60.0        0.0   \n",
       "987    987        6.44        26.76             4.155280   80.0        0.0   \n",
       "972    972        6.40        24.84             3.881250   70.0        0.0   \n",
       "992    992        6.35        28.35             4.464567   80.0       10.0   \n",
       "973    973        6.33        23.24             3.671406   70.0        0.0   \n",
       "\n",
       "      EUBond  CorporateBond  Gold  \n",
       "1000     0.0            0.0   0.0  \n",
       "998     10.0            0.0   0.0  \n",
       "997      0.0           10.0   0.0  \n",
       "991     20.0            0.0   0.0  \n",
       "999      0.0            0.0   0.0  \n",
       "996      0.0            0.0  10.0  \n",
       "990     10.0           10.0   0.0  \n",
       "994     10.0            0.0   0.0  \n",
       "975     30.0            0.0   0.0  \n",
       "988      0.0           20.0   0.0  \n",
       "989     10.0            0.0  10.0  \n",
       "993      0.0           10.0   0.0  \n",
       "974     20.0           10.0   0.0  \n",
       "981     20.0            0.0   0.0  \n",
       "995      0.0            0.0   0.0  \n",
       "945     40.0            0.0   0.0  \n",
       "987      0.0           10.0  10.0  \n",
       "972     10.0           20.0   0.0  \n",
       "992      0.0            0.0  10.0  \n",
       "973     20.0            0.0  10.0  "
      ]
     },
     "execution_count": 27,
     "metadata": {},
     "output_type": "execute_result"
    }
   ],
   "source": [
    "# mostra i portafogli con la massima perdita tollerabile, ordinate per rendimento\n",
    "\n",
    "df_sub_sorted.head(20)"
   ]
  },
  {
   "cell_type": "markdown",
   "metadata": {},
   "source": [
    "### massimo rendimento e minima perdita"
   ]
  },
  {
   "cell_type": "code",
   "execution_count": 28,
   "metadata": {},
   "outputs": [],
   "source": [
    "def maxrend_minperd(perdmin,perdmax):\n",
    "    df_rendpend=df_sub_sorted.loc[(df_sub_sorted['max perdita']>=perdmin) &(df_sub_sorted['max perdita']<perdmax)]\n",
    "    rendimento=np.round(df_rendpend.sort_values(by='rendimento',ascending=False).iloc[0,1],2)\n",
    "    portafoglio=np.array(df_rendpend.sort_values(by='rendimento',ascending=False).iloc[0,4:])\n",
    "    return (rendimento,portafoglio)"
   ]
  },
  {
   "cell_type": "code",
   "execution_count": 29,
   "metadata": {},
   "outputs": [
    {
     "data": {
      "text/plain": [
       "\"\\n\\nlista_rend_perd=[]\\n\\n#portafogli_range=np.linspace(6,30,8)\\nportafogli_range=np.linspace(5.46,30.78,8)\\n\\nfor i in range(len(portafogli_range)-1):\\n    #print(i,maxrend_minperd(i,i+1))\\n    peppino=maxrend_minperd(portafogli_range[i],portafogli_range[i+1])\\n    print(np.round(portafogli_range[i],2),'--',np.round(portafogli_range[i+1],2),peppino,rischio_rendimento(peppino[1])[1])\\n    lista_rend_perd.append([i+1,peppino[0],rischio_rendimento(peppino[1])[1]])\\n\\nlista_rend_perd=np.array(lista_rend_perd)\\nlista_rend_perd_gold5=np.array([[ 1        ,  4.41      ],[ 2,  4.83      ],[3,  5.09      ],[4,  5.42      ],\\n[5,  5.7       ],[6,  5.86      ],[7,  6.04      ]])\\n\\nplt.subplot(2,1,1)\\nplt.bar(lista_rend_perd[:,0],lista_rend_perd[:,1],color='green')\\nplt.xlabel('N. Portafoglio')\\nplt.ylabel('Rendimento annualizzato %')\\nplt.ylim(2,9)\\nplt.grid()\\nplt.subplot(2,1,2)\\nplt.bar(lista_rend_perd[:,0],-lista_rend_perd[:,2],color='red')\\n#plt.bar(lista_rend_perd_gold5[:,0],lista_rend_perd_gold5[:,1],label='With gold 5%')\\nplt.xlabel('N. Portafoglio')\\nplt.ylabel('Massima perdita %')\\nplt.grid()\\nplt.ylim(-5,-35)\\n#plt.ylim(3,7)\\n#plt.legend()\\nplt.tight_layout()\\nplt.savefig('output_portfolio/rend-perdita.png',dpi=300)\\nplt.show()\\n\\n\""
      ]
     },
     "execution_count": 29,
     "metadata": {},
     "output_type": "execute_result"
    }
   ],
   "source": [
    "'''\n",
    "\n",
    "lista_rend_perd=[]\n",
    "\n",
    "#portafogli_range=np.linspace(6,30,8)\n",
    "portafogli_range=np.linspace(5.46,30.78,8)\n",
    "\n",
    "for i in range(len(portafogli_range)-1):\n",
    "    #print(i,maxrend_minperd(i,i+1))\n",
    "    peppino=maxrend_minperd(portafogli_range[i],portafogli_range[i+1])\n",
    "    print(np.round(portafogli_range[i],2),'--',np.round(portafogli_range[i+1],2),peppino,rischio_rendimento(peppino[1])[1])\n",
    "    lista_rend_perd.append([i+1,peppino[0],rischio_rendimento(peppino[1])[1]])\n",
    "\n",
    "lista_rend_perd=np.array(lista_rend_perd)\n",
    "lista_rend_perd_gold5=np.array([[ 1        ,  4.41      ],[ 2,  4.83      ],[3,  5.09      ],[4,  5.42      ],\n",
    "[5,  5.7       ],[6,  5.86      ],[7,  6.04      ]])\n",
    "\n",
    "plt.subplot(2,1,1)\n",
    "plt.bar(lista_rend_perd[:,0],lista_rend_perd[:,1],color='green')\n",
    "plt.xlabel('N. Portafoglio')\n",
    "plt.ylabel('Rendimento annualizzato %')\n",
    "plt.ylim(2,9)\n",
    "plt.grid()\n",
    "plt.subplot(2,1,2)\n",
    "plt.bar(lista_rend_perd[:,0],-lista_rend_perd[:,2],color='red')\n",
    "#plt.bar(lista_rend_perd_gold5[:,0],lista_rend_perd_gold5[:,1],label='With gold 5%')\n",
    "plt.xlabel('N. Portafoglio')\n",
    "plt.ylabel('Massima perdita %')\n",
    "plt.grid()\n",
    "plt.ylim(-5,-35)\n",
    "#plt.ylim(3,7)\n",
    "#plt.legend()\n",
    "plt.tight_layout()\n",
    "plt.savefig('output_portfolio/rend-perdita.png',dpi=300)\n",
    "plt.show()\n",
    "\n",
    "'''"
   ]
  },
  {
   "cell_type": "code",
   "execution_count": 30,
   "metadata": {},
   "outputs": [],
   "source": [
    "#for i in range(15):\n",
    "#    df=import_data(['IWDE.MI','IEEM.MI','XGLE.MI','IBCX.MI','XAD1.MI'])   \n",
    "#    df.columns=['Msci','Emergenti','EUBond','CorporateLargeCup','Gold']\n",
    "#    print(df.iloc[-1,:])\n",
    "#    time.sleep(60)"
   ]
  },
  {
   "cell_type": "markdown",
   "metadata": {},
   "source": [
    "### rendimenti pre crisi - perdita durante crisi  (con 20% di quota a rischio (azionaria) in oro)"
   ]
  },
  {
   "cell_type": "code",
   "execution_count": 31,
   "metadata": {},
   "outputs": [],
   "source": [
    "def rend_rischio_crisi(x):\n",
    "    costi=0.4\n",
    "    rendimento=round(rischio_rendimento([x*0.8,100-x,x*0.2],start='2012',end='2020-02-22',nomietf=['Msci','EUBond','Gold'])[0]-costi,2)\n",
    "    rischio=rischio_rendimento([x*0.8,100-x,x*0.2],start='2020',end='2020-05',nomietf=['Msci','EUBond','Gold'])[1]\n",
    "    return rendimento,rischio\n",
    "\n",
    "rend_rischio_crisi_vec=np.vectorize(rend_rischio_crisi)"
   ]
  },
  {
   "cell_type": "code",
   "execution_count": 38,
   "metadata": {},
   "outputs": [
    {
     "data": {
      "image/png": "[encoded data removed]",
      "text/plain": [
       "<Figure size 720x360 with 2 Axes>"
      ]
     },
     "metadata": {
      "needs_background": "light"
     },
     "output_type": "display_data"
    }
   ],
   "source": [
    "xgrid=np.arange(0,21,1)\n",
    "ygridpos=rend_rischio_crisi_vec(xgrid*5)[0]\n",
    "ygridneg=rend_rischio_crisi_vec(xgrid*5)[1]\n",
    "\n",
    "plt.figure(figsize=(10,5))\n",
    "plt.subplot(2,1,1)\n",
    "plt.bar(xgrid,ygridpos,color='green')\n",
    "plt.xlabel('Quota a rischio %')\n",
    "plt.ylabel('Rend. annualizzato %')\n",
    "plt.xticks(np.arange(0,21,1),np.arange(0,105,5))\n",
    "plt.ylim(3,9)\n",
    "plt.title('Rendimento dal 2012 (crisi esclusa)')\n",
    "plt.grid()\n",
    "plt.subplot(2,1,2)\n",
    "plt.bar(xgrid,-ygridneg,color='red')\n",
    "#plt.bar(lista_rend_perd_gold5[:,0],lista_rend_perd_gold5[:,1],label='With gold 5%')\n",
    "plt.xlabel('Quota a rischio %')\n",
    "plt.ylabel('Massima perdita %')\n",
    "plt.title('Perdita durante crisi 2020')\n",
    "plt.grid()\n",
    "plt.xticks(np.arange(0,21,1),np.arange(0,105,5))\n",
    "plt.ylim(-5,-30)\n",
    "#plt.ylim(3,7)\n",
    "#plt.legend()\n",
    "plt.tight_layout()\n",
    "plt.savefig('output_portfolio/rend-perdita2.png',dpi=300)\n",
    "plt.show()"
   ]
  },
  {
   "cell_type": "code",
   "execution_count": 35,
   "metadata": {},
   "outputs": [
    {
     "data": {
      "text/html": [
       "<div>\n",
       "<style scoped>\n",
       "    .dataframe tbody tr th:only-of-type {\n",
       "        vertical-align: middle;\n",
       "    }\n",
       "\n",
       "    .dataframe tbody tr th {\n",
       "        vertical-align: top;\n",
       "    }\n",
       "\n",
       "    .dataframe thead th {\n",
       "        text-align: right;\n",
       "    }\n",
       "</style>\n",
       "<table border=\"1\" class=\"dataframe\">\n",
       "  <thead>\n",
       "    <tr style=\"text-align: right;\">\n",
       "      <th></th>\n",
       "      <th>Quota a rischio %</th>\n",
       "      <th>Quota azionaria %</th>\n",
       "      <th>Oro %</th>\n",
       "      <th>Quota obbligazionaria %</th>\n",
       "      <th>Rendimento dal 2015-03 (crisi esclusa) %</th>\n",
       "      <th>Perdita nel 2020 %</th>\n",
       "    </tr>\n",
       "  </thead>\n",
       "  <tbody>\n",
       "    <tr>\n",
       "      <th>0</th>\n",
       "      <td>0</td>\n",
       "      <td>0.0</td>\n",
       "      <td>0.0</td>\n",
       "      <td>100</td>\n",
       "      <td>4.58</td>\n",
       "      <td>6.12</td>\n",
       "    </tr>\n",
       "    <tr>\n",
       "      <th>1</th>\n",
       "      <td>5</td>\n",
       "      <td>4.0</td>\n",
       "      <td>1.0</td>\n",
       "      <td>95</td>\n",
       "      <td>4.77</td>\n",
       "      <td>6.49</td>\n",
       "    </tr>\n",
       "    <tr>\n",
       "      <th>2</th>\n",
       "      <td>10</td>\n",
       "      <td>8.0</td>\n",
       "      <td>2.0</td>\n",
       "      <td>90</td>\n",
       "      <td>4.96</td>\n",
       "      <td>7.25</td>\n",
       "    </tr>\n",
       "    <tr>\n",
       "      <th>3</th>\n",
       "      <td>15</td>\n",
       "      <td>12.0</td>\n",
       "      <td>3.0</td>\n",
       "      <td>85</td>\n",
       "      <td>5.16</td>\n",
       "      <td>8.28</td>\n",
       "    </tr>\n",
       "    <tr>\n",
       "      <th>4</th>\n",
       "      <td>20</td>\n",
       "      <td>16.0</td>\n",
       "      <td>4.0</td>\n",
       "      <td>80</td>\n",
       "      <td>5.34</td>\n",
       "      <td>9.31</td>\n",
       "    </tr>\n",
       "    <tr>\n",
       "      <th>5</th>\n",
       "      <td>25</td>\n",
       "      <td>20.0</td>\n",
       "      <td>5.0</td>\n",
       "      <td>75</td>\n",
       "      <td>5.53</td>\n",
       "      <td>10.34</td>\n",
       "    </tr>\n",
       "    <tr>\n",
       "      <th>6</th>\n",
       "      <td>30</td>\n",
       "      <td>24.0</td>\n",
       "      <td>6.0</td>\n",
       "      <td>70</td>\n",
       "      <td>5.71</td>\n",
       "      <td>11.37</td>\n",
       "    </tr>\n",
       "    <tr>\n",
       "      <th>7</th>\n",
       "      <td>35</td>\n",
       "      <td>28.0</td>\n",
       "      <td>7.0</td>\n",
       "      <td>65</td>\n",
       "      <td>5.90</td>\n",
       "      <td>12.39</td>\n",
       "    </tr>\n",
       "    <tr>\n",
       "      <th>8</th>\n",
       "      <td>40</td>\n",
       "      <td>32.0</td>\n",
       "      <td>8.0</td>\n",
       "      <td>60</td>\n",
       "      <td>6.07</td>\n",
       "      <td>13.43</td>\n",
       "    </tr>\n",
       "    <tr>\n",
       "      <th>9</th>\n",
       "      <td>45</td>\n",
       "      <td>36.0</td>\n",
       "      <td>9.0</td>\n",
       "      <td>55</td>\n",
       "      <td>6.25</td>\n",
       "      <td>14.50</td>\n",
       "    </tr>\n",
       "    <tr>\n",
       "      <th>10</th>\n",
       "      <td>50</td>\n",
       "      <td>40.0</td>\n",
       "      <td>10.0</td>\n",
       "      <td>50</td>\n",
       "      <td>6.42</td>\n",
       "      <td>15.56</td>\n",
       "    </tr>\n",
       "    <tr>\n",
       "      <th>11</th>\n",
       "      <td>55</td>\n",
       "      <td>44.0</td>\n",
       "      <td>11.0</td>\n",
       "      <td>45</td>\n",
       "      <td>6.60</td>\n",
       "      <td>16.62</td>\n",
       "    </tr>\n",
       "    <tr>\n",
       "      <th>12</th>\n",
       "      <td>60</td>\n",
       "      <td>48.0</td>\n",
       "      <td>12.0</td>\n",
       "      <td>40</td>\n",
       "      <td>6.76</td>\n",
       "      <td>17.68</td>\n",
       "    </tr>\n",
       "    <tr>\n",
       "      <th>13</th>\n",
       "      <td>65</td>\n",
       "      <td>52.0</td>\n",
       "      <td>13.0</td>\n",
       "      <td>35</td>\n",
       "      <td>6.93</td>\n",
       "      <td>18.74</td>\n",
       "    </tr>\n",
       "    <tr>\n",
       "      <th>14</th>\n",
       "      <td>70</td>\n",
       "      <td>56.0</td>\n",
       "      <td>14.0</td>\n",
       "      <td>30</td>\n",
       "      <td>7.09</td>\n",
       "      <td>19.80</td>\n",
       "    </tr>\n",
       "    <tr>\n",
       "      <th>15</th>\n",
       "      <td>75</td>\n",
       "      <td>60.0</td>\n",
       "      <td>15.0</td>\n",
       "      <td>25</td>\n",
       "      <td>7.26</td>\n",
       "      <td>20.86</td>\n",
       "    </tr>\n",
       "    <tr>\n",
       "      <th>16</th>\n",
       "      <td>80</td>\n",
       "      <td>64.0</td>\n",
       "      <td>16.0</td>\n",
       "      <td>20</td>\n",
       "      <td>7.42</td>\n",
       "      <td>21.91</td>\n",
       "    </tr>\n",
       "    <tr>\n",
       "      <th>17</th>\n",
       "      <td>85</td>\n",
       "      <td>68.0</td>\n",
       "      <td>17.0</td>\n",
       "      <td>15</td>\n",
       "      <td>7.57</td>\n",
       "      <td>22.96</td>\n",
       "    </tr>\n",
       "    <tr>\n",
       "      <th>18</th>\n",
       "      <td>90</td>\n",
       "      <td>72.0</td>\n",
       "      <td>18.0</td>\n",
       "      <td>10</td>\n",
       "      <td>7.73</td>\n",
       "      <td>24.01</td>\n",
       "    </tr>\n",
       "    <tr>\n",
       "      <th>19</th>\n",
       "      <td>95</td>\n",
       "      <td>76.0</td>\n",
       "      <td>19.0</td>\n",
       "      <td>5</td>\n",
       "      <td>7.88</td>\n",
       "      <td>25.06</td>\n",
       "    </tr>\n",
       "    <tr>\n",
       "      <th>20</th>\n",
       "      <td>100</td>\n",
       "      <td>80.0</td>\n",
       "      <td>20.0</td>\n",
       "      <td>0</td>\n",
       "      <td>8.03</td>\n",
       "      <td>26.11</td>\n",
       "    </tr>\n",
       "  </tbody>\n",
       "</table>\n",
       "</div>"
      ],
      "text/plain": [
       "    Quota a rischio %  Quota azionaria %  Oro %  Quota obbligazionaria %  \\\n",
       "0                   0                0.0    0.0                      100   \n",
       "1                   5                4.0    1.0                       95   \n",
       "2                  10                8.0    2.0                       90   \n",
       "3                  15               12.0    3.0                       85   \n",
       "4                  20               16.0    4.0                       80   \n",
       "5                  25               20.0    5.0                       75   \n",
       "6                  30               24.0    6.0                       70   \n",
       "7                  35               28.0    7.0                       65   \n",
       "8                  40               32.0    8.0                       60   \n",
       "9                  45               36.0    9.0                       55   \n",
       "10                 50               40.0   10.0                       50   \n",
       "11                 55               44.0   11.0                       45   \n",
       "12                 60               48.0   12.0                       40   \n",
       "13                 65               52.0   13.0                       35   \n",
       "14                 70               56.0   14.0                       30   \n",
       "15                 75               60.0   15.0                       25   \n",
       "16                 80               64.0   16.0                       20   \n",
       "17                 85               68.0   17.0                       15   \n",
       "18                 90               72.0   18.0                       10   \n",
       "19                 95               76.0   19.0                        5   \n",
       "20                100               80.0   20.0                        0   \n",
       "\n",
       "    Rendimento dal 2015-03 (crisi esclusa) %  Perdita nel 2020 %  \n",
       "0                                       4.58                6.12  \n",
       "1                                       4.77                6.49  \n",
       "2                                       4.96                7.25  \n",
       "3                                       5.16                8.28  \n",
       "4                                       5.34                9.31  \n",
       "5                                       5.53               10.34  \n",
       "6                                       5.71               11.37  \n",
       "7                                       5.90               12.39  \n",
       "8                                       6.07               13.43  \n",
       "9                                       6.25               14.50  \n",
       "10                                      6.42               15.56  \n",
       "11                                      6.60               16.62  \n",
       "12                                      6.76               17.68  \n",
       "13                                      6.93               18.74  \n",
       "14                                      7.09               19.80  \n",
       "15                                      7.26               20.86  \n",
       "16                                      7.42               21.91  \n",
       "17                                      7.57               22.96  \n",
       "18                                      7.73               24.01  \n",
       "19                                      7.88               25.06  \n",
       "20                                      8.03               26.11  "
      ]
     },
     "execution_count": 35,
     "metadata": {},
     "output_type": "execute_result"
    }
   ],
   "source": [
    "df_rend=pd.DataFrame(xgrid*5,columns=['Quota a rischio %'])\n",
    "\n",
    "df_rend['Quota azionaria %']=(xgrid*5)*0.8\n",
    "df_rend['Oro %']=xgrid*5*0.2\n",
    "df_rend['Quota obbligazionaria %']=100-xgrid*5\n",
    "\n",
    "df_rend['Rendimento dal 2015-03 (crisi esclusa) %']=ygridpos\n",
    "df_rend['Perdita nel 2020 %']=ygridneg\n",
    "\n",
    "df_rend"
   ]
  },
  {
   "cell_type": "code",
   "execution_count": null,
   "metadata": {
    "scrolled": true
   },
   "outputs": [],
   "source": []
  }
 ],
 "metadata": {
  "kernelspec": {
   "display_name": "Python 3",
   "language": "python",
   "name": "python3"
  },
  "language_info": {
   "codemirror_mode": {
    "name": "ipython",
    "version": 3
   },
   "file_extension": ".py",
   "mimetype": "text/x-python",
   "name": "python",
   "nbconvert_exporter": "python",
   "pygments_lexer": "ipython3",
   "version": "3.6.10"
  }
 },
 "nbformat": 4,
 "nbformat_minor": 2
}
