{
 "cells": [
  {
   "cell_type": "code",
   "execution_count": 15,
   "metadata": {},
   "outputs": [],
   "source": [
    "import numpy as np\n",
    "import matplotlib.pyplot as plt\n",
    "import pandas as pd\n",
    "from pandas_datareader import data\n",
    "import datetime as dt\n",
    "import pandas_datareader.data as web\n",
    "import time"
   ]
  },
  {
   "cell_type": "markdown",
   "metadata": {},
   "source": [
    "### importazione dati"
   ]
  },
  {
   "cell_type": "code",
   "execution_count": 16,
   "metadata": {},
   "outputs": [],
   "source": [
    "def import_data(name,source='yahoo'):    \n",
    "    start = dt.datetime(1920, 1, 1, 0, 0)\n",
    "    end = dt.datetime.now()\n",
    "    df = web.DataReader(name, source, start, end)\n",
    "    #Symbol = 'High'\n",
    "    df.reset_index(inplace=True)\n",
    "    df.set_index(\"Date\", inplace=True)\n",
    "    df = df.drop(['Low','Open','Adj Close','High','Volume'],axis='columns')\n",
    "    return df"
   ]
  },
  {
   "cell_type": "code",
   "execution_count": 17,
   "metadata": {},
   "outputs": [],
   "source": [
    "# LISTA ETF\n",
    "\n",
    "#df=import_data(['IWDE.MI','EQQQ.MI','IUSE.MI','XGLE.MI','IBCI.MI','XBLC.MI','XAD1.MI','IMIB.MI','C50.MI','IEEM.MI','IBCX.MI'])   #portafoglio JUSTETF\n",
    "#df.columns=['Msci','Nasdaq','SP500','EUBond','InflationBond','CorporateBond','Gold','FTSEMib','EUSTOX50','Emergenti','CorporateLargeCup']\n",
    "#df=df.fillna(method='ffill')\n",
    "\n",
    "# LISTA ETF FRATERZ\n",
    "\n",
    "#df=import_data(['LCJP.MI','JREM.L','UST.PA','CS51.L','IHYU.MI'])\n",
    "#df.columns=['IWDE.MI','IUSE.MI','XGLE.MI','IBCI.MI','XBLC.MI','XAD1.MI']"
   ]
  },
  {
   "cell_type": "code",
   "execution_count": 18,
   "metadata": {},
   "outputs": [],
   "source": [
    "# LISTA ETF SECONDO PORTAFOGLIO JUSTETF\n",
    "\n",
    "#df=import_data(['IWDE.MI','IUSE.MI','IEEM.MI','XGLE.MI','IHYG.MI','EMBE.MI','XAD1.MI'])   \n",
    "#df.columns=['Msci','SP500','Emergenti','EUBond','HighYieldBond','EmergingBond','Gold']\n",
    "\n",
    "#df=import_data(['IMEU.MI','INAA.MI','IEEM.MI','XMJP.MI','CSPXJ.MI','XAD1.MI'])\n",
    "#df.columns=['Europa','America','Emergenti','Giappone','Asia-Pacifico','Oro']\n",
    "\n",
    "df=import_data(['IWDE.MI','IEEM.MI','XGLE.MI','XBLC.MI','XAD1.MI']) \n",
    "df.columns=['Msci','Emergenti','EUBond','CorporateBond','Gold']\n",
    "\n",
    "df=df.fillna(method='ffill')"
   ]
  },
  {
   "cell_type": "code",
   "execution_count": 19,
   "metadata": {},
   "outputs": [
    {
     "data": {
      "text/html": [
       "<div>\n",
       "<style scoped>\n",
       "    .dataframe tbody tr th:only-of-type {\n",
       "        vertical-align: middle;\n",
       "    }\n",
       "\n",
       "    .dataframe tbody tr th {\n",
       "        vertical-align: top;\n",
       "    }\n",
       "\n",
       "    .dataframe thead th {\n",
       "        text-align: right;\n",
       "    }\n",
       "</style>\n",
       "<table border=\"1\" class=\"dataframe\">\n",
       "  <thead>\n",
       "    <tr style=\"text-align: right;\">\n",
       "      <th></th>\n",
       "      <th>Msci</th>\n",
       "      <th>Emergenti</th>\n",
       "      <th>EUBond</th>\n",
       "      <th>CorporateBond</th>\n",
       "      <th>Gold</th>\n",
       "    </tr>\n",
       "    <tr>\n",
       "      <th>Date</th>\n",
       "      <th></th>\n",
       "      <th></th>\n",
       "      <th></th>\n",
       "      <th></th>\n",
       "      <th></th>\n",
       "    </tr>\n",
       "  </thead>\n",
       "  <tbody>\n",
       "    <tr>\n",
       "      <th>2012-01-02</th>\n",
       "      <td>25.684999</td>\n",
       "      <td>28.290001</td>\n",
       "      <td>170.960007</td>\n",
       "      <td>124.010002</td>\n",
       "      <td>127.309998</td>\n",
       "    </tr>\n",
       "    <tr>\n",
       "      <th>2012-01-03</th>\n",
       "      <td>25.745001</td>\n",
       "      <td>28.520000</td>\n",
       "      <td>171.029999</td>\n",
       "      <td>124.099998</td>\n",
       "      <td>128.910004</td>\n",
       "    </tr>\n",
       "    <tr>\n",
       "      <th>2012-01-04</th>\n",
       "      <td>25.745001</td>\n",
       "      <td>28.514999</td>\n",
       "      <td>171.029999</td>\n",
       "      <td>124.099998</td>\n",
       "      <td>129.279999</td>\n",
       "    </tr>\n",
       "    <tr>\n",
       "      <th>2012-01-05</th>\n",
       "      <td>25.745001</td>\n",
       "      <td>28.629999</td>\n",
       "      <td>169.960007</td>\n",
       "      <td>124.099998</td>\n",
       "      <td>129.050003</td>\n",
       "    </tr>\n",
       "    <tr>\n",
       "      <th>2012-01-06</th>\n",
       "      <td>25.745001</td>\n",
       "      <td>28.695000</td>\n",
       "      <td>169.960007</td>\n",
       "      <td>124.099998</td>\n",
       "      <td>130.169998</td>\n",
       "    </tr>\n",
       "    <tr>\n",
       "      <th>...</th>\n",
       "      <td>...</td>\n",
       "      <td>...</td>\n",
       "      <td>...</td>\n",
       "      <td>...</td>\n",
       "      <td>...</td>\n",
       "    </tr>\n",
       "    <tr>\n",
       "      <th>2020-03-31</th>\n",
       "      <td>46.080002</td>\n",
       "      <td>30.025000</td>\n",
       "      <td>246.070007</td>\n",
       "      <td>150.199997</td>\n",
       "      <td>106.570000</td>\n",
       "    </tr>\n",
       "    <tr>\n",
       "      <th>2020-04-01</th>\n",
       "      <td>43.974998</td>\n",
       "      <td>29.014999</td>\n",
       "      <td>246.699997</td>\n",
       "      <td>149.970001</td>\n",
       "      <td>105.269997</td>\n",
       "    </tr>\n",
       "    <tr>\n",
       "      <th>2020-04-02</th>\n",
       "      <td>43.930000</td>\n",
       "      <td>29.695000</td>\n",
       "      <td>246.729996</td>\n",
       "      <td>149.509995</td>\n",
       "      <td>106.730003</td>\n",
       "    </tr>\n",
       "    <tr>\n",
       "      <th>2020-04-03</th>\n",
       "      <td>43.619999</td>\n",
       "      <td>29.540001</td>\n",
       "      <td>246.300003</td>\n",
       "      <td>149.580002</td>\n",
       "      <td>107.190002</td>\n",
       "    </tr>\n",
       "    <tr>\n",
       "      <th>2020-04-14</th>\n",
       "      <td>48.674999</td>\n",
       "      <td>31.690001</td>\n",
       "      <td>245.740005</td>\n",
       "      <td>154.020004</td>\n",
       "      <td>114.910004</td>\n",
       "    </tr>\n",
       "  </tbody>\n",
       "</table>\n",
       "<p>2088 rows × 5 columns</p>\n",
       "</div>"
      ],
      "text/plain": [
       "                 Msci  Emergenti      EUBond  CorporateBond        Gold\n",
       "Date                                                                   \n",
       "2012-01-02  25.684999  28.290001  170.960007     124.010002  127.309998\n",
       "2012-01-03  25.745001  28.520000  171.029999     124.099998  128.910004\n",
       "2012-01-04  25.745001  28.514999  171.029999     124.099998  129.279999\n",
       "2012-01-05  25.745001  28.629999  169.960007     124.099998  129.050003\n",
       "2012-01-06  25.745001  28.695000  169.960007     124.099998  130.169998\n",
       "...               ...        ...         ...            ...         ...\n",
       "2020-03-31  46.080002  30.025000  246.070007     150.199997  106.570000\n",
       "2020-04-01  43.974998  29.014999  246.699997     149.970001  105.269997\n",
       "2020-04-02  43.930000  29.695000  246.729996     149.509995  106.730003\n",
       "2020-04-03  43.619999  29.540001  246.300003     149.580002  107.190002\n",
       "2020-04-14  48.674999  31.690001  245.740005     154.020004  114.910004\n",
       "\n",
       "[2088 rows x 5 columns]"
      ]
     },
     "execution_count": 19,
     "metadata": {},
     "output_type": "execute_result"
    }
   ],
   "source": [
    "df[df.index>'2012']"
   ]
  },
  {
   "cell_type": "code",
   "execution_count": 20,
   "metadata": {},
   "outputs": [
    {
     "data": {
      "image/png": "[encoded data removed]",
      "text/plain": [
       "<Figure size 432x288 with 1 Axes>"
      ]
     },
     "metadata": {
      "needs_background": "light"
     },
     "output_type": "display_data"
    }
   ],
   "source": [
    "normalizzazione_ETF=np.array(df[df.index=='2012-01-02'])\n",
    "\n",
    "dfnorm=df/normalizzazione_ETF\n",
    "\n",
    "dfnorm.plot()\n",
    "plt.xlim('2012','2020-04-15')\n",
    "plt.grid()\n",
    "plt.savefig('grafico_etf.png',dpi=300)\n",
    "plt.show()"
   ]
  },
  {
   "cell_type": "code",
   "execution_count": 21,
   "metadata": {},
   "outputs": [
    {
     "data": {
      "text/plain": [
       "6.187503668040862"
      ]
     },
     "execution_count": 21,
     "metadata": {},
     "output_type": "execute_result"
    }
   ],
   "source": [
    "0.55*(1.50**(1/8)-1)*100 + 0.55* (1.6**(1/8)-1)*100"
   ]
  },
  {
   "cell_type": "markdown",
   "metadata": {},
   "source": [
    "### massimo drawdown"
   ]
  },
  {
   "cell_type": "code",
   "execution_count": 22,
   "metadata": {},
   "outputs": [
    {
     "name": "stdout",
     "output_type": "stream",
     "text": [
      "10.404868153780614 56\n"
     ]
    },
    {
     "data": {
      "image/png": "[encoded data removed]",
      "text/plain": [
       "<Figure size 432x288 with 1 Axes>"
      ]
     },
     "metadata": {
      "needs_background": "light"
     },
     "output_type": "display_data"
    }
   ],
   "source": [
    "rand_sequence=np.random.normal(3/12,5/np.sqrt(12),size=12*10)\n",
    "rend_cumulativo=np.cumprod(1+rand_sequence/100)*100\n",
    "\n",
    "\n",
    "def drawdown(array):\n",
    "    massimo=array[0]\n",
    "    lista=[]\n",
    "    for i in range(len(array)):\n",
    "        if array[i]>massimo:\n",
    "            massimo=array[i]\n",
    "            lista.append(massimo)\n",
    "        else:\n",
    "            lista.append(massimo)\n",
    "     \n",
    "    lista=np.array(lista)\n",
    "    \n",
    "    drawdown_parz=(lista-array)/lista*100\n",
    "    #print(np.max(drawdown_parz),np.argmax(drawdown_parz))\n",
    "    \n",
    "    return (np.max(drawdown_parz),np.argmax(drawdown_parz),lista)\n",
    "\n",
    "\n",
    "massimo_esp=drawdown(rend_cumulativo)\n",
    "\n",
    "print(massimo_esp[0],massimo_esp[1])\n",
    "\n",
    "plt.plot(rend_cumulativo)\n",
    "plt.plot(massimo_esp[2])\n",
    "plt.show()"
   ]
  },
  {
   "cell_type": "markdown",
   "metadata": {},
   "source": [
    "### simulazione benchmark, senza ribilanciamento"
   ]
  },
  {
   "cell_type": "code",
   "execution_count": 23,
   "metadata": {},
   "outputs": [
    {
     "data": {
      "text/html": [
       "<div>\n",
       "<style scoped>\n",
       "    .dataframe tbody tr th:only-of-type {\n",
       "        vertical-align: middle;\n",
       "    }\n",
       "\n",
       "    .dataframe tbody tr th {\n",
       "        vertical-align: top;\n",
       "    }\n",
       "\n",
       "    .dataframe thead th {\n",
       "        text-align: right;\n",
       "    }\n",
       "</style>\n",
       "<table border=\"1\" class=\"dataframe\">\n",
       "  <thead>\n",
       "    <tr style=\"text-align: right;\">\n",
       "      <th></th>\n",
       "      <th>Data</th>\n",
       "      <th>rendimento</th>\n",
       "      <th>Rendimento</th>\n",
       "    </tr>\n",
       "  </thead>\n",
       "  <tbody>\n",
       "    <tr>\n",
       "      <th>2020-02-25</th>\n",
       "      <td>0.00</td>\n",
       "      <td>NaN</td>\n",
       "      <td>100000.0</td>\n",
       "    </tr>\n",
       "    <tr>\n",
       "      <th>2020-02-26</th>\n",
       "      <td>-0.84</td>\n",
       "      <td>NaN</td>\n",
       "      <td>99160.0</td>\n",
       "    </tr>\n",
       "    <tr>\n",
       "      <th>2020-02-27</th>\n",
       "      <td>-1.28</td>\n",
       "      <td>NaN</td>\n",
       "      <td>98720.0</td>\n",
       "    </tr>\n",
       "    <tr>\n",
       "      <th>2020-02-28</th>\n",
       "      <td>-2.26</td>\n",
       "      <td>NaN</td>\n",
       "      <td>97740.0</td>\n",
       "    </tr>\n",
       "    <tr>\n",
       "      <th>2020-02-29</th>\n",
       "      <td>-4.32</td>\n",
       "      <td>NaN</td>\n",
       "      <td>95680.0</td>\n",
       "    </tr>\n",
       "    <tr>\n",
       "      <th>2020-03-02</th>\n",
       "      <td>-4.72</td>\n",
       "      <td>NaN</td>\n",
       "      <td>95280.0</td>\n",
       "    </tr>\n",
       "    <tr>\n",
       "      <th>2020-03-03</th>\n",
       "      <td>-4.06</td>\n",
       "      <td>NaN</td>\n",
       "      <td>95940.0</td>\n",
       "    </tr>\n",
       "    <tr>\n",
       "      <th>2020-03-04</th>\n",
       "      <td>-4.32</td>\n",
       "      <td>NaN</td>\n",
       "      <td>95680.0</td>\n",
       "    </tr>\n",
       "    <tr>\n",
       "      <th>2020-03-05</th>\n",
       "      <td>-3.67</td>\n",
       "      <td>NaN</td>\n",
       "      <td>96330.0</td>\n",
       "    </tr>\n",
       "    <tr>\n",
       "      <th>2020-03-06</th>\n",
       "      <td>-4.69</td>\n",
       "      <td>NaN</td>\n",
       "      <td>95310.0</td>\n",
       "    </tr>\n",
       "    <tr>\n",
       "      <th>2020-03-09</th>\n",
       "      <td>-5.87</td>\n",
       "      <td>NaN</td>\n",
       "      <td>94130.0</td>\n",
       "    </tr>\n",
       "    <tr>\n",
       "      <th>2020-03-10</th>\n",
       "      <td>-7.41</td>\n",
       "      <td>NaN</td>\n",
       "      <td>92590.0</td>\n",
       "    </tr>\n",
       "    <tr>\n",
       "      <th>2020-03-11</th>\n",
       "      <td>-7.31</td>\n",
       "      <td>NaN</td>\n",
       "      <td>92690.0</td>\n",
       "    </tr>\n",
       "    <tr>\n",
       "      <th>2020-03-12</th>\n",
       "      <td>-8.76</td>\n",
       "      <td>NaN</td>\n",
       "      <td>91240.0</td>\n",
       "    </tr>\n",
       "    <tr>\n",
       "      <th>2020-03-13</th>\n",
       "      <td>-11.31</td>\n",
       "      <td>NaN</td>\n",
       "      <td>88690.0</td>\n",
       "    </tr>\n",
       "    <tr>\n",
       "      <th>2020-03-16</th>\n",
       "      <td>-11.94</td>\n",
       "      <td>NaN</td>\n",
       "      <td>88060.0</td>\n",
       "    </tr>\n",
       "    <tr>\n",
       "      <th>2020-03-17</th>\n",
       "      <td>-13.34</td>\n",
       "      <td>NaN</td>\n",
       "      <td>86660.0</td>\n",
       "    </tr>\n",
       "    <tr>\n",
       "      <th>2020-03-18</th>\n",
       "      <td>-14.65</td>\n",
       "      <td>NaN</td>\n",
       "      <td>85350.0</td>\n",
       "    </tr>\n",
       "    <tr>\n",
       "      <th>2020-03-19</th>\n",
       "      <td>-15.00</td>\n",
       "      <td>NaN</td>\n",
       "      <td>85000.0</td>\n",
       "    </tr>\n",
       "    <tr>\n",
       "      <th>2020-03-20</th>\n",
       "      <td>-14.85</td>\n",
       "      <td>NaN</td>\n",
       "      <td>85150.0</td>\n",
       "    </tr>\n",
       "    <tr>\n",
       "      <th>2020-03-23</th>\n",
       "      <td>-14.18</td>\n",
       "      <td>NaN</td>\n",
       "      <td>85820.0</td>\n",
       "    </tr>\n",
       "    <tr>\n",
       "      <th>2020-03-24</th>\n",
       "      <td>-15.03</td>\n",
       "      <td>NaN</td>\n",
       "      <td>84970.0</td>\n",
       "    </tr>\n",
       "    <tr>\n",
       "      <th>2020-03-25</th>\n",
       "      <td>-14.19</td>\n",
       "      <td>NaN</td>\n",
       "      <td>85810.0</td>\n",
       "    </tr>\n",
       "    <tr>\n",
       "      <th>2020-03-26</th>\n",
       "      <td>-14.12</td>\n",
       "      <td>NaN</td>\n",
       "      <td>85880.0</td>\n",
       "    </tr>\n",
       "    <tr>\n",
       "      <th>2020-03-27</th>\n",
       "      <td>-13.35</td>\n",
       "      <td>NaN</td>\n",
       "      <td>86650.0</td>\n",
       "    </tr>\n",
       "    <tr>\n",
       "      <th>2020-03-30</th>\n",
       "      <td>-13.47</td>\n",
       "      <td>NaN</td>\n",
       "      <td>86530.0</td>\n",
       "    </tr>\n",
       "    <tr>\n",
       "      <th>2020-03-31</th>\n",
       "      <td>-13.29</td>\n",
       "      <td>NaN</td>\n",
       "      <td>86710.0</td>\n",
       "    </tr>\n",
       "    <tr>\n",
       "      <th>2020-04-01</th>\n",
       "      <td>-13.70</td>\n",
       "      <td>NaN</td>\n",
       "      <td>86300.0</td>\n",
       "    </tr>\n",
       "    <tr>\n",
       "      <th>2020-04-02</th>\n",
       "      <td>-13.89</td>\n",
       "      <td>NaN</td>\n",
       "      <td>86110.0</td>\n",
       "    </tr>\n",
       "    <tr>\n",
       "      <th>2020-04-03</th>\n",
       "      <td>-13.75</td>\n",
       "      <td>NaN</td>\n",
       "      <td>86250.0</td>\n",
       "    </tr>\n",
       "    <tr>\n",
       "      <th>2020-04-06</th>\n",
       "      <td>-13.61</td>\n",
       "      <td>NaN</td>\n",
       "      <td>86390.0</td>\n",
       "    </tr>\n",
       "    <tr>\n",
       "      <th>2020-04-07</th>\n",
       "      <td>-13.02</td>\n",
       "      <td>NaN</td>\n",
       "      <td>86980.0</td>\n",
       "    </tr>\n",
       "    <tr>\n",
       "      <th>2020-04-08</th>\n",
       "      <td>-13.06</td>\n",
       "      <td>NaN</td>\n",
       "      <td>86940.0</td>\n",
       "    </tr>\n",
       "    <tr>\n",
       "      <th>2020-04-09</th>\n",
       "      <td>-12.61</td>\n",
       "      <td>NaN</td>\n",
       "      <td>87390.0</td>\n",
       "    </tr>\n",
       "  </tbody>\n",
       "</table>\n",
       "</div>"
      ],
      "text/plain": [
       "             Data  rendimento  Rendimento\n",
       "2020-02-25   0.00         NaN    100000.0\n",
       "2020-02-26  -0.84         NaN     99160.0\n",
       "2020-02-27  -1.28         NaN     98720.0\n",
       "2020-02-28  -2.26         NaN     97740.0\n",
       "2020-02-29  -4.32         NaN     95680.0\n",
       "2020-03-02  -4.72         NaN     95280.0\n",
       "2020-03-03  -4.06         NaN     95940.0\n",
       "2020-03-04  -4.32         NaN     95680.0\n",
       "2020-03-05  -3.67         NaN     96330.0\n",
       "2020-03-06  -4.69         NaN     95310.0\n",
       "2020-03-09  -5.87         NaN     94130.0\n",
       "2020-03-10  -7.41         NaN     92590.0\n",
       "2020-03-11  -7.31         NaN     92690.0\n",
       "2020-03-12  -8.76         NaN     91240.0\n",
       "2020-03-13 -11.31         NaN     88690.0\n",
       "2020-03-16 -11.94         NaN     88060.0\n",
       "2020-03-17 -13.34         NaN     86660.0\n",
       "2020-03-18 -14.65         NaN     85350.0\n",
       "2020-03-19 -15.00         NaN     85000.0\n",
       "2020-03-20 -14.85         NaN     85150.0\n",
       "2020-03-23 -14.18         NaN     85820.0\n",
       "2020-03-24 -15.03         NaN     84970.0\n",
       "2020-03-25 -14.19         NaN     85810.0\n",
       "2020-03-26 -14.12         NaN     85880.0\n",
       "2020-03-27 -13.35         NaN     86650.0\n",
       "2020-03-30 -13.47         NaN     86530.0\n",
       "2020-03-31 -13.29         NaN     86710.0\n",
       "2020-04-01 -13.70         NaN     86300.0\n",
       "2020-04-02 -13.89         NaN     86110.0\n",
       "2020-04-03 -13.75         NaN     86250.0\n",
       "2020-04-06 -13.61         NaN     86390.0\n",
       "2020-04-07 -13.02         NaN     86980.0\n",
       "2020-04-08 -13.06         NaN     86940.0\n",
       "2020-04-09 -12.61         NaN     87390.0"
      ]
     },
     "execution_count": 23,
     "metadata": {},
     "output_type": "execute_result"
    }
   ],
   "source": [
    "p2data=pd.read_csv('p2-rendimento.csv')\n",
    "p2data.index=pd.to_datetime(p2data.index,format='%d.%m.%Y')\n",
    "p2data['Data']=p2data['Data']-3.59\n",
    "\n",
    "p2data['Rendimento']=100000*(1+p2data['Data']/100)\n",
    "\n",
    "p2data"
   ]
  },
  {
   "cell_type": "code",
   "execution_count": 24,
   "metadata": {},
   "outputs": [
    {
     "name": "stdout",
     "output_type": "stream",
     "text": [
      "Massimo drawdown  10.606815636416387 %\n"
     ]
    },
    {
     "data": {
      "image/png": "[encoded data removed]",
      "text/plain": [
       "<Figure size 432x288 with 1 Axes>"
      ]
     },
     "metadata": {
      "needs_background": "light"
     },
     "output_type": "display_data"
    }
   ],
   "source": [
    "df_sim=df[df.index>='2020-02-22']\n",
    "\n",
    "df_sim=df_sim[['Msci','EUBond']]\n",
    "\n",
    "n_obbligazioni=75000/df_sim.iloc[0,1]\n",
    "n_azioni=25000/df_sim.iloc[0,0]\n",
    "\n",
    "df_sim['Benchmark']=n_azioni*df_sim['Msci']+n_obbligazioni*df_sim['EUBond']\n",
    "\n",
    "print('Massimo drawdown ',drawdown(np.array(df_sim['Benchmark']))[0],'%')\n",
    "\n",
    "plt.plot(df_sim.index,df_sim['Benchmark'],label='Benchmark 25-75')\n",
    "plt.plot(p2data.index,p2data['Rendimento'],label='Mio portafoglio 2 Moneyfarm')\n",
    "plt.xticks(rotation=30)\n",
    "plt.title('Confronto col benchmark')\n",
    "plt.ylabel('Capitale €')\n",
    "plt.xlim('2020-02-25','2020-04-09')\n",
    "plt.legend()\n",
    "plt.tight_layout()\n",
    "plt.savefig('benchmark.png',dpi=300)\n",
    "plt.show()"
   ]
  },
  {
   "cell_type": "code",
   "execution_count": 25,
   "metadata": {},
   "outputs": [
    {
     "data": {
      "text/plain": [
       "-5605.740488626645"
      ]
     },
     "execution_count": 25,
     "metadata": {},
     "output_type": "execute_result"
    }
   ],
   "source": [
    "df_sim.iloc[-1,2]-100000"
   ]
  },
  {
   "cell_type": "markdown",
   "metadata": {},
   "source": [
    "### simulazione portafoglio"
   ]
  },
  {
   "cell_type": "code",
   "execution_count": 26,
   "metadata": {},
   "outputs": [],
   "source": [
    "# SIMPLIFIED FOR MULTIPLE ETFS\n",
    "\n",
    "def rendimento_bis(ripartizione,capitale0=100000,inizio='2012',fine='2020-05',nomietf=['Msci','Emergenti','EUBond','CorporateBond','Gold']):\n",
    "    \n",
    "    daysperyear=255\n",
    "    \n",
    "    # acquisizione prezzi\n",
    "    df2=df[(df.index>=inizio) & (df.index<=fine)]\n",
    "    durata=round(len(df2)/daysperyear,1)\n",
    "    titoli=np.array(df2[nomietf])\n",
    "    n_titoli=titoli.shape[1]\n",
    "    \n",
    "    \n",
    "    # ripartizione iniziale\n",
    "    ripartizione=np.array(ripartizione)\n",
    "    cap_rip=ripartizione/100*capitale0\n",
    "    \n",
    "    num_rip=cap_rip/titoli[0,:]\n",
    "    capitale2=np.random.rand(len(df2),n_titoli+2)\n",
    "    \n",
    "    rend_annuo_bar=[]\n",
    "    \n",
    "    kk=-1\n",
    "    \n",
    "    # evoluzione\n",
    "    for i in range(len(df2)):\n",
    "        capitale2[i,0]=round(i/daysperyear,2)\n",
    "        for j in range(1,n_titoli+1):\n",
    "            capitale2[i,j]=num_rip[j-1]*titoli[i,j-1]\n",
    "        \n",
    "        capitale2[i,n_titoli+1]=np.sum(capitale2[i,1:n_titoli+1])\n",
    "        kk=kk+1\n",
    "        \n",
    "    # ribilanciamento\n",
    "        if kk==255:\n",
    "            cap_rip=ripartizione/100*capitale2[i,n_titoli+1]\n",
    "            num_rip=cap_rip/titoli[i,:]\n",
    "            #print(num_rip,capitale2[i,n_titoli+1])\n",
    "            # rendimento annuale nella lista\n",
    "            rannuo_bar=np.round((capitale2[i,n_titoli+1]/capitale2[i-daysperyear,n_titoli+1]-1)*100,2)\n",
    "            #print(capitale2[i,n_titoli+1],capitale2[i-255,n_titoli+1],i,i-255)\n",
    "            rend_annuo_bar.append([df2.index[i].year-1,rannuo_bar])\n",
    "            #print(df2.index[i])\n",
    "            # azzero il contatore kk (responsabile del bilanciamento annuale)\n",
    "            kk=0\n",
    "    \n",
    "    \n",
    "    # rendimento annualizzato\n",
    "    rend_annualizzato=round(((capitale2[i,n_titoli+1]/capitale0)**(1/durata)-1)*100,2)\n",
    "    \n",
    "    array_finale=capitale2[:,n_titoli+1]\n",
    "    \n",
    "    # massima perdita\n",
    "    maxdrowdawn=round(drawdown(array_finale)[0],2)\n",
    "    drowdawn_when=round(drawdown(array_finale)[1]/daysperyear,2)\n",
    "    \n",
    "    return (capitale2,rend_annualizzato,maxdrowdawn,drowdawn_when,np.array(rend_annuo_bar))"
   ]
  },
  {
   "cell_type": "code",
   "execution_count": null,
   "metadata": {},
   "outputs": [],
   "source": []
  },
  {
   "cell_type": "code",
   "execution_count": 27,
   "metadata": {},
   "outputs": [
    {
     "name": "stdout",
     "output_type": "stream",
     "text": [
      "rendimento  5.59 % - massima perdita  11.31 % - dopo  8.14 anni\n"
     ]
    },
    {
     "data": {
      "image/png": "[encoded data removed]",
      "text/plain": [
       "<Figure size 432x288 with 1 Axes>"
      ]
     },
     "metadata": {
      "needs_background": "light"
     },
     "output_type": "display_data"
    }
   ],
   "source": [
    "peppe_completo=rendimento_bis([25,0,75,0,0],inizio='2012',fine='2020-05')\n",
    "\n",
    "peppe=peppe_completo[0]\n",
    "print('rendimento ',peppe_completo[1],'% - massima perdita ',peppe_completo[2],'% - dopo ',peppe_completo[3],'anni')\n",
    "\n",
    "xticks_str=[]\n",
    "xticks_num=np.arange(0,9,1)\n",
    "\n",
    "for i in range(len(xticks_num)):\n",
    "    xticks_str.append(str(xticks_num[i]+2012))\n",
    "\n",
    "plt.plot(peppe[:,0],peppe[:,6],label='Totale')\n",
    "plt.plot(peppe[:,0],peppe[:,1],label='Msci',linestyle='--')\n",
    "plt.plot(peppe[:,0],peppe[:,2],label='Emergenti',linestyle='--')\n",
    "plt.plot(peppe[:,0],peppe[:,3],label='EUBond',linestyle='--')\n",
    "plt.plot(peppe[:,0],peppe[:,4],label='CorporateBond',linestyle='--')\n",
    "plt.plot(peppe[:,0],peppe[:,5],label='Gold',linestyle='--')\n",
    "#plt.xticks(xticks_num,xticks_str)\n",
    "plt.xlabel('Anni')\n",
    "plt.ylabel('Rendimento')\n",
    "#plt.ylim(0,500000)\n",
    "#plt.xlim(8,8.18)\n",
    "plt.legend()\n",
    "plt.show()"
   ]
  },
  {
   "cell_type": "code",
   "execution_count": null,
   "metadata": {},
   "outputs": [],
   "source": []
  },
  {
   "cell_type": "code",
   "execution_count": 28,
   "metadata": {},
   "outputs": [
    {
     "data": {
      "image/png": "[encoded data removed]",
      "text/plain": [
       "<Figure size 432x288 with 1 Axes>"
      ]
     },
     "metadata": {
      "needs_background": "light"
     },
     "output_type": "display_data"
    }
   ],
   "source": [
    "plt.bar(peppe_completo[4][:,0],peppe_completo[4][:,1])\n",
    "plt.xlabel('Anno')\n",
    "plt.ylabel('Rendimento %')\n",
    "plt.savefig('output_portfolio/rendimenti-annuali.png')\n",
    "plt.show()"
   ]
  },
  {
   "cell_type": "code",
   "execution_count": null,
   "metadata": {},
   "outputs": [],
   "source": []
  },
  {
   "cell_type": "markdown",
   "metadata": {},
   "source": [
    "### analisi rischio rendimento"
   ]
  },
  {
   "cell_type": "code",
   "execution_count": 29,
   "metadata": {},
   "outputs": [],
   "source": [
    "def rischio_rendimento(array,start='2012',end='2021',nomietf=['Msci','EUBond','Gold']):\n",
    "    risultato=rendimento_bis(array,capitale0=100000,inizio=start,fine=end,nomietf=nomietf)\n",
    "    return (risultato[1],risultato[2])"
   ]
  },
  {
   "cell_type": "code",
   "execution_count": 30,
   "metadata": {},
   "outputs": [
    {
     "data": {
      "text/plain": [
       "(8.0, 10.33)"
      ]
     },
     "execution_count": 30,
     "metadata": {},
     "output_type": "execute_result"
    }
   ],
   "source": [
    "rischio_rendimento([55,40,5],start='2012',end='2020-02-22')"
   ]
  },
  {
   "cell_type": "code",
   "execution_count": 31,
   "metadata": {},
   "outputs": [],
   "source": [
    "# genero le combinazioni\n",
    "\n",
    "valori=[]\n",
    "n_val=40    # aumentare per avere maggiori combinazioni\n",
    "\n",
    "for i in range(0,n_val+1):\n",
    "    for j in range(0,n_val+1-i):\n",
    "        k=n_val-i-j\n",
    "        valori.append([i,j,k])\n",
    "        #for m in range(0,n_val+1-i-j):\n",
    "            #for n in range(0,n_val+1-i-j-m):\n",
    "                \n",
    "                \n",
    "                \n",
    "valori=np.array(valori)*(100/n_val)"
   ]
  },
  {
   "cell_type": "code",
   "execution_count": null,
   "metadata": {},
   "outputs": [],
   "source": []
  },
  {
   "cell_type": "code",
   "execution_count": 32,
   "metadata": {},
   "outputs": [
    {
     "name": "stdout",
     "output_type": "stream",
     "text": [
      "[[  0.    0.  100. ]\n",
      " [  0.    2.5  97.5]\n",
      " [  0.    5.   95. ]\n",
      " ...\n",
      " [ 97.5   0.    2.5]\n",
      " [ 97.5   2.5   0. ]\n",
      " [100.    0.    0. ]]\n",
      "100.0\n",
      "861\n"
     ]
    }
   ],
   "source": [
    "print(valori)\n",
    "\n",
    "print(np.mean(np.sum(valori,axis=1)))\n",
    "\n",
    "print(len(valori))"
   ]
  },
  {
   "cell_type": "code",
   "execution_count": 33,
   "metadata": {},
   "outputs": [
    {
     "name": "stdout",
     "output_type": "stream",
     "text": [
      "11 %\n"
     ]
    },
    {
     "name": "stderr",
     "output_type": "stream",
     "text": [
      "/Users/andreapalladino/anaconda3/lib/python3.6/site-packages/ipykernel_launcher.py:9: RuntimeWarning: divide by zero encountered in double_scalars\n",
      "  if __name__ == '__main__':\n"
     ]
    },
    {
     "name": "stdout",
     "output_type": "stream",
     "text": [
      "23 %\n",
      "34 %\n",
      "46 %\n",
      "57 %\n",
      "69 %\n",
      "81 %\n",
      "92 %\n"
     ]
    }
   ],
   "source": [
    "# analisi rischio rendimento con le combinazioni create in precedenza\n",
    "\n",
    "rr_val=[]\n",
    "costi=0.4    # costi degli ETF\n",
    "counter=0\n",
    "for i in range(len(valori)):\n",
    "    rr_parz=rischio_rendimento(valori[i,:],start='2012',end='2020-05')\n",
    "    r_netto=(rr_parz[1]-0.2)*0.75\n",
    "    rr_val.append([i,rr_parz[0]-costi,rr_parz[1],np.abs(rr_parz[1]/(rr_parz[0]-costi)),valori[i,0],valori[i,1],valori[i,2]])\n",
    "    counter=counter+1\n",
    "    if counter==100:\n",
    "        stage=int(i/len(valori)*100)\n",
    "        counter=0\n",
    "        print(stage,'%')"
   ]
  },
  {
   "cell_type": "code",
   "execution_count": 34,
   "metadata": {},
   "outputs": [],
   "source": [
    "df_rr=pd.DataFrame(rr_val)\n",
    "df_rr.to_csv('rischio-rendimento.csv',index=False)\n",
    "#df_rr.to_csv('rischio-rendimento-precrisi.csv',index=False)\n",
    "#df_rr=pd.read_csv('rischio-rendimento.csv')\n",
    "df_rr.columns=['ID','rendimento','max perdita','anni per recuperare','Msci','EUBond','Gold']\n",
    "rr_val=np.array(df_rr)"
   ]
  },
  {
   "cell_type": "markdown",
   "metadata": {},
   "source": [
    "### presentazione dei risultati"
   ]
  },
  {
   "cell_type": "code",
   "execution_count": 35,
   "metadata": {},
   "outputs": [],
   "source": [
    "arg_massimo=np.argmin(rr_val[:,3])"
   ]
  },
  {
   "cell_type": "code",
   "execution_count": 36,
   "metadata": {},
   "outputs": [
    {
     "data": {
      "text/plain": [
       "ID                      40.000000\n",
       "rendimento               4.120000\n",
       "max perdita              6.140000\n",
       "anni per recuperare      1.490291\n",
       "Msci                     0.000000\n",
       "EUBond                 100.000000\n",
       "Gold                     0.000000\n",
       "Name: 40, dtype: float64"
      ]
     },
     "execution_count": 36,
     "metadata": {},
     "output_type": "execute_result"
    }
   ],
   "source": [
    "df_rr.iloc[arg_massimo,:]"
   ]
  },
  {
   "cell_type": "code",
   "execution_count": 37,
   "metadata": {},
   "outputs": [
    {
     "name": "stdout",
     "output_type": "stream",
     "text": [
      "2.5272852155516556\n",
      "4.248970767593341\n"
     ]
    },
    {
     "data": {
      "image/png": "[encoded data removed]",
      "text/plain": [
       "<Figure size 720x360 with 2 Axes>"
      ]
     },
     "metadata": {
      "needs_background": "light"
     },
     "output_type": "display_data"
    }
   ],
   "source": [
    "x_rr=df_rr['max perdita']\n",
    "y_rr=df_rr['rendimento']\n",
    "\n",
    "costi_mfarm=0.65\n",
    "\n",
    "#p2_rend=((121/115.6)**(1/5)-1)*100\n",
    "#p4_rend=((136.1/124.3)**(1/5)-1)*100\n",
    "\n",
    "p2_rend=((122.1/100)**(1/8)-1)*100\n",
    "p4_rend=((139.5/100)**(1/8)-1)*100\n",
    "p6_rend=((153.6/100)**(1/8)-1)*100\n",
    "\n",
    "\n",
    "print(p2_rend)\n",
    "print(p4_rend)\n",
    "\n",
    "plt.figure(figsize=(10,5))\n",
    "plt.subplot(1,2,1)\n",
    "plt.plot(x_rr,y_rr,'.')\n",
    "plt.xlabel('Max loss %')\n",
    "plt.ylabel('Annual interest %')\n",
    "plt.plot(10.6,p2_rend,marker='*',color='orange',markersize=11,label='P2')\n",
    "plt.plot(16.9,p4_rend,marker='*',color='red',markersize=11,label='P4')\n",
    "plt.plot(19.6,p6_rend,marker='*',color='pink',markersize=11,label='P6')\n",
    "#plt.plot(15.33,5.09,marker='*',color='cyan',markersize=11,label='My Portfolio')\n",
    "plt.title('Without Moneyfarm fee (from 2012)')\n",
    "plt.legend()\n",
    "plt.subplot(1,2,2)\n",
    "plt.plot(x_rr,y_rr,'.')\n",
    "plt.xlabel('Max loss %')\n",
    "plt.ylabel('Annual interest %')\n",
    "plt.plot(10.6,p2_rend-costi_mfarm,marker='*',color='orange',markersize=11,label='P2')\n",
    "plt.plot(16.9,p4_rend-costi_mfarm,marker='*',color='red',markersize=11,label='P4')\n",
    "plt.plot(19.6,p6_rend-costi_mfarm,marker='*',color='pink',markersize=11,label='P6')\n",
    "#plt.plot(15.33,5.09-0.07,marker='*',color='cyan',markersize=11,label='My Portfolio')\n",
    "plt.title('With Moneyfarm fee (from 2012)')\n",
    "plt.legend()\n",
    "plt.savefig('output_portfolio/risk-interest.png',dpi=300)\n",
    "plt.show()"
   ]
  },
  {
   "cell_type": "code",
   "execution_count": 38,
   "metadata": {},
   "outputs": [
    {
     "data": {
      "image/png": "[encoded data removed]",
      "text/plain": [
       "<Figure size 432x288 with 1 Axes>"
      ]
     },
     "metadata": {
      "needs_background": "light"
     },
     "output_type": "display_data"
    }
   ],
   "source": [
    "plt.plot(x_rr,y_rr,'.')\n",
    "plt.xlabel('Max loss')\n",
    "plt.ylabel('Annual interest')\n",
    "plt.grid()\n",
    "plt.savefig('output_portfolio/risk-interest-general.png',dpi=300)\n",
    "plt.show()"
   ]
  },
  {
   "cell_type": "code",
   "execution_count": 39,
   "metadata": {},
   "outputs": [],
   "source": [
    "max_perdita=(4861/26500)*100\n",
    "\n",
    "df_sub=df_rr[df_rr['max perdita']<=max_perdita]\n",
    "#df_sub=df_rr[df_rr['max perdita']<=18]\n",
    "df_sub=df_rr"
   ]
  },
  {
   "cell_type": "code",
   "execution_count": null,
   "metadata": {},
   "outputs": [],
   "source": []
  },
  {
   "cell_type": "code",
   "execution_count": 40,
   "metadata": {},
   "outputs": [
    {
     "name": "stderr",
     "output_type": "stream",
     "text": [
      "/Users/andreapalladino/anaconda3/lib/python3.6/site-packages/ipykernel_launcher.py:1: FutureWarning: \n",
      "The current behaviour of 'Series.argmax' is deprecated, use 'idxmax'\n",
      "instead.\n",
      "The behavior of 'argmax' will be corrected to return the positional\n",
      "maximum in the future. For now, use 'series.values.argmax' or\n",
      "'np.argmax(np.array(values))' to get the position of the maximum\n",
      "row.\n",
      "  \"\"\"Entry point for launching an IPython kernel.\n"
     ]
    },
    {
     "data": {
      "text/plain": [
       "ID                     860.000000\n",
       "rendimento               7.710000\n",
       "max perdita             30.770000\n",
       "anni per recuperare      3.990921\n",
       "Msci                   100.000000\n",
       "EUBond                   0.000000\n",
       "Gold                     0.000000\n",
       "Name: 860, dtype: float64"
      ]
     },
     "execution_count": 40,
     "metadata": {},
     "output_type": "execute_result"
    }
   ],
   "source": [
    "pos_max=df_sub['rendimento'].argmax()\n",
    "df_sub.loc[pos_max]"
   ]
  },
  {
   "cell_type": "code",
   "execution_count": 41,
   "metadata": {},
   "outputs": [],
   "source": [
    "#df_sub_sorted=df_sub.sort_values(by='rendimento',ascending=False)\n",
    "df_sub_sorted=df_sub.sort_values(by='max perdita',ascending=True)\n",
    "#df_sub_sorted=df_sub.sort_values(by='anni per recuperare',ascending=True)\n",
    "\n",
    "\n",
    "# THIS SHOWS ONLY PORTOFLIO WITH ALL 5 ETFS\n",
    "\n",
    "#mask_subdf=(df_sub_sorted[['Msci','Emergenti','EUBond','CorporateBond','Gold']]!=0).sum(axis=1)==5\n",
    "#mask_subdf=(df_sub_sorted[['Gold']]).sum(axis=1)==5\n",
    "#df_sub_sorted=df_sub_sorted.loc[mask_subdf,:]\n",
    "#df_sub_sorted.iloc[0,[1,2]]"
   ]
  },
  {
   "cell_type": "code",
   "execution_count": 42,
   "metadata": {},
   "outputs": [],
   "source": [
    "# inserisco la massima perdita del 2020\n",
    "\n",
    "#portafogli_scelti=np.array(df_sub_sorted[['Msci','EUBond','Gold']])\n",
    "#perdita2020=[]\n",
    "\n",
    "#for i in portafogli_scelti:\n",
    "#    perdita2020.append(rischio_rendimento(i,start='2020',end='2020-05')[1])\n",
    "    \n",
    "#df_sub_sorted['max perdita 2020']=perdita2020"
   ]
  },
  {
   "cell_type": "code",
   "execution_count": 43,
   "metadata": {},
   "outputs": [
    {
     "data": {
      "text/html": [
       "<div>\n",
       "<style scoped>\n",
       "    .dataframe tbody tr th:only-of-type {\n",
       "        vertical-align: middle;\n",
       "    }\n",
       "\n",
       "    .dataframe tbody tr th {\n",
       "        vertical-align: top;\n",
       "    }\n",
       "\n",
       "    .dataframe thead th {\n",
       "        text-align: right;\n",
       "    }\n",
       "</style>\n",
       "<table border=\"1\" class=\"dataframe\">\n",
       "  <thead>\n",
       "    <tr style=\"text-align: right;\">\n",
       "      <th></th>\n",
       "      <th>ID</th>\n",
       "      <th>rendimento</th>\n",
       "      <th>max perdita</th>\n",
       "      <th>anni per recuperare</th>\n",
       "      <th>Msci</th>\n",
       "      <th>EUBond</th>\n",
       "      <th>Gold</th>\n",
       "    </tr>\n",
       "  </thead>\n",
       "  <tbody>\n",
       "    <tr>\n",
       "      <th>40</th>\n",
       "      <td>40</td>\n",
       "      <td>4.12</td>\n",
       "      <td>6.14</td>\n",
       "      <td>1.490291</td>\n",
       "      <td>0.0</td>\n",
       "      <td>100.0</td>\n",
       "      <td>0.0</td>\n",
       "    </tr>\n",
       "    <tr>\n",
       "      <th>39</th>\n",
       "      <td>39</td>\n",
       "      <td>4.01</td>\n",
       "      <td>6.22</td>\n",
       "      <td>1.551122</td>\n",
       "      <td>0.0</td>\n",
       "      <td>97.5</td>\n",
       "      <td>2.5</td>\n",
       "    </tr>\n",
       "    <tr>\n",
       "      <th>79</th>\n",
       "      <td>79</td>\n",
       "      <td>4.12</td>\n",
       "      <td>6.37</td>\n",
       "      <td>1.546117</td>\n",
       "      <td>2.5</td>\n",
       "      <td>95.0</td>\n",
       "      <td>2.5</td>\n",
       "    </tr>\n",
       "    <tr>\n",
       "      <th>80</th>\n",
       "      <td>80</td>\n",
       "      <td>4.24</td>\n",
       "      <td>6.39</td>\n",
       "      <td>1.507075</td>\n",
       "      <td>2.5</td>\n",
       "      <td>97.5</td>\n",
       "      <td>0.0</td>\n",
       "    </tr>\n",
       "    <tr>\n",
       "      <th>38</th>\n",
       "      <td>38</td>\n",
       "      <td>3.89</td>\n",
       "      <td>6.41</td>\n",
       "      <td>1.647815</td>\n",
       "      <td>0.0</td>\n",
       "      <td>95.0</td>\n",
       "      <td>5.0</td>\n",
       "    </tr>\n",
       "    <tr>\n",
       "      <th>78</th>\n",
       "      <td>78</td>\n",
       "      <td>4.00</td>\n",
       "      <td>6.49</td>\n",
       "      <td>1.622500</td>\n",
       "      <td>2.5</td>\n",
       "      <td>92.5</td>\n",
       "      <td>5.0</td>\n",
       "    </tr>\n",
       "    <tr>\n",
       "      <th>37</th>\n",
       "      <td>37</td>\n",
       "      <td>3.77</td>\n",
       "      <td>6.60</td>\n",
       "      <td>1.750663</td>\n",
       "      <td>0.0</td>\n",
       "      <td>92.5</td>\n",
       "      <td>7.5</td>\n",
       "    </tr>\n",
       "    <tr>\n",
       "      <th>77</th>\n",
       "      <td>77</td>\n",
       "      <td>3.88</td>\n",
       "      <td>6.62</td>\n",
       "      <td>1.706186</td>\n",
       "      <td>2.5</td>\n",
       "      <td>90.0</td>\n",
       "      <td>7.5</td>\n",
       "    </tr>\n",
       "    <tr>\n",
       "      <th>119</th>\n",
       "      <td>119</td>\n",
       "      <td>4.35</td>\n",
       "      <td>6.67</td>\n",
       "      <td>1.533333</td>\n",
       "      <td>5.0</td>\n",
       "      <td>95.0</td>\n",
       "      <td>0.0</td>\n",
       "    </tr>\n",
       "    <tr>\n",
       "      <th>118</th>\n",
       "      <td>118</td>\n",
       "      <td>4.23</td>\n",
       "      <td>6.69</td>\n",
       "      <td>1.581560</td>\n",
       "      <td>5.0</td>\n",
       "      <td>92.5</td>\n",
       "      <td>2.5</td>\n",
       "    </tr>\n",
       "    <tr>\n",
       "      <th>76</th>\n",
       "      <td>76</td>\n",
       "      <td>3.76</td>\n",
       "      <td>6.75</td>\n",
       "      <td>1.795213</td>\n",
       "      <td>2.5</td>\n",
       "      <td>87.5</td>\n",
       "      <td>10.0</td>\n",
       "    </tr>\n",
       "    <tr>\n",
       "      <th>36</th>\n",
       "      <td>36</td>\n",
       "      <td>3.64</td>\n",
       "      <td>6.79</td>\n",
       "      <td>1.865385</td>\n",
       "      <td>0.0</td>\n",
       "      <td>90.0</td>\n",
       "      <td>10.0</td>\n",
       "    </tr>\n",
       "    <tr>\n",
       "      <th>117</th>\n",
       "      <td>117</td>\n",
       "      <td>4.11</td>\n",
       "      <td>6.81</td>\n",
       "      <td>1.656934</td>\n",
       "      <td>5.0</td>\n",
       "      <td>90.0</td>\n",
       "      <td>5.0</td>\n",
       "    </tr>\n",
       "    <tr>\n",
       "      <th>75</th>\n",
       "      <td>75</td>\n",
       "      <td>3.63</td>\n",
       "      <td>6.90</td>\n",
       "      <td>1.900826</td>\n",
       "      <td>2.5</td>\n",
       "      <td>85.0</td>\n",
       "      <td>12.5</td>\n",
       "    </tr>\n",
       "    <tr>\n",
       "      <th>116</th>\n",
       "      <td>116</td>\n",
       "      <td>3.99</td>\n",
       "      <td>6.93</td>\n",
       "      <td>1.736842</td>\n",
       "      <td>5.0</td>\n",
       "      <td>87.5</td>\n",
       "      <td>7.5</td>\n",
       "    </tr>\n",
       "    <tr>\n",
       "      <th>35</th>\n",
       "      <td>35</td>\n",
       "      <td>3.52</td>\n",
       "      <td>6.99</td>\n",
       "      <td>1.985795</td>\n",
       "      <td>0.0</td>\n",
       "      <td>87.5</td>\n",
       "      <td>12.5</td>\n",
       "    </tr>\n",
       "    <tr>\n",
       "      <th>157</th>\n",
       "      <td>157</td>\n",
       "      <td>4.46</td>\n",
       "      <td>7.00</td>\n",
       "      <td>1.569507</td>\n",
       "      <td>7.5</td>\n",
       "      <td>92.5</td>\n",
       "      <td>0.0</td>\n",
       "    </tr>\n",
       "    <tr>\n",
       "      <th>74</th>\n",
       "      <td>74</td>\n",
       "      <td>3.51</td>\n",
       "      <td>7.04</td>\n",
       "      <td>2.005698</td>\n",
       "      <td>2.5</td>\n",
       "      <td>82.5</td>\n",
       "      <td>15.0</td>\n",
       "    </tr>\n",
       "    <tr>\n",
       "      <th>115</th>\n",
       "      <td>115</td>\n",
       "      <td>3.87</td>\n",
       "      <td>7.06</td>\n",
       "      <td>1.824289</td>\n",
       "      <td>5.0</td>\n",
       "      <td>85.0</td>\n",
       "      <td>10.0</td>\n",
       "    </tr>\n",
       "    <tr>\n",
       "      <th>156</th>\n",
       "      <td>156</td>\n",
       "      <td>4.34</td>\n",
       "      <td>7.12</td>\n",
       "      <td>1.640553</td>\n",
       "      <td>7.5</td>\n",
       "      <td>90.0</td>\n",
       "      <td>2.5</td>\n",
       "    </tr>\n",
       "  </tbody>\n",
       "</table>\n",
       "</div>"
      ],
      "text/plain": [
       "      ID  rendimento  max perdita  anni per recuperare  Msci  EUBond  Gold\n",
       "40    40        4.12         6.14             1.490291   0.0   100.0   0.0\n",
       "39    39        4.01         6.22             1.551122   0.0    97.5   2.5\n",
       "79    79        4.12         6.37             1.546117   2.5    95.0   2.5\n",
       "80    80        4.24         6.39             1.507075   2.5    97.5   0.0\n",
       "38    38        3.89         6.41             1.647815   0.0    95.0   5.0\n",
       "78    78        4.00         6.49             1.622500   2.5    92.5   5.0\n",
       "37    37        3.77         6.60             1.750663   0.0    92.5   7.5\n",
       "77    77        3.88         6.62             1.706186   2.5    90.0   7.5\n",
       "119  119        4.35         6.67             1.533333   5.0    95.0   0.0\n",
       "118  118        4.23         6.69             1.581560   5.0    92.5   2.5\n",
       "76    76        3.76         6.75             1.795213   2.5    87.5  10.0\n",
       "36    36        3.64         6.79             1.865385   0.0    90.0  10.0\n",
       "117  117        4.11         6.81             1.656934   5.0    90.0   5.0\n",
       "75    75        3.63         6.90             1.900826   2.5    85.0  12.5\n",
       "116  116        3.99         6.93             1.736842   5.0    87.5   7.5\n",
       "35    35        3.52         6.99             1.985795   0.0    87.5  12.5\n",
       "157  157        4.46         7.00             1.569507   7.5    92.5   0.0\n",
       "74    74        3.51         7.04             2.005698   2.5    82.5  15.0\n",
       "115  115        3.87         7.06             1.824289   5.0    85.0  10.0\n",
       "156  156        4.34         7.12             1.640553   7.5    90.0   2.5"
      ]
     },
     "execution_count": 43,
     "metadata": {},
     "output_type": "execute_result"
    }
   ],
   "source": [
    "df_sub_sorted.head(20)"
   ]
  },
  {
   "cell_type": "markdown",
   "metadata": {},
   "source": [
    "### massimo rendimento e minima perdita"
   ]
  },
  {
   "cell_type": "code",
   "execution_count": 44,
   "metadata": {},
   "outputs": [],
   "source": [
    "def maxrend_minperd(perdmin,perdmax):\n",
    "    df_rendpend=df_sub_sorted.loc[(df_sub_sorted['max perdita']>=perdmin) &(df_sub_sorted['max perdita']<perdmax)]\n",
    "    rendimento=np.round(df_rendpend.sort_values(by='rendimento',ascending=False).iloc[0,1],2)\n",
    "    portafoglio=np.array(df_rendpend.sort_values(by='rendimento',ascending=False).iloc[0,4:7])\n",
    "    return (rendimento,portafoglio)"
   ]
  },
  {
   "cell_type": "code",
   "execution_count": 45,
   "metadata": {},
   "outputs": [
    {
     "name": "stdout",
     "output_type": "stream",
     "text": [
      "5.46 -- 7.25 (4.46, array([ 7.5, 92.5,  0. ])) 7.0\n",
      "7.25 -- 9.04 (4.78, array([15., 85.,  0.])) 8.83\n",
      "9.04 -- 10.83 (5.09, array([22.5, 77.5,  0. ])) 10.66\n",
      "10.83 -- 12.63 (5.39, array([30., 70.,  0.])) 12.61\n",
      "12.63 -- 14.42 (5.58, array([35., 65.,  0.])) 13.9\n",
      "14.42 -- 16.21 (5.87, array([42.5, 57.5,  0. ])) 15.85\n",
      "16.21 -- 18.0 (6.14, array([50., 50.,  0.])) 17.79\n"
     ]
    },
    {
     "data": {
      "image/png": "[encoded data removed]",
      "text/plain": [
       "<Figure size 432x288 with 2 Axes>"
      ]
     },
     "metadata": {
      "needs_background": "light"
     },
     "output_type": "display_data"
    }
   ],
   "source": [
    "lista_rend_perd=[]\n",
    "\n",
    "#portafogli_range=np.linspace(6,30,8)\n",
    "portafogli_range=np.linspace(5.46,18,8)\n",
    "\n",
    "for i in range(len(portafogli_range)-1):\n",
    "    #print(i,maxrend_minperd(i,i+1))\n",
    "    peppino=maxrend_minperd(portafogli_range[i],portafogli_range[i+1])\n",
    "    print(np.round(portafogli_range[i],2),'--',np.round(portafogli_range[i+1],2),peppino,rischio_rendimento(peppino[1])[1])\n",
    "    lista_rend_perd.append([i+1,peppino[0],rischio_rendimento(peppino[1])[1]])\n",
    "\n",
    "lista_rend_perd=np.array(lista_rend_perd)\n",
    "lista_rend_perd_gold5=np.array([[ 1        ,  4.41      ],\n",
    "       [ 2,  4.83      ],\n",
    "       [3,  5.09      ],\n",
    "       [4,  5.42      ],\n",
    "       [5,  5.7       ],\n",
    "       [6,  5.86      ],\n",
    "       [7,  6.04      ]])\n",
    "\n",
    "plt.subplot(2,1,1)\n",
    "plt.bar(lista_rend_perd[:,0],lista_rend_perd[:,1],color='green')\n",
    "plt.xlabel('N. Portafoglio')\n",
    "plt.ylabel('Rendimento annualizzato %')\n",
    "plt.ylim(2,7)\n",
    "plt.grid()\n",
    "plt.subplot(2,1,2)\n",
    "plt.bar(lista_rend_perd[:,0],-lista_rend_perd[:,2],color='red')\n",
    "#plt.bar(lista_rend_perd_gold5[:,0],lista_rend_perd_gold5[:,1],label='With gold 5%')\n",
    "plt.xlabel('N. Portafoglio')\n",
    "plt.ylabel('Massima perdita %')\n",
    "plt.grid()\n",
    "plt.ylim(-5,-35)\n",
    "#plt.ylim(3,7)\n",
    "#plt.legend()\n",
    "plt.tight_layout()\n",
    "plt.savefig('output_portfolio/rend-perdita.png',dpi=300)\n",
    "plt.show()"
   ]
  },
  {
   "cell_type": "code",
   "execution_count": 46,
   "metadata": {},
   "outputs": [],
   "source": [
    "#for i in range(15):\n",
    "#    df=import_data(['IWDE.MI','IEEM.MI','XGLE.MI','IBCX.MI','XAD1.MI'])   \n",
    "#    df.columns=['Msci','Emergenti','EUBond','CorporateLargeCup','Gold']\n",
    "#    print(df.iloc[-1,:])\n",
    "#    time.sleep(60)"
   ]
  },
  {
   "cell_type": "markdown",
   "metadata": {},
   "source": [
    "### rendimenti pre crisi - perdita durante crisi (con 20% di oro nella quota azionaria)"
   ]
  },
  {
   "cell_type": "code",
   "execution_count": 47,
   "metadata": {},
   "outputs": [],
   "source": [
    "def rend_rischio_crisi(x):\n",
    "    costi=0.4\n",
    "    rendimento=round(rischio_rendimento([x,100-x,0],start='2012',end='2020-02-22')[0]-costi,2)\n",
    "    rischio=rischio_rendimento([x,100-x,0],start='2020',end='2020-05')[1]\n",
    "    return rendimento,rischio\n",
    "\n",
    "rend_rischio_crisi_vec=np.vectorize(rend_rischio_crisi)"
   ]
  },
  {
   "cell_type": "code",
   "execution_count": 54,
   "metadata": {},
   "outputs": [
    {
     "data": {
      "image/png": "[encoded data removed]",
      "text/plain": [
       "<Figure size 720x360 with 2 Axes>"
      ]
     },
     "metadata": {
      "needs_background": "light"
     },
     "output_type": "display_data"
    }
   ],
   "source": [
    "xgrid=np.arange(0,21,1)\n",
    "ygridpos=rend_rischio_crisi_vec(xgrid*5)[0]\n",
    "ygridneg=rend_rischio_crisi_vec(xgrid*5)[1]\n",
    "\n",
    "plt.figure(figsize=(10,5))\n",
    "plt.subplot(2,1,1)\n",
    "plt.bar(xgrid,ygridpos,color='green')\n",
    "plt.xlabel('Quota a rischio %')\n",
    "plt.ylabel('Rend. annualizzato %')\n",
    "plt.xticks(np.arange(0,11,1),np.arange(0,110,10))\n",
    "plt.ylim(1.5,11)\n",
    "plt.title('Rendimento da Marzo 2015 (crisi esclusa)')\n",
    "plt.grid()\n",
    "plt.subplot(2,1,2)\n",
    "plt.bar(xgrid,-ygridneg,color='red')\n",
    "#plt.bar(lista_rend_perd_gold5[:,0],lista_rend_perd_gold5[:,1],label='With gold 5%')\n",
    "plt.xlabel('Quota a rischio %')\n",
    "plt.ylabel('Massima perdita %')\n",
    "plt.title('Perdita durante crisi 2020')\n",
    "plt.grid()\n",
    "plt.xticks(np.arange(0,20,1),np.arange(0,105,5))\n",
    "plt.ylim(-5,-35)\n",
    "#plt.ylim(3,7)\n",
    "#plt.legend()\n",
    "plt.tight_layout()\n",
    "plt.savefig('output_portfolio/rend-perdita2.png',dpi=300)\n",
    "plt.show()"
   ]
  },
  {
   "cell_type": "code",
   "execution_count": 49,
   "metadata": {},
   "outputs": [
    {
     "data": {
      "text/html": [
       "<div>\n",
       "<style scoped>\n",
       "    .dataframe tbody tr th:only-of-type {\n",
       "        vertical-align: middle;\n",
       "    }\n",
       "\n",
       "    .dataframe tbody tr th {\n",
       "        vertical-align: top;\n",
       "    }\n",
       "\n",
       "    .dataframe thead th {\n",
       "        text-align: right;\n",
       "    }\n",
       "</style>\n",
       "<table border=\"1\" class=\"dataframe\">\n",
       "  <thead>\n",
       "    <tr style=\"text-align: right;\">\n",
       "      <th></th>\n",
       "      <th>Quota a rischio %</th>\n",
       "      <th>Quota azionaria %</th>\n",
       "      <th>Oro %</th>\n",
       "      <th>Quota obbligazionaria %</th>\n",
       "      <th>Rendimento dal 2015-03 (crisi esclusa) %</th>\n",
       "      <th>Perdita nel 2020 %</th>\n",
       "    </tr>\n",
       "  </thead>\n",
       "  <tbody>\n",
       "    <tr>\n",
       "      <th>0</th>\n",
       "      <td>0</td>\n",
       "      <td>0</td>\n",
       "      <td>0</td>\n",
       "      <td>100</td>\n",
       "      <td>4.58</td>\n",
       "      <td>6.12</td>\n",
       "    </tr>\n",
       "    <tr>\n",
       "      <th>1</th>\n",
       "      <td>5</td>\n",
       "      <td>5</td>\n",
       "      <td>0</td>\n",
       "      <td>95</td>\n",
       "      <td>4.89</td>\n",
       "      <td>6.61</td>\n",
       "    </tr>\n",
       "    <tr>\n",
       "      <th>2</th>\n",
       "      <td>10</td>\n",
       "      <td>10</td>\n",
       "      <td>0</td>\n",
       "      <td>90</td>\n",
       "      <td>5.21</td>\n",
       "      <td>7.65</td>\n",
       "    </tr>\n",
       "    <tr>\n",
       "      <th>3</th>\n",
       "      <td>15</td>\n",
       "      <td>15</td>\n",
       "      <td>0</td>\n",
       "      <td>85</td>\n",
       "      <td>5.52</td>\n",
       "      <td>8.89</td>\n",
       "    </tr>\n",
       "    <tr>\n",
       "      <th>4</th>\n",
       "      <td>20</td>\n",
       "      <td>20</td>\n",
       "      <td>0</td>\n",
       "      <td>80</td>\n",
       "      <td>5.83</td>\n",
       "      <td>10.12</td>\n",
       "    </tr>\n",
       "    <tr>\n",
       "      <th>5</th>\n",
       "      <td>25</td>\n",
       "      <td>25</td>\n",
       "      <td>0</td>\n",
       "      <td>75</td>\n",
       "      <td>6.14</td>\n",
       "      <td>11.40</td>\n",
       "    </tr>\n",
       "    <tr>\n",
       "      <th>6</th>\n",
       "      <td>30</td>\n",
       "      <td>30</td>\n",
       "      <td>0</td>\n",
       "      <td>70</td>\n",
       "      <td>6.44</td>\n",
       "      <td>12.70</td>\n",
       "    </tr>\n",
       "    <tr>\n",
       "      <th>7</th>\n",
       "      <td>35</td>\n",
       "      <td>35</td>\n",
       "      <td>0</td>\n",
       "      <td>65</td>\n",
       "      <td>6.74</td>\n",
       "      <td>14.00</td>\n",
       "    </tr>\n",
       "    <tr>\n",
       "      <th>8</th>\n",
       "      <td>40</td>\n",
       "      <td>40</td>\n",
       "      <td>0</td>\n",
       "      <td>60</td>\n",
       "      <td>7.03</td>\n",
       "      <td>15.31</td>\n",
       "    </tr>\n",
       "    <tr>\n",
       "      <th>9</th>\n",
       "      <td>45</td>\n",
       "      <td>45</td>\n",
       "      <td>0</td>\n",
       "      <td>55</td>\n",
       "      <td>7.33</td>\n",
       "      <td>16.61</td>\n",
       "    </tr>\n",
       "    <tr>\n",
       "      <th>10</th>\n",
       "      <td>50</td>\n",
       "      <td>50</td>\n",
       "      <td>0</td>\n",
       "      <td>50</td>\n",
       "      <td>7.62</td>\n",
       "      <td>17.90</td>\n",
       "    </tr>\n",
       "    <tr>\n",
       "      <th>11</th>\n",
       "      <td>55</td>\n",
       "      <td>55</td>\n",
       "      <td>0</td>\n",
       "      <td>45</td>\n",
       "      <td>7.90</td>\n",
       "      <td>19.20</td>\n",
       "    </tr>\n",
       "    <tr>\n",
       "      <th>12</th>\n",
       "      <td>60</td>\n",
       "      <td>60</td>\n",
       "      <td>0</td>\n",
       "      <td>40</td>\n",
       "      <td>8.19</td>\n",
       "      <td>20.49</td>\n",
       "    </tr>\n",
       "    <tr>\n",
       "      <th>13</th>\n",
       "      <td>65</td>\n",
       "      <td>65</td>\n",
       "      <td>0</td>\n",
       "      <td>35</td>\n",
       "      <td>8.47</td>\n",
       "      <td>21.78</td>\n",
       "    </tr>\n",
       "    <tr>\n",
       "      <th>14</th>\n",
       "      <td>70</td>\n",
       "      <td>70</td>\n",
       "      <td>0</td>\n",
       "      <td>30</td>\n",
       "      <td>8.74</td>\n",
       "      <td>23.07</td>\n",
       "    </tr>\n",
       "    <tr>\n",
       "      <th>15</th>\n",
       "      <td>75</td>\n",
       "      <td>75</td>\n",
       "      <td>0</td>\n",
       "      <td>25</td>\n",
       "      <td>9.02</td>\n",
       "      <td>24.36</td>\n",
       "    </tr>\n",
       "    <tr>\n",
       "      <th>16</th>\n",
       "      <td>80</td>\n",
       "      <td>80</td>\n",
       "      <td>0</td>\n",
       "      <td>20</td>\n",
       "      <td>9.29</td>\n",
       "      <td>25.65</td>\n",
       "    </tr>\n",
       "    <tr>\n",
       "      <th>17</th>\n",
       "      <td>85</td>\n",
       "      <td>85</td>\n",
       "      <td>0</td>\n",
       "      <td>15</td>\n",
       "      <td>9.56</td>\n",
       "      <td>26.93</td>\n",
       "    </tr>\n",
       "    <tr>\n",
       "      <th>18</th>\n",
       "      <td>90</td>\n",
       "      <td>90</td>\n",
       "      <td>0</td>\n",
       "      <td>10</td>\n",
       "      <td>9.82</td>\n",
       "      <td>28.21</td>\n",
       "    </tr>\n",
       "    <tr>\n",
       "      <th>19</th>\n",
       "      <td>95</td>\n",
       "      <td>95</td>\n",
       "      <td>0</td>\n",
       "      <td>5</td>\n",
       "      <td>10.09</td>\n",
       "      <td>29.50</td>\n",
       "    </tr>\n",
       "    <tr>\n",
       "      <th>20</th>\n",
       "      <td>100</td>\n",
       "      <td>100</td>\n",
       "      <td>0</td>\n",
       "      <td>0</td>\n",
       "      <td>10.35</td>\n",
       "      <td>30.77</td>\n",
       "    </tr>\n",
       "  </tbody>\n",
       "</table>\n",
       "</div>"
      ],
      "text/plain": [
       "    Quota a rischio %  Quota azionaria %  Oro %  Quota obbligazionaria %  \\\n",
       "0                   0                  0      0                      100   \n",
       "1                   5                  5      0                       95   \n",
       "2                  10                 10      0                       90   \n",
       "3                  15                 15      0                       85   \n",
       "4                  20                 20      0                       80   \n",
       "5                  25                 25      0                       75   \n",
       "6                  30                 30      0                       70   \n",
       "7                  35                 35      0                       65   \n",
       "8                  40                 40      0                       60   \n",
       "9                  45                 45      0                       55   \n",
       "10                 50                 50      0                       50   \n",
       "11                 55                 55      0                       45   \n",
       "12                 60                 60      0                       40   \n",
       "13                 65                 65      0                       35   \n",
       "14                 70                 70      0                       30   \n",
       "15                 75                 75      0                       25   \n",
       "16                 80                 80      0                       20   \n",
       "17                 85                 85      0                       15   \n",
       "18                 90                 90      0                       10   \n",
       "19                 95                 95      0                        5   \n",
       "20                100                100      0                        0   \n",
       "\n",
       "    Rendimento dal 2015-03 (crisi esclusa) %  Perdita nel 2020 %  \n",
       "0                                       4.58                6.12  \n",
       "1                                       4.89                6.61  \n",
       "2                                       5.21                7.65  \n",
       "3                                       5.52                8.89  \n",
       "4                                       5.83               10.12  \n",
       "5                                       6.14               11.40  \n",
       "6                                       6.44               12.70  \n",
       "7                                       6.74               14.00  \n",
       "8                                       7.03               15.31  \n",
       "9                                       7.33               16.61  \n",
       "10                                      7.62               17.90  \n",
       "11                                      7.90               19.20  \n",
       "12                                      8.19               20.49  \n",
       "13                                      8.47               21.78  \n",
       "14                                      8.74               23.07  \n",
       "15                                      9.02               24.36  \n",
       "16                                      9.29               25.65  \n",
       "17                                      9.56               26.93  \n",
       "18                                      9.82               28.21  \n",
       "19                                     10.09               29.50  \n",
       "20                                     10.35               30.77  "
      ]
     },
     "execution_count": 49,
     "metadata": {},
     "output_type": "execute_result"
    }
   ],
   "source": [
    "df_rend=pd.DataFrame(xgrid*5,columns=['Quota a rischio %'])\n",
    "\n",
    "df_rend['Quota azionaria %']=xgrid*5\n",
    "df_rend['Oro %']=xgrid*10*0\n",
    "df_rend['Quota obbligazionaria %']=100-xgrid*5\n",
    "\n",
    "df_rend['Rendimento dal 2015-03 (crisi esclusa) %']=ygridpos\n",
    "df_rend['Perdita nel 2020 %']=ygridneg\n",
    "\n",
    "df_rend"
   ]
  },
  {
   "cell_type": "code",
   "execution_count": 50,
   "metadata": {
    "scrolled": true
   },
   "outputs": [
    {
     "name": "stdout",
     "output_type": "stream",
     "text": [
      "Rendimento portafoglio 2 Moneyfarm dal 2015 1.2 %\n",
      "Rendimento portafoglio 4 Moneyfarm dal 2015 2.8 %\n"
     ]
    }
   ],
   "source": [
    "p2=((1+((132.2-120.6)/120.6))**(1/5)-1)*100-0.7\n",
    "p4=((1+((158.3-133.3)/133.3))**(1/5)-1)*100-0.7\n",
    "\n",
    "print('Rendimento portafoglio 2 Moneyfarm dal 2015',round(p2,1),'%')\n",
    "print('Rendimento portafoglio 4 Moneyfarm dal 2015',round(p4,1),'%')"
   ]
  },
  {
   "cell_type": "code",
   "execution_count": 51,
   "metadata": {},
   "outputs": [
    {
     "data": {
      "text/plain": [
       "42527.213317372945"
      ]
     },
     "execution_count": 51,
     "metadata": {},
     "output_type": "execute_result"
    }
   ],
   "source": [
    "(33500)*(1+p2/100)**9+4200*(1+p4/100)**9"
   ]
  },
  {
   "cell_type": "code",
   "execution_count": 52,
   "metadata": {},
   "outputs": [
    {
     "data": {
      "text/plain": [
       "26506.362993043575"
      ]
     },
     "execution_count": 52,
     "metadata": {},
     "output_type": "execute_result"
    }
   ],
   "source": [
    "(26500-4320)*(1.0357)**5.08"
   ]
  },
  {
   "cell_type": "code",
   "execution_count": 53,
   "metadata": {},
   "outputs": [
    {
     "data": {
      "text/plain": [
       "18231.490510198986"
      ]
     },
     "execution_count": 53,
     "metadata": {},
     "output_type": "execute_result"
    }
   ],
   "source": [
    "(18230-4320)*(1.0547)**5.08"
   ]
  },
  {
   "cell_type": "code",
   "execution_count": null,
   "metadata": {},
   "outputs": [],
   "source": []
  },
  {
   "cell_type": "code",
   "execution_count": null,
   "metadata": {},
   "outputs": [],
   "source": []
  }
 ],
 "metadata": {
  "kernelspec": {
   "display_name": "Python 3",
   "language": "python",
   "name": "python3"
  }
 },
 "nbformat": 4,
 "nbformat_minor": 2
}
