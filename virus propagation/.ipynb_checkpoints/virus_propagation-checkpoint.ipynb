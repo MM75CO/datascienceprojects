{
 "cells": [
  {
   "cell_type": "code",
   "execution_count": 1,
   "metadata": {
    "_cell_guid": "b1076dfc-b9ad-4769-8c92-a6c4dae69d19",
    "_uuid": "8f2839f25d086af736a60e9eeb907d3b93b6e0e5"
   },
   "outputs": [],
   "source": [
    "import numpy as np # linear algebra\n",
    "import pandas as pd # data processing, CSV file I/O (e.g. pd.read_csv)\n",
    "import matplotlib.pyplot as plt\n",
    "import matplotlib.animation as animation\n",
    "from matplotlib import style"
   ]
  },
  {
   "cell_type": "code",
   "execution_count": null,
   "metadata": {
    "_cell_guid": "79c7e3d0-c299-4dcb-8224-4455121ee9b0",
    "_uuid": "d629ff2d2480ee46fbb7e2d37f6b5fab8052498a"
   },
   "outputs": [],
   "source": []
  },
  {
   "cell_type": "code",
   "execution_count": 2,
   "metadata": {},
   "outputs": [
    {
     "data": {
      "image/png": "[encoded data removed]",
      "text/plain": [
       "<Figure size 432x288 with 2 Axes>"
      ]
     },
     "metadata": {
      "needs_background": "light"
     },
     "output_type": "display_data"
    }
   ],
   "source": [
    "%matplotlib inline\n",
    "from IPython.display import clear_output\n",
    "import time\n",
    "\n",
    "A=np.random.rand(100,100)*0\n",
    "\n",
    "A[50,50]=1\n",
    "A[0,0]=2\n",
    "A[99,99]=-1\n",
    "\n",
    "plt.figure()\n",
    "for k in range(100):\n",
    "    plt.imshow(A)#,cmap='gray')\n",
    "    plt.colorbar()\n",
    "    plt.title(str(k))\n",
    "    plt.show()\n",
    "    clear_output(wait=True)\n",
    "    #plt.pause(0.5)\n",
    "    Amem=np.copy(A)\n",
    "    for i in range(1,len(A)-1):\n",
    "        for j in range(1,len(A)-1):\n",
    "            # contamination\n",
    "            if Amem[i-1,j-1]==1 or Amem[i-1,j]==1 or Amem[i-1,j+1]==1 or Amem[i,j-1]==1 or Amem[i,j+1]==1 or Amem[i+1,j-1]==1 or Amem[i+1,j]==1 or Amem[i+1,j+1]==1:\n",
    "                if Amem[i,j]==0:\n",
    "                    A[i,j]=np.random.choice([0,1],p=[0.8,0.2])\n",
    "    \n",
    "    for i in range(1,len(A)-1):\n",
    "        for j in range(1,len(A)-1):\n",
    "            # probability of solving the illness\n",
    "            if A[i,j]==1:\n",
    "                A[i,j]=A[i,j] + np.random.choice([-2,0,1],p=[0.1,0.897,0.003])"
   ]
  },
  {
   "cell_type": "code",
   "execution_count": 3,
   "metadata": {},
   "outputs": [
    {
     "data": {
      "text/plain": [
       "(array([-1.,  0.,  1.,  2.]), array([6128, 2418, 1279,  175]))"
      ]
     },
     "execution_count": 3,
     "metadata": {},
     "output_type": "execute_result"
    }
   ],
   "source": [
    "np.unique(A,return_counts=True)"
   ]
  },
  {
   "cell_type": "markdown",
   "metadata": {},
   "source": [
    "### main code"
   ]
  },
  {
   "cell_type": "code",
   "execution_count": 4,
   "metadata": {},
   "outputs": [],
   "source": [
    "def evolution(num_pers2,init_cont,ndays,p_cont,duration,fatality_rate):\n",
    "    \n",
    "    # definition of initial parameters\n",
    "    \n",
    "    num_pers=int(np.sqrt(num_pers2))\n",
    "    morti=[]\n",
    "    contaminati=[]\n",
    "    \n",
    "    pg=1/(1+duration+fatality_rate)\n",
    "    pd=duration*pg\n",
    "    pm=fatality_rate*pg\n",
    "    \n",
    "    print(pg,pd,pm)\n",
    "    \n",
    "    # definition of initial matrix\n",
    "    \n",
    "    A=np.random.rand(num_pers,num_pers)*0\n",
    "    \n",
    "    for i in range(init_cont):\n",
    "        numrr1=np.random.randint(0,num_pers)\n",
    "        numrr2=np.random.randint(0,num_pers)\n",
    "        A[numrr1,numrr2]=1\n",
    "     #   print(numrr1,numrr2)\n",
    "\n",
    "    Acheck=np.copy(A)\n",
    "    \n",
    "    for k in range(ndays):\n",
    "        Amem=np.copy(A)\n",
    "        for i in range(1,len(A)-1):\n",
    "            for j in range(1,len(A)-1):\n",
    "            # contamination\n",
    "                if Amem[i-1,j-1]==1 or Amem[i-1,j]==1 or Amem[i-1,j+1]==1 or Amem[i,j-1]==1 or Amem[i,j+1]==1 or Amem[i+1,j-1]==1 or Amem[i+1,j]==1 or Amem[i+1,j+1]==1:\n",
    "                    if Amem[i,j]==0:\n",
    "                        A[i,j]=np.random.choice([0,1],p=[1-p_cont,p_cont])\n",
    "    \n",
    "        for i in range(1,len(A)-1):\n",
    "            for j in range(1,len(A)-1):\n",
    "            # probability of solving the illness\n",
    "                if A[i,j]==1:\n",
    "                    A[i,j]=A[i,j] + np.random.choice([-2,0,1],p=[pg,pd,pm])\n",
    "        morti.append(np.sum(A==2))\n",
    "        contaminati.append(np.sum(A==1)+np.sum(A==-1))\n",
    "        print(k)\n",
    "    return (contaminati,morti,Acheck)"
   ]
  },
  {
   "cell_type": "code",
   "execution_count": 5,
   "metadata": {},
   "outputs": [
    {
     "name": "stdout",
     "output_type": "stream",
     "text": [
      "0.09057971014492755 0.9057971014492755 0.003623188405797102\n",
      "0\n",
      "1\n",
      "2\n",
      "3\n",
      "4\n",
      "5\n",
      "6\n",
      "7\n",
      "8\n",
      "9\n",
      "10\n",
      "11\n",
      "12\n",
      "13\n",
      "14\n",
      "15\n",
      "16\n",
      "17\n",
      "18\n",
      "19\n",
      "20\n",
      "21\n",
      "22\n",
      "23\n",
      "24\n",
      "25\n",
      "26\n",
      "27\n",
      "28\n",
      "29\n",
      "30\n",
      "31\n",
      "32\n",
      "33\n",
      "34\n",
      "35\n",
      "36\n",
      "37\n",
      "38\n",
      "39\n",
      "40\n",
      "41\n",
      "42\n",
      "43\n",
      "44\n",
      "45\n",
      "46\n",
      "47\n",
      "48\n",
      "49\n"
     ]
    }
   ],
   "source": [
    "peppe=evolution(10**6,1,50,0.3,10,0.04)"
   ]
  },
  {
   "cell_type": "code",
   "execution_count": null,
   "metadata": {},
   "outputs": [],
   "source": []
  },
  {
   "cell_type": "markdown",
   "metadata": {},
   "source": [
    "### analysis of the data"
   ]
  },
  {
   "cell_type": "code",
   "execution_count": 6,
   "metadata": {},
   "outputs": [],
   "source": [
    "data_cont=pd.read_csv('contaminated.csv',header=None,sep='\\s+')\n",
    "data_dead=pd.read_csv('death.csv',header=None,sep='\\s+')"
   ]
  },
  {
   "cell_type": "code",
   "execution_count": 7,
   "metadata": {},
   "outputs": [
    {
     "data": {
      "image/png": "[encoded data removed]",
      "text/plain": [
       "<Figure size 432x288 with 1 Axes>"
      ]
     },
     "metadata": {
      "needs_background": "light"
     },
     "output_type": "display_data"
    }
   ],
   "source": [
    "plt.scatter(data_cont.iloc[:,0],data_cont.iloc[:,1],label='Contaminated')\n",
    "plt.scatter(data_dead.iloc[:,0],data_dead.iloc[:,1],label='Dead')\n",
    "plt.plot(peppe[0])\n",
    "plt.plot(peppe[1])\n",
    "plt.yscale('log')\n",
    "plt.xlabel('Number of days')\n",
    "plt.ylabel('Number of cases')\n",
    "plt.ylim(0.9,10**5)\n",
    "plt.xlim(0,20)\n",
    "plt.legend()\n",
    "plt.show()"
   ]
  },
  {
   "cell_type": "code",
   "execution_count": 8,
   "metadata": {},
   "outputs": [
    {
     "data": {
      "text/plain": [
       "array([0.33333333, 0.125     , 0.08333333, 0.05      , 0.03571429,\n",
       "       0.02325581, 0.01492537, 0.01086957, 0.01680672, 0.01360544,\n",
       "       0.01162791, 0.01456311, 0.01282051, 0.01107011, 0.01269841,\n",
       "       0.01373626, 0.01199041, 0.01458333, 0.01296296, 0.01172529,\n",
       "       0.01210287, 0.01216216, 0.01230012, 0.01463964, 0.01666667,\n",
       "       0.01825168, 0.01691897, 0.01744186, 0.01717408, 0.01751825,\n",
       "       0.01640465, 0.01546392, 0.0169697 , 0.01756374, 0.01911843,\n",
       "       0.02043868, 0.02223273, 0.02277803, 0.02291048, 0.02335884,\n",
       "       0.02415644, 0.02458716, 0.02531646, 0.02535023, 0.02517527,\n",
       "       0.02462755, 0.024942  , 0.025     , 0.02683504, 0.02777076])"
      ]
     },
     "execution_count": 8,
     "metadata": {},
     "output_type": "execute_result"
    }
   ],
   "source": [
    "np.array(peppe[1])/np.array(peppe[0])"
   ]
  },
  {
   "cell_type": "code",
   "execution_count": null,
   "metadata": {},
   "outputs": [],
   "source": []
  }
 ],
 "metadata": {
  "kernelspec": {
   "display_name": "Python 3",
   "language": "python",
   "name": "python3"
  },
  "language_info": {
   "codemirror_mode": {
    "name": "ipython",
    "version": 3
   },
   "file_extension": ".py",
   "mimetype": "text/x-python",
   "name": "python",
   "nbconvert_exporter": "python",
   "pygments_lexer": "ipython3",
   "version": "3.6.10"
  }
 },
 "nbformat": 4,
 "nbformat_minor": 1
}
