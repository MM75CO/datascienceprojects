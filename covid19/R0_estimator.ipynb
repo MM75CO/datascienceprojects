{
 "cells": [
  {
   "cell_type": "code",
   "execution_count": 2,
   "metadata": {},
   "outputs": [],
   "source": [
    "import numpy as np\n",
    "from scipy.integrate import odeint\n",
    "import matplotlib.pyplot as plt\n",
    "import pandas as pd\n",
    "from scipy.optimize import minimize"
   ]
  },
  {
   "cell_type": "markdown",
   "metadata": {},
   "source": [
    "### Definition of the model"
   ]
  },
  {
   "cell_type": "code",
   "execution_count": 3,
   "metadata": {},
   "outputs": [],
   "source": [
    "# The SIR model differential equations.\n",
    "def deriv(y, t, N, beta,gamma):\n",
    "    S,I,R = y\n",
    "\n",
    "    dSdt = -(beta*I/N)*S \n",
    "    dIdt = (beta*S/N)*I - gamma*I \n",
    "    dRdt = gamma*I \n",
    "    \n",
    "    return dSdt, dIdt, dRdt"
   ]
  },
  {
   "cell_type": "code",
   "execution_count": null,
   "metadata": {},
   "outputs": [],
   "source": []
  },
  {
   "cell_type": "markdown",
   "metadata": {},
   "source": [
    "### Integration of the differential equations"
   ]
  },
  {
   "cell_type": "code",
   "execution_count": 4,
   "metadata": {},
   "outputs": [],
   "source": [
    "def time_evo(N,beta,gamma,I0=1,R0=0,t=np.arange(0,365)):\n",
    "    # Definition of the initial conditions\n",
    "    # I0 and R0 denotes the number of initial infected people (I0) \n",
    "    # and the number of people that recovered and are immunized (R0)\n",
    "    \n",
    "    # t ise the timegrid\n",
    "    \n",
    "    S0=N-I0-R0  # number of people that can still contract the virus\n",
    "    \n",
    "    # Initial conditions vector\n",
    "    y0 = S0, I0, R0\n",
    "\n",
    "    # Integrate the SIR equations over the time grid, t.\n",
    "    ret = odeint(deriv, y0, t, args=(N,beta,gamma))\n",
    "    S, I, R = np.transpose(ret)\n",
    "    \n",
    "    return (t,S,I,R)"
   ]
  },
  {
   "cell_type": "markdown",
   "metadata": {},
   "source": [
    "### Show the result"
   ]
  },
  {
   "cell_type": "code",
   "execution_count": 5,
   "metadata": {},
   "outputs": [
    {
     "data": {
      "image/png": "[encoded data removed]",
      "text/plain": [
       "<Figure size 432x288 with 1 Axes>"
      ]
     },
     "metadata": {
      "needs_background": "light"
     },
     "output_type": "display_data"
    }
   ],
   "source": [
    "fin_result=time_evo(1000,0.5,0.1)\n",
    "\n",
    "t=fin_result[0]\n",
    "s_vec=fin_result[1]\n",
    "i_vec=fin_result[2]\n",
    "r_vec=fin_result[3]\n",
    "\n",
    "plt.plot(t, s_vec, 'b', label='Susceptible')\n",
    "plt.plot(t, i_vec, 'r', label='Infected')\n",
    "plt.plot(t, r_vec, 'g', label='Recovered')\n",
    "#plt.plot(t, m_vec, 'k', label='Deaths')\n",
    "#plt.plot(t, i_vec+r_vec, color='orange',linestyle='--', label='Infected + Recovered')\n",
    "plt.legend(loc=5)\n",
    "#plt.yscale('log')\n",
    "#plt.ylim(0.5,3000)\n",
    "plt.xlim(0,100)\n",
    "plt.xlabel('Number of days')\n",
    "plt.ylabel('Number of people')\n",
    "plt.grid(color='gray', linestyle='-', linewidth=0.5)\n",
    "plt.savefig('plotsir05.png',dpi=300)\n",
    "plt.show()\n",
    "\n",
    "#print(s_vec+i_vec+r_vec+m_vec)"
   ]
  },
  {
   "cell_type": "markdown",
   "metadata": {},
   "source": [
    "### Load italian data"
   ]
  },
  {
   "cell_type": "code",
   "execution_count": 6,
   "metadata": {},
   "outputs": [
    {
     "data": {
      "text/html": [
       "<div>\n",
       "<style scoped>\n",
       "    .dataframe tbody tr th:only-of-type {\n",
       "        vertical-align: middle;\n",
       "    }\n",
       "\n",
       "    .dataframe tbody tr th {\n",
       "        vertical-align: top;\n",
       "    }\n",
       "\n",
       "    .dataframe thead th {\n",
       "        text-align: right;\n",
       "    }\n",
       "</style>\n",
       "<table border=\"1\" class=\"dataframe\">\n",
       "  <thead>\n",
       "    <tr style=\"text-align: right;\">\n",
       "      <th></th>\n",
       "      <th>data</th>\n",
       "      <th>stato</th>\n",
       "      <th>ricoverati_con_sintomi</th>\n",
       "      <th>terapia_intensiva</th>\n",
       "      <th>totale_ospedalizzati</th>\n",
       "      <th>isolamento_domiciliare</th>\n",
       "      <th>totale_positivi</th>\n",
       "      <th>variazione_totale_positivi</th>\n",
       "      <th>nuovi_positivi</th>\n",
       "      <th>dimessi_guariti</th>\n",
       "      <th>deceduti</th>\n",
       "      <th>totale_casi</th>\n",
       "      <th>tamponi</th>\n",
       "      <th>casi_testati</th>\n",
       "      <th>note_it</th>\n",
       "      <th>note_en</th>\n",
       "    </tr>\n",
       "  </thead>\n",
       "  <tbody>\n",
       "    <tr>\n",
       "      <th>0</th>\n",
       "      <td>2020-02-24T18:00:00</td>\n",
       "      <td>ITA</td>\n",
       "      <td>101</td>\n",
       "      <td>26</td>\n",
       "      <td>127</td>\n",
       "      <td>94</td>\n",
       "      <td>221</td>\n",
       "      <td>0</td>\n",
       "      <td>221</td>\n",
       "      <td>1</td>\n",
       "      <td>7</td>\n",
       "      <td>229</td>\n",
       "      <td>4324</td>\n",
       "      <td>NaN</td>\n",
       "      <td>NaN</td>\n",
       "      <td>NaN</td>\n",
       "    </tr>\n",
       "    <tr>\n",
       "      <th>1</th>\n",
       "      <td>2020-02-25T18:00:00</td>\n",
       "      <td>ITA</td>\n",
       "      <td>114</td>\n",
       "      <td>35</td>\n",
       "      <td>150</td>\n",
       "      <td>162</td>\n",
       "      <td>311</td>\n",
       "      <td>90</td>\n",
       "      <td>93</td>\n",
       "      <td>1</td>\n",
       "      <td>10</td>\n",
       "      <td>322</td>\n",
       "      <td>8623</td>\n",
       "      <td>NaN</td>\n",
       "      <td>NaN</td>\n",
       "      <td>NaN</td>\n",
       "    </tr>\n",
       "    <tr>\n",
       "      <th>2</th>\n",
       "      <td>2020-02-26T18:00:00</td>\n",
       "      <td>ITA</td>\n",
       "      <td>128</td>\n",
       "      <td>36</td>\n",
       "      <td>164</td>\n",
       "      <td>221</td>\n",
       "      <td>385</td>\n",
       "      <td>74</td>\n",
       "      <td>78</td>\n",
       "      <td>3</td>\n",
       "      <td>12</td>\n",
       "      <td>400</td>\n",
       "      <td>9587</td>\n",
       "      <td>NaN</td>\n",
       "      <td>NaN</td>\n",
       "      <td>NaN</td>\n",
       "    </tr>\n",
       "    <tr>\n",
       "      <th>3</th>\n",
       "      <td>2020-02-27T18:00:00</td>\n",
       "      <td>ITA</td>\n",
       "      <td>248</td>\n",
       "      <td>56</td>\n",
       "      <td>304</td>\n",
       "      <td>284</td>\n",
       "      <td>588</td>\n",
       "      <td>203</td>\n",
       "      <td>250</td>\n",
       "      <td>45</td>\n",
       "      <td>17</td>\n",
       "      <td>650</td>\n",
       "      <td>12014</td>\n",
       "      <td>NaN</td>\n",
       "      <td>NaN</td>\n",
       "      <td>NaN</td>\n",
       "    </tr>\n",
       "    <tr>\n",
       "      <th>4</th>\n",
       "      <td>2020-02-28T18:00:00</td>\n",
       "      <td>ITA</td>\n",
       "      <td>345</td>\n",
       "      <td>64</td>\n",
       "      <td>409</td>\n",
       "      <td>412</td>\n",
       "      <td>821</td>\n",
       "      <td>233</td>\n",
       "      <td>238</td>\n",
       "      <td>46</td>\n",
       "      <td>21</td>\n",
       "      <td>888</td>\n",
       "      <td>15695</td>\n",
       "      <td>NaN</td>\n",
       "      <td>NaN</td>\n",
       "      <td>NaN</td>\n",
       "    </tr>\n",
       "  </tbody>\n",
       "</table>\n",
       "</div>"
      ],
      "text/plain": [
       "                  data stato  ricoverati_con_sintomi  terapia_intensiva  \\\n",
       "0  2020-02-24T18:00:00   ITA                     101                 26   \n",
       "1  2020-02-25T18:00:00   ITA                     114                 35   \n",
       "2  2020-02-26T18:00:00   ITA                     128                 36   \n",
       "3  2020-02-27T18:00:00   ITA                     248                 56   \n",
       "4  2020-02-28T18:00:00   ITA                     345                 64   \n",
       "\n",
       "   totale_ospedalizzati  isolamento_domiciliare  totale_positivi  \\\n",
       "0                   127                      94              221   \n",
       "1                   150                     162              311   \n",
       "2                   164                     221              385   \n",
       "3                   304                     284              588   \n",
       "4                   409                     412              821   \n",
       "\n",
       "   variazione_totale_positivi  nuovi_positivi  dimessi_guariti  deceduti  \\\n",
       "0                           0             221                1         7   \n",
       "1                          90              93                1        10   \n",
       "2                          74              78                3        12   \n",
       "3                         203             250               45        17   \n",
       "4                         233             238               46        21   \n",
       "\n",
       "   totale_casi  tamponi  casi_testati note_it note_en  \n",
       "0          229     4324           NaN     NaN     NaN  \n",
       "1          322     8623           NaN     NaN     NaN  \n",
       "2          400     9587           NaN     NaN     NaN  \n",
       "3          650    12014           NaN     NaN     NaN  \n",
       "4          888    15695           NaN     NaN     NaN  "
      ]
     },
     "execution_count": 6,
     "metadata": {},
     "output_type": "execute_result"
    }
   ],
   "source": [
    "scelta='nazionale'\n",
    "\n",
    "if scelta=='nazionale':\n",
    "    data = pd.read_csv('https://github.com/pcm-dpc/COVID-19/raw/master/dati-andamento-nazionale/dpc-covid19-ita-andamento-nazionale.csv')\n",
    "    xdata=pd.to_numeric(range(data.shape[0]))\n",
    "    ydata=data['totale_casi']\n",
    "    ydata_death=data['deceduti']\n",
    "    ydata_rec=data['dimessi_guariti']\n",
    "    ydata_inf=ydata-ydata_rec-ydata_death\n",
    "\n",
    "elif scelta=='regionale':\n",
    "    datatot = pd.read_csv('https://raw.githubusercontent.com/pcm-dpc/COVID-19/master/dati-regioni/dpc-covid19-ita-regioni.csv')\n",
    "    mask = datatot['denominazione_regione']=='Molise'\n",
    "    data =datatot.loc[mask,:]\n",
    "    xdata=pd.to_numeric(range(data.shape[0]))\n",
    "    ydata=data['totale_casi']\n",
    "    ydata_death=data['deceduti']\n",
    "    ydata_rec=data['dimessi_guariti']\n",
    "    ydata_inf=np.array(ydata-ydata_death-ydata_rec)\n",
    "    \n",
    "data.head()"
   ]
  },
  {
   "cell_type": "code",
   "execution_count": 7,
   "metadata": {},
   "outputs": [
    {
     "data": {
      "text/plain": [
       "data                          2020-04-21T17:00:00\n",
       "stato                                         ITA\n",
       "ricoverati_con_sintomi                      24134\n",
       "terapia_intensiva                            2471\n",
       "totale_ospedalizzati                        26605\n",
       "isolamento_domiciliare                      81104\n",
       "totale_positivi                            107709\n",
       "variazione_totale_positivi                   -528\n",
       "nuovi_positivi                               2729\n",
       "dimessi_guariti                             51600\n",
       "deceduti                                    24648\n",
       "totale_casi                                183957\n",
       "tamponi                                   1450150\n",
       "casi_testati                               971246\n",
       "note_it                                pd-IT-0013\n",
       "note_en                                pd-EN-0013\n",
       "Name: 57, dtype: object"
      ]
     },
     "execution_count": 7,
     "metadata": {},
     "output_type": "execute_result"
    }
   ],
   "source": [
    "data.iloc[-1]"
   ]
  },
  {
   "cell_type": "markdown",
   "metadata": {},
   "source": [
    "# comparison between model and data"
   ]
  },
  {
   "cell_type": "code",
   "execution_count": 8,
   "metadata": {},
   "outputs": [
    {
     "data": {
      "image/png": "[encoded data removed]",
      "text/plain": [
       "<Figure size 432x288 with 1 Axes>"
      ]
     },
     "metadata": {
      "needs_background": "light"
     },
     "output_type": "display_data"
    }
   ],
   "source": [
    "today=len(xdata)\n",
    "\n",
    "def minimizer(R0,t1=today-5,t2=today):\n",
    "    \n",
    "    #true data\n",
    "    ydata_inf_2=np.array(ydata_inf[t1:t2])\n",
    "    xdata_2=np.arange(0,len(ydata_inf_2))\n",
    "    \n",
    "    #model\n",
    "    fin_result=time_evo(60*10**6,0.1*R0,0.1,I0=ydata_inf_2[0])\n",
    "    i_vec=fin_result[2]\n",
    "    i_vec_2=i_vec[0:len(xdata_2)]\n",
    "    \n",
    "    #average error\n",
    "    error=np.sum(np.abs(ydata_inf_2-i_vec_2)/ydata_inf_2)*100\n",
    "    \n",
    "    return error\n",
    "\n",
    "minimizer_vec=np.vectorize(minimizer)\n",
    "\n",
    "\n",
    "#definition of the ideal r0\n",
    "\n",
    "xgrid=np.arange(0.01,1.3,0.01)\n",
    "ygrid=minimizer_vec(xgrid)\n",
    "r0_ideal=round(xgrid[np.argmin(ygrid)],2)\n",
    "r0_ideal\n",
    "\n",
    "plt.plot(xgrid,ygrid)\n",
    "plt.show()"
   ]
  },
  {
   "cell_type": "markdown",
   "metadata": {},
   "source": [
    "### model for the italian situation"
   ]
  },
  {
   "cell_type": "code",
   "execution_count": 9,
   "metadata": {},
   "outputs": [
    {
     "data": {
      "image/png": "[encoded data removed]",
      "text/plain": [
       "<Figure size 360x360 with 1 Axes>"
      ]
     },
     "metadata": {
      "needs_background": "light"
     },
     "output_type": "display_data"
    }
   ],
   "source": [
    "ydata_inf_2=np.array(ydata_inf[today-5:today])\n",
    "xdata_2=np.arange(0,len(ydata_inf_2))\n",
    "\n",
    "fin_result=time_evo(60*10**6,0.1*r0_ideal,0.1,I0=ydata_inf_2[0])\n",
    "\n",
    "t=fin_result[0]\n",
    "s_vec=fin_result[1]\n",
    "i_vec=fin_result[2]\n",
    "r_vec=fin_result[3]\n",
    "\n",
    "plt.figure(figsize=(5,5))\n",
    "plt.errorbar(xdata_2,ydata_inf_2,np.sqrt(ydata_inf_2),color='red',linestyle='None',marker='s',label='Infected (data)')\n",
    "plt.plot(t, i_vec, 'r--', label='Infected (model)')\n",
    "#plt.yscale('log')\n",
    "#plt.xticks(np.arange(14,70,7),['21 Feb','28 Feb','6 Mar','13 Mar','20 Mar','27 Mar','3 Apr','10 Apr'],rotation=30)\n",
    "plt.xlim(-0.5,5.5)\n",
    "plt.ylim(9.5*10**4,1.1*10**5)\n",
    "#plt.ylim(0,300)\n",
    "plt.xlabel('Data')\n",
    "plt.ylabel('Counter')\n",
    "plt.legend()\n",
    "plt.grid(color='gray', linestyle='--', linewidth=0.5)\n",
    "plt.title('R0='+str(r0_ideal)+' (last 5 days)')\n",
    "plt.savefig('output/r0-5days.png',dpi=300)\n",
    "plt.show()"
   ]
  },
  {
   "cell_type": "markdown",
   "metadata": {},
   "source": [
    "### scan di R0 nel corso del tempo"
   ]
  },
  {
   "cell_type": "code",
   "execution_count": 23,
   "metadata": {},
   "outputs": [
    {
     "name": "stdout",
     "output_type": "stream",
     "text": [
      "0 4.27\n",
      "1 4.04\n",
      "2 4.52\n",
      "3 3.89\n",
      "4 3.54\n",
      "5 3.56\n",
      "6 2.81\n",
      "7 2.94\n",
      "8 2.88\n",
      "9 3.09\n",
      "10 3.21\n",
      "11 3.37\n",
      "12 2.85\n",
      "13 2.69\n",
      "14 2.57\n",
      "15 2.88\n",
      "16 2.72\n",
      "17 2.53\n",
      "18 2.44\n",
      "19 2.28\n",
      "20 2.18\n",
      "21 2.22\n",
      "22 2.23\n",
      "23 2.32\n",
      "24 2.13\n",
      "25 1.95\n",
      "26 1.79\n",
      "27 1.71\n",
      "28 1.69\n",
      "29 1.66\n",
      "30 1.66\n",
      "31 1.58\n",
      "32 1.43\n",
      "33 1.35\n",
      "34 1.29\n",
      "35 1.31\n",
      "36 1.32\n",
      "37 1.31\n",
      "38 1.3\n",
      "39 1.29\n",
      "40 1.21\n",
      "41 1.15\n",
      "42 1.13\n",
      "43 1.15\n",
      "44 1.17\n",
      "45 1.17\n",
      "46 1.18\n",
      "47 1.13\n",
      "48 1.1\n",
      "49 1.09\n",
      "50 1.09\n",
      "51 1.07\n",
      "52 1.05\n",
      "53 1.04\n"
     ]
    }
   ],
   "source": [
    "time_window=5\n",
    "\n",
    "def minimizer_gen(t1,t2):\n",
    "\n",
    "    xgrid=np.arange(0.1,5,0.01)\n",
    "    ygrid=minimizer_vec(xgrid,t1=t1,t2=t2)\n",
    "    r0_ideal=round(xgrid[np.argmin(ygrid)],2)\n",
    "\n",
    "    return r0_ideal\n",
    "\n",
    "r0_time=[]\n",
    "\n",
    "for i in range(today-(time_window-1)):\n",
    "    min_val=minimizer_gen(i,i+time_window)\n",
    "    r0_time.append(min_val)\n",
    "    print(i,min_val)\n",
    "    \n",
    "r0_time=np.array(r0_time)"
   ]
  },
  {
   "cell_type": "code",
   "execution_count": 24,
   "metadata": {},
   "outputs": [
    {
     "data": {
      "image/png": "[encoded data removed]",
      "text/plain": [
       "<Figure size 360x360 with 1 Axes>"
      ]
     },
     "metadata": {
      "needs_background": "light"
     },
     "output_type": "display_data"
    }
   ],
   "source": [
    "plt.figure(figsize=(5,5))\n",
    "plt.plot(r0_time)\n",
    "plt.xticks(np.arange(0-(time_window-5),55,7),['28 Feb','6 Mar','13 Mar','20 Mar','27 Mar','3 Apr','10 Apr','17 Apr'],rotation=20)\n",
    "plt.xlim(0,today-4)\n",
    "#plt.xlim(19,today-9)\n",
    "plt.ylabel('$R_0$')\n",
    "plt.ylim(0,5)\n",
    "plt.grid()\n",
    "plt.title('Evolution of $R_0$')\n",
    "plt.savefig('output/r0-evo.png',dpi=300)\n",
    "plt.show()"
   ]
  },
  {
   "cell_type": "code",
   "execution_count": 25,
   "metadata": {},
   "outputs": [
    {
     "data": {
      "image/png": "[encoded data removed]",
      "text/plain": [
       "<Figure size 432x288 with 1 Axes>"
      ]
     },
     "metadata": {
      "needs_background": "light"
     },
     "output_type": "display_data"
    }
   ],
   "source": [
    "#plt.figure(figsize=(5,5))\n",
    "plt.plot(r0_time)\n",
    "plt.xticks(np.arange(0-(time_window-5),55,7),['28 Feb','6 Mar','13 Mar','20 Mar','27 Mar','3 Apr','10 Apr','17 Apr'],rotation=20)\n",
    "#plt.xlim(0,today-4)\n",
    "plt.xlim(19,today-9)\n",
    "plt.ylabel('$R_0$')\n",
    "plt.ylim(1,2.75)\n",
    "plt.grid()\n",
    "plt.title('Evoluzione di $R_0$ in Molise')\n",
    "plt.savefig('output/r0-evo-molise.png',dpi=300)\n",
    "plt.show()"
   ]
  },
  {
   "cell_type": "code",
   "execution_count": 26,
   "metadata": {},
   "outputs": [],
   "source": [
    "df_r0=pd.DataFrame(pd.to_datetime(np.arange(len(r0_time)),unit='D',origin='2020-02-28'))\n",
    "df_r0['R0']=r0_time\n",
    "df_r0.columns=['Data','R0']"
   ]
  },
  {
   "cell_type": "code",
   "execution_count": 27,
   "metadata": {},
   "outputs": [],
   "source": [
    "df_r0.to_csv('output/r0.csv',index=False)"
   ]
  },
  {
   "cell_type": "code",
   "execution_count": 28,
   "metadata": {},
   "outputs": [
    {
     "data": {
      "image/png": "[encoded data removed]",
      "text/plain": [
       "<Figure size 432x288 with 1 Axes>"
      ]
     },
     "metadata": {
      "needs_background": "light"
     },
     "output_type": "display_data"
    }
   ],
   "source": [
    "data_tamponi=np.array(data['tamponi'])\n",
    "incr_tamponi=[data_tamponi[0]]\n",
    "\n",
    "for i in range(len(data_tamponi)-1):\n",
    "    incr_tamponi.append(data_tamponi[i+1]-data_tamponi[i])\n",
    "\n",
    "plt.bar(np.arange(len(incr_tamponi)),incr_tamponi)\n",
    "plt.xticks(np.arange(4,55,7),['28 Feb','6 Mar','13 Mar','20 Mar','27 Mar','3 Apr','10 Apr','17 Apr'],rotation=20)\n",
    "plt.ylabel('Numero giornaliero')\n",
    "plt.title('Tamponi effettuati')\n",
    "plt.show()"
   ]
  },
  {
   "cell_type": "code",
   "execution_count": 29,
   "metadata": {},
   "outputs": [
    {
     "name": "stdout",
     "output_type": "stream",
     "text": [
      "media tamponi  25002.58620689655\n",
      "deviazione standard tamponi  18395.546951813136\n"
     ]
    }
   ],
   "source": [
    "print('media tamponi ',np.mean(incr_tamponi))\n",
    "\n",
    "print('deviazione standard tamponi ',np.std(incr_tamponi))"
   ]
  },
  {
   "cell_type": "markdown",
   "metadata": {},
   "source": [
    "### caso regionale (Molise)"
   ]
  },
  {
   "cell_type": "code",
   "execution_count": 30,
   "metadata": {},
   "outputs": [
    {
     "name": "stdout",
     "output_type": "stream",
     "text": [
      "Regional plot not available. Please change the choice of the parameter scelta in scelta=regionale\n"
     ]
    }
   ],
   "source": [
    "if scelta=='regionale':\n",
    "    plt.figure(figsize=(15,5))\n",
    "    plt.subplot(1,3,1)\n",
    "    plt.plot(ydata_inf)\n",
    "    plt.xticks(np.arange(4,55,7),['28 Feb','6 Mar','13 Mar','20 Mar','27 Mar','3 Apr','10 Apr','17 Apr'],rotation=20)\n",
    "    plt.ylabel('Numero totale')\n",
    "    plt.title('Infetti attivi')\n",
    "    plt.subplot(1,3,2)\n",
    "    plt.plot(r0_time)\n",
    "    plt.xticks(np.arange(0-(time_window-5),55,7),['28 Feb','6 Mar','13 Mar','20 Mar','27 Mar','3 Apr','10 Apr','17 Apr'],rotation=20)\n",
    "    plt.xlim(0,today-7)\n",
    "    plt.ylabel('$R_0$')\n",
    "    plt.ylim(1,3.2)\n",
    "    plt.grid()\n",
    "    plt.title('Evoluzione del parametro $R_0$ in Molise')\n",
    "    plt.subplot(1,3,3)\n",
    "    plt.bar(np.arange(len(incr_tamponi)),incr_tamponi)\n",
    "    plt.xticks(np.arange(4,55,7),['28 Feb','6 Mar','13 Mar','20 Mar','27 Mar','3 Apr','10 Apr','17 Apr'],rotation=20)\n",
    "    plt.ylabel('Numero giornaliero')\n",
    "    plt.title('Tamponi effettuati')\n",
    "    plt.tight_layout()\n",
    "    plt.savefig('output/r0-evo-Molise.png',dpi=300)\n",
    "    plt.show()\n",
    "else:\n",
    "    print('Regional plot not available. Please change the choice of the parameter scelta in scelta=regionale')"
   ]
  },
  {
   "cell_type": "markdown",
   "metadata": {},
   "source": [
    "## loop regionale su R0 (time window, 7 giorni)"
   ]
  },
  {
   "cell_type": "code",
   "execution_count": 31,
   "metadata": {},
   "outputs": [],
   "source": [
    "datatot = pd.read_csv('https://raw.githubusercontent.com/pcm-dpc/COVID-19/master/dati-regioni/dpc-covid19-ita-regioni.csv')\n",
    "\n",
    "def R0_regioni(nome):\n",
    "\n",
    "    mask = datatot['denominazione_regione']==nome\n",
    "    data =datatot.loc[mask,:]\n",
    "    xdata=pd.to_numeric(range(data.shape[0]))\n",
    "    ydata=data['totale_casi']\n",
    "    ydata_death=data['deceduti']\n",
    "    ydata_rec=data['dimessi_guariti']\n",
    "    ydata_inf=np.array(ydata-ydata_death-ydata_rec)\n",
    "\n",
    "    today=len(xdata)\n",
    "\n",
    "    def minimizer(R0,t1=today-7,t2=today):\n",
    "    \n",
    "        #true data\n",
    "        ydata_inf_2=np.array(ydata_inf[t1:t2])\n",
    "        xdata_2=np.arange(0,len(ydata_inf_2))\n",
    "    \n",
    "        #model\n",
    "        fin_result=time_evo(60*10**6,0.1*R0,0.1,I0=ydata_inf_2[0])\n",
    "        i_vec=fin_result[2]\n",
    "        i_vec_2=i_vec[0:len(xdata_2)]\n",
    "    \n",
    "        #average error\n",
    "        error=np.sum(np.abs(ydata_inf_2-i_vec_2)/ydata_inf_2)*100\n",
    "    \n",
    "        return error\n",
    "\n",
    "    minimizer_vec=np.vectorize(minimizer)\n",
    "\n",
    "\n",
    "    #definition of the ideal r0\n",
    "\n",
    "    xgrid=np.arange(0.01,1.3,0.01)\n",
    "    ygrid=minimizer_vec(xgrid)\n",
    "    r0_ideal=round(xgrid[np.argmin(ygrid)],2)\n",
    "    r0_ideal\n",
    "\n",
    "    return r0_ideal"
   ]
  },
  {
   "cell_type": "code",
   "execution_count": 19,
   "metadata": {},
   "outputs": [
    {
     "data": {
      "text/plain": [
       "1.06"
      ]
     },
     "execution_count": 19,
     "metadata": {},
     "output_type": "execute_result"
    }
   ],
   "source": [
    "R0_regioni('Molise')"
   ]
  },
  {
   "cell_type": "code",
   "execution_count": 32,
   "metadata": {},
   "outputs": [
    {
     "name": "stdout",
     "output_type": "stream",
     "text": [
      "Abruzzo\n",
      "Basilicata\n",
      "P.A. Bolzano\n",
      "Calabria\n",
      "Campania\n",
      "Emilia-Romagna\n",
      "Friuli Venezia Giulia\n",
      "Lazio\n",
      "Liguria\n",
      "Lombardia\n",
      "Marche\n",
      "Molise\n",
      "Piemonte\n",
      "Puglia\n",
      "Sardegna\n",
      "Sicilia\n",
      "Toscana\n",
      "P.A. Trento\n",
      "Umbria\n",
      "Valle d'Aosta\n",
      "Veneto\n"
     ]
    }
   ],
   "source": [
    "name_regions       = np.array(['Abruzzo','Basilicata','P.A. Bolzano','Calabria','Campania','Emilia-Romagna','Friuli Venezia Giulia','Lazio','Liguria','Lombardia','Marche','Molise','Piemonte','Puglia','Sardegna','Sicilia','Toscana','P.A. Trento','Umbria','Valle d\\'Aosta','Veneto'])\n",
    "R0_list=[]\n",
    "\n",
    "for name in name_regions:\n",
    "    R0_list.append(R0_regioni(name))\n",
    "    print(name)\n",
    "\n",
    "R0_list=np.array(R0_list)"
   ]
  },
  {
   "cell_type": "code",
   "execution_count": 33,
   "metadata": {},
   "outputs": [
    {
     "data": {
      "image/png": "[encoded data removed]",
      "text/plain": [
       "<Figure size 576x360 with 1 Axes>"
      ]
     },
     "metadata": {
      "needs_background": "light"
     },
     "output_type": "display_data"
    }
   ],
   "source": [
    "maskR0= R0_list < 1\n",
    "\n",
    "xgriglia=np.arange(len(R0_list))\n",
    "\n",
    "plt.figure(figsize=(8,5))\n",
    "plt.bar(xgriglia,R0_list)\n",
    "plt.bar(xgriglia[maskR0],R0_list[maskR0])\n",
    "plt.xticks(np.arange(len(R0_list)),name_regions,rotation=90)\n",
    "plt.tight_layout()\n",
    "plt.title('R0 nelle regioni')\n",
    "plt.ylabel('R0')\n",
    "plt.tight_layout()\n",
    "plt.savefig('output/r0-histogram.png',dpi=300)\n",
    "plt.show()"
   ]
  },
  {
   "cell_type": "code",
   "execution_count": 34,
   "metadata": {},
   "outputs": [
    {
     "data": {
      "text/html": [
       "<div>\n",
       "<style scoped>\n",
       "    .dataframe tbody tr th:only-of-type {\n",
       "        vertical-align: middle;\n",
       "    }\n",
       "\n",
       "    .dataframe tbody tr th {\n",
       "        vertical-align: top;\n",
       "    }\n",
       "\n",
       "    .dataframe thead th {\n",
       "        text-align: right;\n",
       "    }\n",
       "</style>\n",
       "<table border=\"1\" class=\"dataframe\">\n",
       "  <thead>\n",
       "    <tr style=\"text-align: right;\">\n",
       "      <th></th>\n",
       "      <th>nome regioni</th>\n",
       "      <th>r0</th>\n",
       "    </tr>\n",
       "  </thead>\n",
       "  <tbody>\n",
       "    <tr>\n",
       "      <th>0</th>\n",
       "      <td>Abruzzo</td>\n",
       "      <td>1.24</td>\n",
       "    </tr>\n",
       "    <tr>\n",
       "      <th>1</th>\n",
       "      <td>Basilicata</td>\n",
       "      <td>0.89</td>\n",
       "    </tr>\n",
       "    <tr>\n",
       "      <th>2</th>\n",
       "      <td>P.A. Bolzano</td>\n",
       "      <td>0.96</td>\n",
       "    </tr>\n",
       "    <tr>\n",
       "      <th>3</th>\n",
       "      <td>Calabria</td>\n",
       "      <td>1.02</td>\n",
       "    </tr>\n",
       "    <tr>\n",
       "      <th>4</th>\n",
       "      <td>Campania</td>\n",
       "      <td>0.95</td>\n",
       "    </tr>\n",
       "    <tr>\n",
       "      <th>5</th>\n",
       "      <td>Emilia-Romagna</td>\n",
       "      <td>0.99</td>\n",
       "    </tr>\n",
       "    <tr>\n",
       "      <th>6</th>\n",
       "      <td>Friuli Venezia Giulia</td>\n",
       "      <td>0.91</td>\n",
       "    </tr>\n",
       "    <tr>\n",
       "      <th>7</th>\n",
       "      <td>Lazio</td>\n",
       "      <td>1.16</td>\n",
       "    </tr>\n",
       "    <tr>\n",
       "      <th>8</th>\n",
       "      <td>Liguria</td>\n",
       "      <td>1.00</td>\n",
       "    </tr>\n",
       "    <tr>\n",
       "      <th>9</th>\n",
       "      <td>Lombardia</td>\n",
       "      <td>1.10</td>\n",
       "    </tr>\n",
       "    <tr>\n",
       "      <th>10</th>\n",
       "      <td>Marche</td>\n",
       "      <td>1.07</td>\n",
       "    </tr>\n",
       "    <tr>\n",
       "      <th>11</th>\n",
       "      <td>Molise</td>\n",
       "      <td>1.06</td>\n",
       "    </tr>\n",
       "    <tr>\n",
       "      <th>12</th>\n",
       "      <td>Piemonte</td>\n",
       "      <td>1.20</td>\n",
       "    </tr>\n",
       "    <tr>\n",
       "      <th>13</th>\n",
       "      <td>Puglia</td>\n",
       "      <td>1.16</td>\n",
       "    </tr>\n",
       "    <tr>\n",
       "      <th>14</th>\n",
       "      <td>Sardegna</td>\n",
       "      <td>0.96</td>\n",
       "    </tr>\n",
       "    <tr>\n",
       "      <th>15</th>\n",
       "      <td>Sicilia</td>\n",
       "      <td>1.14</td>\n",
       "    </tr>\n",
       "    <tr>\n",
       "      <th>16</th>\n",
       "      <td>Toscana</td>\n",
       "      <td>1.05</td>\n",
       "    </tr>\n",
       "    <tr>\n",
       "      <th>17</th>\n",
       "      <td>P.A. Trento</td>\n",
       "      <td>0.83</td>\n",
       "    </tr>\n",
       "    <tr>\n",
       "      <th>18</th>\n",
       "      <td>Umbria</td>\n",
       "      <td>0.36</td>\n",
       "    </tr>\n",
       "    <tr>\n",
       "      <th>19</th>\n",
       "      <td>Valle d'Aosta</td>\n",
       "      <td>1.00</td>\n",
       "    </tr>\n",
       "    <tr>\n",
       "      <th>20</th>\n",
       "      <td>Veneto</td>\n",
       "      <td>0.88</td>\n",
       "    </tr>\n",
       "  </tbody>\n",
       "</table>\n",
       "</div>"
      ],
      "text/plain": [
       "             nome regioni    r0\n",
       "0                 Abruzzo  1.24\n",
       "1              Basilicata  0.89\n",
       "2            P.A. Bolzano  0.96\n",
       "3                Calabria  1.02\n",
       "4                Campania  0.95\n",
       "5          Emilia-Romagna  0.99\n",
       "6   Friuli Venezia Giulia  0.91\n",
       "7                   Lazio  1.16\n",
       "8                 Liguria  1.00\n",
       "9               Lombardia  1.10\n",
       "10                 Marche  1.07\n",
       "11                 Molise  1.06\n",
       "12               Piemonte  1.20\n",
       "13                 Puglia  1.16\n",
       "14               Sardegna  0.96\n",
       "15                Sicilia  1.14\n",
       "16                Toscana  1.05\n",
       "17            P.A. Trento  0.83\n",
       "18                 Umbria  0.36\n",
       "19          Valle d'Aosta  1.00\n",
       "20                 Veneto  0.88"
      ]
     },
     "execution_count": 34,
     "metadata": {},
     "output_type": "execute_result"
    }
   ],
   "source": [
    "df_r0_regioni=pd.DataFrame(list(zip(name_regions,R0_list)))\n",
    "df_r0_regioni.columns=['nome regioni','r0']\n",
    "\n",
    "df_r0_regioni"
   ]
  },
  {
   "cell_type": "code",
   "execution_count": null,
   "metadata": {},
   "outputs": [],
   "source": []
  },
  {
   "cell_type": "code",
   "execution_count": null,
   "metadata": {},
   "outputs": [],
   "source": []
  }
 ],
 "metadata": {
  "kernelspec": {
   "display_name": "Python 3",
   "language": "python",
   "name": "python3"
  },
  "language_info": {
   "codemirror_mode": {
    "name": "ipython",
    "version": 3
   },
   "file_extension": ".py",
   "mimetype": "text/x-python",
   "name": "python",
   "nbconvert_exporter": "python",
   "pygments_lexer": "ipython3",
   "version": "3.6.10"
  }
 },
 "nbformat": 4,
 "nbformat_minor": 2
}
