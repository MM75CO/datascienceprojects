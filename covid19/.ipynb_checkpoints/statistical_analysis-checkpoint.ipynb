{
 "cells": [
  {
   "cell_type": "code",
   "execution_count": 1,
   "metadata": {},
   "outputs": [],
   "source": [
    "import numpy as np\n",
    "import matplotlib.pyplot as plt\n",
    "import pandas as pd\n",
    "import matplotlib.gridspec as gridspec"
   ]
  },
  {
   "cell_type": "markdown",
   "metadata": {},
   "source": [
    "## Import data"
   ]
  },
  {
   "cell_type": "code",
   "execution_count": 2,
   "metadata": {},
   "outputs": [],
   "source": [
    "file_confirmed='https://raw.githubusercontent.com/CSSEGISandData/COVID-19/master/csse_covid_19_data/csse_covid_19_time_series/time_series_covid19_confirmed_global.csv'\n",
    "file_deaths='https://raw.githubusercontent.com/CSSEGISandData/COVID-19/master/csse_covid_19_data/csse_covid_19_time_series/time_series_covid19_deaths_global.csv'\n",
    "file_recovered='https://raw.githubusercontent.com/CSSEGISandData/COVID-19/master/csse_covid_19_data/csse_covid_19_time_series/time_series_covid19_recovered_global.csv'\n",
    "\n",
    "df_confirmed=pd.read_csv(file_confirmed)\n",
    "df_deaths=pd.read_csv(file_deaths)\n",
    "df_recovered=pd.read_csv(file_recovered)"
   ]
  },
  {
   "cell_type": "code",
   "execution_count": 3,
   "metadata": {},
   "outputs": [
    {
     "data": {
      "text/html": [
       "<div>\n",
       "<style scoped>\n",
       "    .dataframe tbody tr th:only-of-type {\n",
       "        vertical-align: middle;\n",
       "    }\n",
       "\n",
       "    .dataframe tbody tr th {\n",
       "        vertical-align: top;\n",
       "    }\n",
       "\n",
       "    .dataframe thead th {\n",
       "        text-align: right;\n",
       "    }\n",
       "</style>\n",
       "<table border=\"1\" class=\"dataframe\">\n",
       "  <thead>\n",
       "    <tr style=\"text-align: right;\">\n",
       "      <th></th>\n",
       "      <th>Province/State</th>\n",
       "      <th>Country/Region</th>\n",
       "      <th>Lat</th>\n",
       "      <th>Long</th>\n",
       "      <th>1/22/2020</th>\n",
       "      <th>1/23/2020</th>\n",
       "      <th>1/24/2020</th>\n",
       "      <th>1/25/2020</th>\n",
       "      <th>1/26/2020</th>\n",
       "      <th>1/27/2020</th>\n",
       "      <th>...</th>\n",
       "      <th>3/15/2020</th>\n",
       "      <th>3/16/2020</th>\n",
       "      <th>3/17/2020</th>\n",
       "      <th>3/18/2020</th>\n",
       "      <th>3/19/2020</th>\n",
       "      <th>3/20/2020</th>\n",
       "      <th>3/21/2020</th>\n",
       "      <th>3/22/2020</th>\n",
       "      <th>3/23/2020</th>\n",
       "      <th>3/24/2020</th>\n",
       "    </tr>\n",
       "  </thead>\n",
       "  <tbody>\n",
       "    <tr>\n",
       "      <th>0</th>\n",
       "      <td>NaN</td>\n",
       "      <td>Afghanistan</td>\n",
       "      <td>33.0000</td>\n",
       "      <td>65.0000</td>\n",
       "      <td>0</td>\n",
       "      <td>0</td>\n",
       "      <td>0</td>\n",
       "      <td>0</td>\n",
       "      <td>0</td>\n",
       "      <td>0</td>\n",
       "      <td>...</td>\n",
       "      <td>0</td>\n",
       "      <td>1</td>\n",
       "      <td>1</td>\n",
       "      <td>1</td>\n",
       "      <td>1</td>\n",
       "      <td>1</td>\n",
       "      <td>1</td>\n",
       "      <td>1</td>\n",
       "      <td>1</td>\n",
       "      <td>1</td>\n",
       "    </tr>\n",
       "    <tr>\n",
       "      <th>1</th>\n",
       "      <td>NaN</td>\n",
       "      <td>Albania</td>\n",
       "      <td>41.1533</td>\n",
       "      <td>20.1683</td>\n",
       "      <td>0</td>\n",
       "      <td>0</td>\n",
       "      <td>0</td>\n",
       "      <td>0</td>\n",
       "      <td>0</td>\n",
       "      <td>0</td>\n",
       "      <td>...</td>\n",
       "      <td>0</td>\n",
       "      <td>0</td>\n",
       "      <td>0</td>\n",
       "      <td>0</td>\n",
       "      <td>0</td>\n",
       "      <td>0</td>\n",
       "      <td>2</td>\n",
       "      <td>2</td>\n",
       "      <td>2</td>\n",
       "      <td>10</td>\n",
       "    </tr>\n",
       "    <tr>\n",
       "      <th>2</th>\n",
       "      <td>NaN</td>\n",
       "      <td>Algeria</td>\n",
       "      <td>28.0339</td>\n",
       "      <td>1.6596</td>\n",
       "      <td>0</td>\n",
       "      <td>0</td>\n",
       "      <td>0</td>\n",
       "      <td>0</td>\n",
       "      <td>0</td>\n",
       "      <td>0</td>\n",
       "      <td>...</td>\n",
       "      <td>12</td>\n",
       "      <td>12</td>\n",
       "      <td>12</td>\n",
       "      <td>12</td>\n",
       "      <td>32</td>\n",
       "      <td>32</td>\n",
       "      <td>32</td>\n",
       "      <td>65</td>\n",
       "      <td>65</td>\n",
       "      <td>24</td>\n",
       "    </tr>\n",
       "    <tr>\n",
       "      <th>3</th>\n",
       "      <td>NaN</td>\n",
       "      <td>Andorra</td>\n",
       "      <td>42.5063</td>\n",
       "      <td>1.5218</td>\n",
       "      <td>0</td>\n",
       "      <td>0</td>\n",
       "      <td>0</td>\n",
       "      <td>0</td>\n",
       "      <td>0</td>\n",
       "      <td>0</td>\n",
       "      <td>...</td>\n",
       "      <td>1</td>\n",
       "      <td>1</td>\n",
       "      <td>1</td>\n",
       "      <td>1</td>\n",
       "      <td>1</td>\n",
       "      <td>1</td>\n",
       "      <td>1</td>\n",
       "      <td>1</td>\n",
       "      <td>1</td>\n",
       "      <td>1</td>\n",
       "    </tr>\n",
       "    <tr>\n",
       "      <th>4</th>\n",
       "      <td>NaN</td>\n",
       "      <td>Angola</td>\n",
       "      <td>-11.2027</td>\n",
       "      <td>17.8739</td>\n",
       "      <td>0</td>\n",
       "      <td>0</td>\n",
       "      <td>0</td>\n",
       "      <td>0</td>\n",
       "      <td>0</td>\n",
       "      <td>0</td>\n",
       "      <td>...</td>\n",
       "      <td>0</td>\n",
       "      <td>0</td>\n",
       "      <td>0</td>\n",
       "      <td>0</td>\n",
       "      <td>0</td>\n",
       "      <td>0</td>\n",
       "      <td>0</td>\n",
       "      <td>0</td>\n",
       "      <td>0</td>\n",
       "      <td>0</td>\n",
       "    </tr>\n",
       "    <tr>\n",
       "      <th>...</th>\n",
       "      <td>...</td>\n",
       "      <td>...</td>\n",
       "      <td>...</td>\n",
       "      <td>...</td>\n",
       "      <td>...</td>\n",
       "      <td>...</td>\n",
       "      <td>...</td>\n",
       "      <td>...</td>\n",
       "      <td>...</td>\n",
       "      <td>...</td>\n",
       "      <td>...</td>\n",
       "      <td>...</td>\n",
       "      <td>...</td>\n",
       "      <td>...</td>\n",
       "      <td>...</td>\n",
       "      <td>...</td>\n",
       "      <td>...</td>\n",
       "      <td>...</td>\n",
       "      <td>...</td>\n",
       "      <td>...</td>\n",
       "      <td>...</td>\n",
       "    </tr>\n",
       "    <tr>\n",
       "      <th>228</th>\n",
       "      <td>NaN</td>\n",
       "      <td>Uzbekistan</td>\n",
       "      <td>41.3775</td>\n",
       "      <td>64.5853</td>\n",
       "      <td>0</td>\n",
       "      <td>0</td>\n",
       "      <td>0</td>\n",
       "      <td>0</td>\n",
       "      <td>0</td>\n",
       "      <td>0</td>\n",
       "      <td>...</td>\n",
       "      <td>0</td>\n",
       "      <td>0</td>\n",
       "      <td>0</td>\n",
       "      <td>0</td>\n",
       "      <td>0</td>\n",
       "      <td>0</td>\n",
       "      <td>0</td>\n",
       "      <td>0</td>\n",
       "      <td>0</td>\n",
       "      <td>0</td>\n",
       "    </tr>\n",
       "    <tr>\n",
       "      <th>229</th>\n",
       "      <td>NaN</td>\n",
       "      <td>Venezuela</td>\n",
       "      <td>6.4238</td>\n",
       "      <td>-66.5897</td>\n",
       "      <td>0</td>\n",
       "      <td>0</td>\n",
       "      <td>0</td>\n",
       "      <td>0</td>\n",
       "      <td>0</td>\n",
       "      <td>0</td>\n",
       "      <td>...</td>\n",
       "      <td>0</td>\n",
       "      <td>0</td>\n",
       "      <td>0</td>\n",
       "      <td>0</td>\n",
       "      <td>0</td>\n",
       "      <td>0</td>\n",
       "      <td>0</td>\n",
       "      <td>15</td>\n",
       "      <td>15</td>\n",
       "      <td>15</td>\n",
       "    </tr>\n",
       "    <tr>\n",
       "      <th>230</th>\n",
       "      <td>NaN</td>\n",
       "      <td>Vietnam</td>\n",
       "      <td>16.0000</td>\n",
       "      <td>108.0000</td>\n",
       "      <td>0</td>\n",
       "      <td>0</td>\n",
       "      <td>0</td>\n",
       "      <td>0</td>\n",
       "      <td>0</td>\n",
       "      <td>0</td>\n",
       "      <td>...</td>\n",
       "      <td>16</td>\n",
       "      <td>16</td>\n",
       "      <td>16</td>\n",
       "      <td>16</td>\n",
       "      <td>16</td>\n",
       "      <td>16</td>\n",
       "      <td>17</td>\n",
       "      <td>17</td>\n",
       "      <td>17</td>\n",
       "      <td>17</td>\n",
       "    </tr>\n",
       "    <tr>\n",
       "      <th>231</th>\n",
       "      <td>NaN</td>\n",
       "      <td>Zambia</td>\n",
       "      <td>-15.4167</td>\n",
       "      <td>28.2833</td>\n",
       "      <td>0</td>\n",
       "      <td>0</td>\n",
       "      <td>0</td>\n",
       "      <td>0</td>\n",
       "      <td>0</td>\n",
       "      <td>0</td>\n",
       "      <td>...</td>\n",
       "      <td>0</td>\n",
       "      <td>0</td>\n",
       "      <td>0</td>\n",
       "      <td>0</td>\n",
       "      <td>0</td>\n",
       "      <td>0</td>\n",
       "      <td>0</td>\n",
       "      <td>0</td>\n",
       "      <td>0</td>\n",
       "      <td>0</td>\n",
       "    </tr>\n",
       "    <tr>\n",
       "      <th>232</th>\n",
       "      <td>NaN</td>\n",
       "      <td>Zimbabwe</td>\n",
       "      <td>-20.0000</td>\n",
       "      <td>30.0000</td>\n",
       "      <td>0</td>\n",
       "      <td>0</td>\n",
       "      <td>0</td>\n",
       "      <td>0</td>\n",
       "      <td>0</td>\n",
       "      <td>0</td>\n",
       "      <td>...</td>\n",
       "      <td>0</td>\n",
       "      <td>0</td>\n",
       "      <td>0</td>\n",
       "      <td>0</td>\n",
       "      <td>0</td>\n",
       "      <td>0</td>\n",
       "      <td>0</td>\n",
       "      <td>0</td>\n",
       "      <td>0</td>\n",
       "      <td>0</td>\n",
       "    </tr>\n",
       "  </tbody>\n",
       "</table>\n",
       "<p>233 rows × 67 columns</p>\n",
       "</div>"
      ],
      "text/plain": [
       "    Province/State Country/Region      Lat      Long  1/22/2020  1/23/2020  \\\n",
       "0              NaN    Afghanistan  33.0000   65.0000          0          0   \n",
       "1              NaN        Albania  41.1533   20.1683          0          0   \n",
       "2              NaN        Algeria  28.0339    1.6596          0          0   \n",
       "3              NaN        Andorra  42.5063    1.5218          0          0   \n",
       "4              NaN         Angola -11.2027   17.8739          0          0   \n",
       "..             ...            ...      ...       ...        ...        ...   \n",
       "228            NaN     Uzbekistan  41.3775   64.5853          0          0   \n",
       "229            NaN      Venezuela   6.4238  -66.5897          0          0   \n",
       "230            NaN        Vietnam  16.0000  108.0000          0          0   \n",
       "231            NaN         Zambia -15.4167   28.2833          0          0   \n",
       "232            NaN       Zimbabwe -20.0000   30.0000          0          0   \n",
       "\n",
       "     1/24/2020  1/25/2020  1/26/2020  1/27/2020  ...  3/15/2020  3/16/2020  \\\n",
       "0            0          0          0          0  ...          0          1   \n",
       "1            0          0          0          0  ...          0          0   \n",
       "2            0          0          0          0  ...         12         12   \n",
       "3            0          0          0          0  ...          1          1   \n",
       "4            0          0          0          0  ...          0          0   \n",
       "..         ...        ...        ...        ...  ...        ...        ...   \n",
       "228          0          0          0          0  ...          0          0   \n",
       "229          0          0          0          0  ...          0          0   \n",
       "230          0          0          0          0  ...         16         16   \n",
       "231          0          0          0          0  ...          0          0   \n",
       "232          0          0          0          0  ...          0          0   \n",
       "\n",
       "     3/17/2020  3/18/2020  3/19/2020  3/20/2020  3/21/2020  3/22/2020  \\\n",
       "0            1          1          1          1          1          1   \n",
       "1            0          0          0          0          2          2   \n",
       "2           12         12         32         32         32         65   \n",
       "3            1          1          1          1          1          1   \n",
       "4            0          0          0          0          0          0   \n",
       "..         ...        ...        ...        ...        ...        ...   \n",
       "228          0          0          0          0          0          0   \n",
       "229          0          0          0          0          0         15   \n",
       "230         16         16         16         16         17         17   \n",
       "231          0          0          0          0          0          0   \n",
       "232          0          0          0          0          0          0   \n",
       "\n",
       "     3/23/2020  3/24/2020  \n",
       "0            1          1  \n",
       "1            2         10  \n",
       "2           65         24  \n",
       "3            1          1  \n",
       "4            0          0  \n",
       "..         ...        ...  \n",
       "228          0          0  \n",
       "229         15         15  \n",
       "230         17         17  \n",
       "231          0          0  \n",
       "232          0          0  \n",
       "\n",
       "[233 rows x 67 columns]"
      ]
     },
     "execution_count": 3,
     "metadata": {},
     "output_type": "execute_result"
    }
   ],
   "source": [
    "df_recovered"
   ]
  },
  {
   "cell_type": "markdown",
   "metadata": {},
   "source": [
    "### Data manipulation and representation (World)"
   ]
  },
  {
   "cell_type": "code",
   "execution_count": 4,
   "metadata": {},
   "outputs": [
    {
     "name": "stdout",
     "output_type": "stream",
     "text": [
      "Total contaminated: 467593\n",
      "Total deaths: 21180\n",
      "Total recovered: 107984\n",
      "Based on the WHO data, the death rate is between 4.5 % and 16.4 % of the confirmed case\n"
     ]
    }
   ],
   "source": [
    "deaths_world=df_deaths.iloc[:,-1].sum()\n",
    "recovered_world=df_recovered.iloc[:,-1].sum()\n",
    "total_world=df_confirmed.iloc[:,-1].sum()\n",
    "\n",
    "max_death_rate=round(deaths_world/(deaths_world+recovered_world)*100,1)\n",
    "min_death_rate=round(deaths_world/total_world*100,1)\n",
    "\n",
    "print('Total contaminated:',total_world)\n",
    "print('Total deaths:',deaths_world)\n",
    "print('Total recovered:',recovered_world)\n",
    "\n",
    "print('Based on the WHO data, the death rate is between',min_death_rate,'% and',max_death_rate,'% of the confirmed case')"
   ]
  },
  {
   "cell_type": "code",
   "execution_count": null,
   "metadata": {},
   "outputs": [],
   "source": []
  },
  {
   "cell_type": "code",
   "execution_count": 5,
   "metadata": {},
   "outputs": [
    {
     "name": "stdout",
     "output_type": "stream",
     "text": [
      "3.5491833359307057\n",
      "1.9899469159580967\n"
     ]
    },
    {
     "data": {
      "image/png": "[encoded data removed]",
      "text/plain": [
       "<Figure size 360x288 with 1 Axes>"
      ]
     },
     "metadata": {
      "needs_background": "light"
     },
     "output_type": "display_data"
    }
   ],
   "source": [
    "def mortality_rate(f_asympt):\n",
    "    recovered_tot=recovered_world+f_asympt*total_world\n",
    "    return deaths_world/(deaths_world+recovered_tot)\n",
    "\n",
    "print(mortality_rate(1)*100)\n",
    "print(mortality_rate(2)*100)\n",
    "\n",
    "f_asympt_grid=np.arange(0,2.5,0.1)\n",
    "\n",
    "plt.figure(figsize=(5,4))\n",
    "plt.plot(f_asympt_grid,mortality_rate(f_asympt_grid)*100)\n",
    "plt.xlabel('Asymptomatic/Detected')\n",
    "plt.ylabel('Mortality rate')\n",
    "plt.yticks([1,2,3,4,5,6],['1%','2%','3%','4%','5%','6%'])\n",
    "plt.plot(1,2.2,marker='*',color='red',markersize=11)\n",
    "plt.savefig('mortality_rate_plot.png',dpi=300)\n",
    "plt.show()"
   ]
  },
  {
   "cell_type": "code",
   "execution_count": 6,
   "metadata": {},
   "outputs": [],
   "source": [
    "def func_plot(df,scelta=1):\n",
    "    y_world=[]\n",
    "    n_cols=df.shape[1]\n",
    "    #print(n_cols)\n",
    "    for i in range(n_cols-4):\n",
    "        y_world.append(df.iloc[:,i+4].sum())\n",
    "    \n",
    "    x_world2=df.columns[4:]\n",
    "    x_world=pd.to_datetime(x_world2,infer_datetime_format=False)\n",
    "    \n",
    "    return (x_world,y_world)\n",
    "\n",
    "peppe=func_plot(df_confirmed)"
   ]
  },
  {
   "cell_type": "code",
   "execution_count": null,
   "metadata": {},
   "outputs": [],
   "source": []
  },
  {
   "cell_type": "code",
   "execution_count": 7,
   "metadata": {},
   "outputs": [
    {
     "name": "stderr",
     "output_type": "stream",
     "text": [
      "/Users/andreapalladino/anaconda3/lib/python3.6/site-packages/pandas/plotting/_matplotlib/converter.py:103: FutureWarning: Using an implicitly registered datetime converter for a matplotlib plotting method. The converter was registered by pandas on import. Future versions of pandas will require you to explicitly register matplotlib converters.\n",
      "\n",
      "To register the converters:\n",
      "\t>>> from pandas.plotting import register_matplotlib_converters\n",
      "\t>>> register_matplotlib_converters()\n",
      "  warnings.warn(msg, FutureWarning)\n"
     ]
    },
    {
     "data": {
      "image/png": "[encoded data removed]",
      "text/plain": [
       "<Figure size 1008x360 with 1 Axes>"
      ]
     },
     "metadata": {
      "needs_background": "light"
     },
     "output_type": "display_data"
    }
   ],
   "source": [
    "plt.figure(figsize=(14,5))\n",
    "plt.plot(func_plot(df_confirmed)[0],func_plot(df_confirmed)[1],label='Total')\n",
    "plt.plot(func_plot(df_deaths)[0],func_plot(df_deaths)[1],label='Deaths')\n",
    "plt.plot(func_plot(df_recovered,scelta=2)[0],func_plot(df_recovered,scelta=2)[1],label='Recovered')\n",
    "plt.legend()\n",
    "plt.yscale('log')\n",
    "plt.title('World data')\n",
    "plt.savefig('world_plot.png',dpi=300)\n",
    "plt.show()"
   ]
  },
  {
   "cell_type": "code",
   "execution_count": null,
   "metadata": {},
   "outputs": [],
   "source": []
  },
  {
   "cell_type": "markdown",
   "metadata": {},
   "source": [
    "### Data manipulation and representation (single country)"
   ]
  },
  {
   "cell_type": "code",
   "execution_count": 8,
   "metadata": {},
   "outputs": [
    {
     "name": "stdout",
     "output_type": "stream",
     "text": [
      "Total contaminated: Germany 37323\n",
      "Total deaths Germany 206\n",
      "Total recovered  Germany 0\n",
      "Based on the WHO data, the death rate in Germany is between 0.6 % and 100.0 % of the total confirmed case\n"
     ]
    }
   ],
   "source": [
    "######## INPUT PARAMETERS ########\n",
    "country='Germany'\n",
    "t0=pd.to_datetime('2020-02-21')\n",
    "#################################\n",
    "\n",
    "mask_ita=df_confirmed['Country/Region']==country   # you can change the country here\n",
    "\n",
    "df_confirmed_ITA=df_confirmed.loc[mask_ita,:]\n",
    "df_deaths_ITA=df_deaths.loc[mask_ita,:]\n",
    "df_recovered_ITA=df_recovered.loc[mask_ita,:]\n",
    "\n",
    "deaths_world_ITA=df_deaths_ITA.iloc[:,-1].sum()\n",
    "recovered_world_ITA=df_recovered_ITA.iloc[:,-1].sum()\n",
    "total_world_ITA=df_confirmed_ITA.iloc[:,-1].sum()\n",
    "\n",
    "max_death_rate_ITA=round(deaths_world_ITA/(deaths_world_ITA+recovered_world_ITA)*100,1)\n",
    "min_death_rate_ITA=round(deaths_world_ITA/total_world_ITA*100,1)\n",
    "\n",
    "print('Total contaminated:',country,total_world_ITA)\n",
    "print('Total deaths',country,deaths_world_ITA)\n",
    "print('Total recovered ',country,recovered_world_ITA)\n",
    "\n",
    "print('Based on the WHO data, the death rate in',country,'is between',min_death_rate_ITA,'% and',max_death_rate_ITA,'% of the total confirmed case')"
   ]
  },
  {
   "cell_type": "code",
   "execution_count": null,
   "metadata": {},
   "outputs": [],
   "source": []
  },
  {
   "cell_type": "code",
   "execution_count": null,
   "metadata": {},
   "outputs": [],
   "source": []
  },
  {
   "cell_type": "code",
   "execution_count": 9,
   "metadata": {},
   "outputs": [
    {
     "data": {
      "image/png": "[encoded data removed]",
      "text/plain": [
       "<Figure size 1008x360 with 1 Axes>"
      ]
     },
     "metadata": {
      "needs_background": "light"
     },
     "output_type": "display_data"
    }
   ],
   "source": [
    "plt.figure(figsize=(14,5))\n",
    "plt.plot(func_plot(df_confirmed_ITA)[0],func_plot(df_confirmed_ITA)[1],label='Total')\n",
    "plt.plot(func_plot(df_deaths_ITA)[0],func_plot(df_deaths_ITA)[1],label='Deaths')\n",
    "plt.plot(func_plot(df_recovered_ITA,scelta=2)[0],func_plot(df_recovered_ITA,scelta=2)[1],label='Recovered')\n",
    "plt.legend()\n",
    "plt.yscale('log')\n",
    "plt.title(country+' evolution')\n",
    "plt.savefig('country_plot.png',dpi=300)\n",
    "plt.show()"
   ]
  },
  {
   "cell_type": "markdown",
   "metadata": {},
   "source": [
    "### Statistical analysis of the single country situation"
   ]
  },
  {
   "cell_type": "code",
   "execution_count": 10,
   "metadata": {},
   "outputs": [
    {
     "data": {
      "image/png": "[encoded data removed]",
      "text/plain": [
       "<Figure size 360x360 with 1 Axes>"
      ]
     },
     "metadata": {
      "needs_background": "light"
     },
     "output_type": "display_data"
    }
   ],
   "source": [
    "from scipy.optimize import curve_fit\n",
    "\n",
    "def func(t,t0,a):\n",
    "    #return (a-b*t)**(t-t0)\n",
    "    return a**(t-t0)\n",
    "\n",
    "x_ITA=pd.to_datetime(df_confirmed.columns[4:],format='%m/%d/%y')\n",
    "\n",
    "tdelta=x_ITA-t0  #this should be adapted to the country\n",
    "\n",
    "xdata2=tdelta.days\n",
    "xdata=xdata2[xdata2>=0]\n",
    "\n",
    "ydata=np.array(func_plot(df_confirmed_ITA)[1])\n",
    "ydata=ydata[xdata2>=0]\n",
    "\n",
    "ydata_death=np.array(func_plot(df_deaths_ITA)[1])\n",
    "ydata_death=ydata_death[xdata2>=0]\n",
    "\n",
    "mask=xdata2>=0\n",
    "\n",
    "ydata_rec=np.array(func_plot(df_recovered_ITA)[1])\n",
    "ydata_rec=ydata_rec[mask[0:len(mask)-1]]\n",
    "\n",
    "popt, pcov = curve_fit(func, xdata, ydata,p0=[0,2])\n",
    "\n",
    "def func_death(t,mort_rate):\n",
    "    return mort_rate*popt[1]**(t-popt[0])\n",
    "\n",
    "popt_death, pcov_death = curve_fit(func_death, xdata, ydata_death)\n",
    "\n",
    "plt.figure(figsize=(5,5))\n",
    "plt.plot(xdata, func(xdata, *popt), 'b--')\n",
    "plt.plot(xdata, func_death(xdata, *popt_death), color='orange',linestyle='--')\n",
    "plt.errorbar(xdata,ydata,np.sqrt(ydata),linestyle='None',label='Contaminated',marker='s')\n",
    "plt.errorbar(xdata,ydata_death,np.sqrt(ydata_death),linestyle='None',label='Deaths',marker='s')\n",
    "plt.errorbar(xdata[0:len(xdata)-1],ydata_rec,np.sqrt(ydata_rec),linestyle='None',label='Recovered',marker='s')\n",
    "plt.yscale('log')\n",
    "plt.legend()\n",
    "plt.xlabel('Days from the beginning')\n",
    "plt.ylabel('Number')\n",
    "plt.savefig('evoita.png',dpi=300)\n",
    "plt.show()"
   ]
  },
  {
   "cell_type": "code",
   "execution_count": 11,
   "metadata": {},
   "outputs": [
    {
     "data": {
      "text/plain": [
       "64"
      ]
     },
     "execution_count": 11,
     "metadata": {},
     "output_type": "execute_result"
    }
   ],
   "source": [
    "len(xdata2)"
   ]
  },
  {
   "cell_type": "code",
   "execution_count": null,
   "metadata": {},
   "outputs": [],
   "source": []
  },
  {
   "cell_type": "code",
   "execution_count": 12,
   "metadata": {},
   "outputs": [
    {
     "name": "stdout",
     "output_type": "stream",
     "text": [
      "The number of contaminated people increases everyday of a factor 1.19\n",
      "Prediction for the number of contaminated people in 1 week 137286\n",
      "Prediction for the number of func_deaths in 1 week 597\n"
     ]
    }
   ],
   "source": [
    "print('The number of contaminated people increases everyday of a factor',round(popt[1],2))\n",
    "\n",
    "print('Prediction for the number of contaminated people in 1 week',int(func(xdata[-1]+7, *popt)))\n",
    "\n",
    "print('Prediction for the number of func_deaths in 1 week',int(func_death(xdata[-1]+7, *popt_death)))"
   ]
  },
  {
   "cell_type": "code",
   "execution_count": 13,
   "metadata": {},
   "outputs": [
    {
     "data": {
      "image/png": "[encoded data removed]",
      "text/plain": [
       "<Figure size 432x288 with 1 Axes>"
      ]
     },
     "metadata": {
      "needs_background": "light"
     },
     "output_type": "display_data"
    }
   ],
   "source": [
    "# percentage variation of the contaminted people, compared to the previous day\n",
    "\n",
    "incremento=[]\n",
    "\n",
    "for i in range(3,len(ydata)):\n",
    "    incremento.append((ydata[i]/ydata[i-1]-1)*100)\n",
    "    \n",
    "plt.bar(xdata[xdata>=3],incremento)\n",
    "plt.xlabel('Days from the beginning')\n",
    "plt.ylabel('% variation from the previous day')\n",
    "plt.savefig('incr_perc.png',dpi=300)\n",
    "plt.show()"
   ]
  },
  {
   "cell_type": "code",
   "execution_count": 14,
   "metadata": {},
   "outputs": [
    {
     "data": {
      "image/png": "[encoded data removed]",
      "text/plain": [
       "<Figure size 720x360 with 2 Axes>"
      ]
     },
     "metadata": {
      "needs_background": "light"
     },
     "output_type": "display_data"
    }
   ],
   "source": [
    "### combined plot\n",
    "\n",
    "plt.figure(figsize=(10,5))\n",
    "plt.subplot(1,2,1)\n",
    "plt.plot(xdata, func(xdata, *popt), 'b--')\n",
    "plt.plot(xdata, func_death(xdata, *popt_death), color='orange',linestyle='--')\n",
    "plt.errorbar(xdata,ydata,np.sqrt(ydata),linestyle='None',label='Contaminated',marker='s')\n",
    "plt.errorbar(xdata,ydata_death,np.sqrt(ydata_death),linestyle='None',label='Deaths',marker='s')\n",
    "#plt.errorbar(xdata,ydata_rec,np.sqrt(ydata_rec),linestyle='None',label='Recovered',marker='s')\n",
    "plt.yscale('log')\n",
    "plt.legend()\n",
    "plt.xlabel('Days from the beginning')\n",
    "plt.ylabel('Number')\n",
    "plt.subplot(1,2,2)\n",
    "plt.bar(xdata[xdata>=3],incremento)\n",
    "plt.xlabel('Days from the beginning')\n",
    "plt.ylabel('% variation compared to the previous day')\n",
    "plt.tight_layout()\n",
    "plt.savefig('combined.png',dpi=300)\n",
    "plt.show()"
   ]
  },
  {
   "cell_type": "code",
   "execution_count": null,
   "metadata": {},
   "outputs": [],
   "source": []
  },
  {
   "cell_type": "code",
   "execution_count": 18,
   "metadata": {},
   "outputs": [],
   "source": [
    "# save data from Italy on an external file\n",
    "\n",
    "vec_ITA=xdata,ydata,ydata_death,np.concatenate([[0],ydata_rec])\n",
    "vec_ITA=np.transpose(vec_ITA)\n",
    "\n",
    "df_ITA=pd.DataFrame(vec_ITA)\n",
    "df_ITA.columns=(['Time','Infected','Deaths','Recovered'])\n",
    "\n",
    "if country=='Italy':\n",
    "    df_ITA.to_csv('dataITA.txt',index=None)\n",
    "elif country=='Germany':\n",
    "    df_ITA.to_csv('dataDEU.txt',index=None)"
   ]
  },
  {
   "cell_type": "code",
   "execution_count": null,
   "metadata": {},
   "outputs": [],
   "source": []
  },
  {
   "cell_type": "code",
   "execution_count": null,
   "metadata": {},
   "outputs": [],
   "source": []
  }
 ],
 "metadata": {
  "kernelspec": {
   "display_name": "Python 3",
   "language": "python",
   "name": "python3"
  },
  "language_info": {
   "codemirror_mode": {
    "name": "ipython",
    "version": 3
   },
   "file_extension": ".py",
   "mimetype": "text/x-python",
   "name": "python",
   "nbconvert_exporter": "python",
   "pygments_lexer": "ipython3",
   "version": "3.6.10"
  }
 },
 "nbformat": 4,
 "nbformat_minor": 2
}
