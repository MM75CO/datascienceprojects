{
 "cells": [
  {
   "cell_type": "code",
   "execution_count": 1,
   "metadata": {},
   "outputs": [
    {
     "name": "stderr",
     "output_type": "stream",
     "text": [
      "Using TensorFlow backend.\n",
      "/Users/andreapalladino/anaconda3/lib/python3.6/site-packages/tensorflow/python/framework/dtypes.py:523: FutureWarning: Passing (type, 1) or '1type' as a synonym of type is deprecated; in a future version of numpy, it will be understood as (type, (1,)) / '(1,)type'.\n",
      "  _np_qint8 = np.dtype([(\"qint8\", np.int8, 1)])\n",
      "/Users/andreapalladino/anaconda3/lib/python3.6/site-packages/tensorflow/python/framework/dtypes.py:524: FutureWarning: Passing (type, 1) or '1type' as a synonym of type is deprecated; in a future version of numpy, it will be understood as (type, (1,)) / '(1,)type'.\n",
      "  _np_quint8 = np.dtype([(\"quint8\", np.uint8, 1)])\n",
      "/Users/andreapalladino/anaconda3/lib/python3.6/site-packages/tensorflow/python/framework/dtypes.py:525: FutureWarning: Passing (type, 1) or '1type' as a synonym of type is deprecated; in a future version of numpy, it will be understood as (type, (1,)) / '(1,)type'.\n",
      "  _np_qint16 = np.dtype([(\"qint16\", np.int16, 1)])\n",
      "/Users/andreapalladino/anaconda3/lib/python3.6/site-packages/tensorflow/python/framework/dtypes.py:526: FutureWarning: Passing (type, 1) or '1type' as a synonym of type is deprecated; in a future version of numpy, it will be understood as (type, (1,)) / '(1,)type'.\n",
      "  _np_quint16 = np.dtype([(\"quint16\", np.uint16, 1)])\n",
      "/Users/andreapalladino/anaconda3/lib/python3.6/site-packages/tensorflow/python/framework/dtypes.py:527: FutureWarning: Passing (type, 1) or '1type' as a synonym of type is deprecated; in a future version of numpy, it will be understood as (type, (1,)) / '(1,)type'.\n",
      "  _np_qint32 = np.dtype([(\"qint32\", np.int32, 1)])\n",
      "/Users/andreapalladino/anaconda3/lib/python3.6/site-packages/tensorflow/python/framework/dtypes.py:532: FutureWarning: Passing (type, 1) or '1type' as a synonym of type is deprecated; in a future version of numpy, it will be understood as (type, (1,)) / '(1,)type'.\n",
      "  np_resource = np.dtype([(\"resource\", np.ubyte, 1)])\n"
     ]
    }
   ],
   "source": [
    "# importing packages\n",
    "\n",
    "import numpy as np\n",
    "import matplotlib.pyplot as plt\n",
    "import pandas as pd\n",
    "\n",
    "import keras\n",
    "from keras.models import Sequential\n",
    "from keras.layers import Dense\n",
    "from keras.callbacks import EarlyStopping\n",
    "from keras.models import load_model"
   ]
  },
  {
   "cell_type": "markdown",
   "metadata": {},
   "source": [
    "# Import data"
   ]
  },
  {
   "cell_type": "code",
   "execution_count": 2,
   "metadata": {},
   "outputs": [],
   "source": [
    "# importing files\n",
    "\n",
    "labels=pd.read_csv('train_labels.csv')\n",
    "values=pd.read_csv('train_values.csv')"
   ]
  },
  {
   "cell_type": "code",
   "execution_count": 3,
   "metadata": {},
   "outputs": [
    {
     "data": {
      "text/html": [
       "<div>\n",
       "<style scoped>\n",
       "    .dataframe tbody tr th:only-of-type {\n",
       "        vertical-align: middle;\n",
       "    }\n",
       "\n",
       "    .dataframe tbody tr th {\n",
       "        vertical-align: top;\n",
       "    }\n",
       "\n",
       "    .dataframe thead th {\n",
       "        text-align: right;\n",
       "    }\n",
       "</style>\n",
       "<table border=\"1\" class=\"dataframe\">\n",
       "  <thead>\n",
       "    <tr style=\"text-align: right;\">\n",
       "      <th></th>\n",
       "      <th>patient_id</th>\n",
       "      <th>heart_disease_present</th>\n",
       "    </tr>\n",
       "  </thead>\n",
       "  <tbody>\n",
       "    <tr>\n",
       "      <th>0</th>\n",
       "      <td>0z64un</td>\n",
       "      <td>0</td>\n",
       "    </tr>\n",
       "    <tr>\n",
       "      <th>1</th>\n",
       "      <td>ryoo3j</td>\n",
       "      <td>0</td>\n",
       "    </tr>\n",
       "    <tr>\n",
       "      <th>2</th>\n",
       "      <td>yt1s1x</td>\n",
       "      <td>1</td>\n",
       "    </tr>\n",
       "    <tr>\n",
       "      <th>3</th>\n",
       "      <td>l2xjde</td>\n",
       "      <td>1</td>\n",
       "    </tr>\n",
       "    <tr>\n",
       "      <th>4</th>\n",
       "      <td>oyt4ek</td>\n",
       "      <td>0</td>\n",
       "    </tr>\n",
       "  </tbody>\n",
       "</table>\n",
       "</div>"
      ],
      "text/plain": [
       "  patient_id  heart_disease_present\n",
       "0     0z64un                      0\n",
       "1     ryoo3j                      0\n",
       "2     yt1s1x                      1\n",
       "3     l2xjde                      1\n",
       "4     oyt4ek                      0"
      ]
     },
     "execution_count": 3,
     "metadata": {},
     "output_type": "execute_result"
    }
   ],
   "source": [
    "labels.head()"
   ]
  },
  {
   "cell_type": "code",
   "execution_count": 4,
   "metadata": {},
   "outputs": [
    {
     "data": {
      "text/html": [
       "<div>\n",
       "<style scoped>\n",
       "    .dataframe tbody tr th:only-of-type {\n",
       "        vertical-align: middle;\n",
       "    }\n",
       "\n",
       "    .dataframe tbody tr th {\n",
       "        vertical-align: top;\n",
       "    }\n",
       "\n",
       "    .dataframe thead th {\n",
       "        text-align: right;\n",
       "    }\n",
       "</style>\n",
       "<table border=\"1\" class=\"dataframe\">\n",
       "  <thead>\n",
       "    <tr style=\"text-align: right;\">\n",
       "      <th></th>\n",
       "      <th>patient_id</th>\n",
       "      <th>slope_of_peak_exercise_st_segment</th>\n",
       "      <th>thal</th>\n",
       "      <th>resting_blood_pressure</th>\n",
       "      <th>chest_pain_type</th>\n",
       "      <th>num_major_vessels</th>\n",
       "      <th>fasting_blood_sugar_gt_120_mg_per_dl</th>\n",
       "      <th>resting_ekg_results</th>\n",
       "      <th>serum_cholesterol_mg_per_dl</th>\n",
       "      <th>oldpeak_eq_st_depression</th>\n",
       "      <th>sex</th>\n",
       "      <th>age</th>\n",
       "      <th>max_heart_rate_achieved</th>\n",
       "      <th>exercise_induced_angina</th>\n",
       "    </tr>\n",
       "  </thead>\n",
       "  <tbody>\n",
       "    <tr>\n",
       "      <th>0</th>\n",
       "      <td>0z64un</td>\n",
       "      <td>1</td>\n",
       "      <td>normal</td>\n",
       "      <td>128</td>\n",
       "      <td>2</td>\n",
       "      <td>0</td>\n",
       "      <td>0</td>\n",
       "      <td>2</td>\n",
       "      <td>308</td>\n",
       "      <td>0.0</td>\n",
       "      <td>1</td>\n",
       "      <td>45</td>\n",
       "      <td>170</td>\n",
       "      <td>0</td>\n",
       "    </tr>\n",
       "    <tr>\n",
       "      <th>1</th>\n",
       "      <td>ryoo3j</td>\n",
       "      <td>2</td>\n",
       "      <td>normal</td>\n",
       "      <td>110</td>\n",
       "      <td>3</td>\n",
       "      <td>0</td>\n",
       "      <td>0</td>\n",
       "      <td>0</td>\n",
       "      <td>214</td>\n",
       "      <td>1.6</td>\n",
       "      <td>0</td>\n",
       "      <td>54</td>\n",
       "      <td>158</td>\n",
       "      <td>0</td>\n",
       "    </tr>\n",
       "    <tr>\n",
       "      <th>2</th>\n",
       "      <td>yt1s1x</td>\n",
       "      <td>1</td>\n",
       "      <td>normal</td>\n",
       "      <td>125</td>\n",
       "      <td>4</td>\n",
       "      <td>3</td>\n",
       "      <td>0</td>\n",
       "      <td>2</td>\n",
       "      <td>304</td>\n",
       "      <td>0.0</td>\n",
       "      <td>1</td>\n",
       "      <td>77</td>\n",
       "      <td>162</td>\n",
       "      <td>1</td>\n",
       "    </tr>\n",
       "    <tr>\n",
       "      <th>3</th>\n",
       "      <td>l2xjde</td>\n",
       "      <td>1</td>\n",
       "      <td>reversible_defect</td>\n",
       "      <td>152</td>\n",
       "      <td>4</td>\n",
       "      <td>0</td>\n",
       "      <td>0</td>\n",
       "      <td>0</td>\n",
       "      <td>223</td>\n",
       "      <td>0.0</td>\n",
       "      <td>1</td>\n",
       "      <td>40</td>\n",
       "      <td>181</td>\n",
       "      <td>0</td>\n",
       "    </tr>\n",
       "    <tr>\n",
       "      <th>4</th>\n",
       "      <td>oyt4ek</td>\n",
       "      <td>3</td>\n",
       "      <td>reversible_defect</td>\n",
       "      <td>178</td>\n",
       "      <td>1</td>\n",
       "      <td>0</td>\n",
       "      <td>0</td>\n",
       "      <td>2</td>\n",
       "      <td>270</td>\n",
       "      <td>4.2</td>\n",
       "      <td>1</td>\n",
       "      <td>59</td>\n",
       "      <td>145</td>\n",
       "      <td>0</td>\n",
       "    </tr>\n",
       "  </tbody>\n",
       "</table>\n",
       "</div>"
      ],
      "text/plain": [
       "  patient_id  slope_of_peak_exercise_st_segment               thal  \\\n",
       "0     0z64un                                  1             normal   \n",
       "1     ryoo3j                                  2             normal   \n",
       "2     yt1s1x                                  1             normal   \n",
       "3     l2xjde                                  1  reversible_defect   \n",
       "4     oyt4ek                                  3  reversible_defect   \n",
       "\n",
       "   resting_blood_pressure  chest_pain_type  num_major_vessels  \\\n",
       "0                     128                2                  0   \n",
       "1                     110                3                  0   \n",
       "2                     125                4                  3   \n",
       "3                     152                4                  0   \n",
       "4                     178                1                  0   \n",
       "\n",
       "   fasting_blood_sugar_gt_120_mg_per_dl  resting_ekg_results  \\\n",
       "0                                     0                    2   \n",
       "1                                     0                    0   \n",
       "2                                     0                    2   \n",
       "3                                     0                    0   \n",
       "4                                     0                    2   \n",
       "\n",
       "   serum_cholesterol_mg_per_dl  oldpeak_eq_st_depression  sex  age  \\\n",
       "0                          308                       0.0    1   45   \n",
       "1                          214                       1.6    0   54   \n",
       "2                          304                       0.0    1   77   \n",
       "3                          223                       0.0    1   40   \n",
       "4                          270                       4.2    1   59   \n",
       "\n",
       "   max_heart_rate_achieved  exercise_induced_angina  \n",
       "0                      170                        0  \n",
       "1                      158                        0  \n",
       "2                      162                        1  \n",
       "3                      181                        0  \n",
       "4                      145                        0  "
      ]
     },
     "execution_count": 4,
     "metadata": {},
     "output_type": "execute_result"
    }
   ],
   "source": [
    "values.head()"
   ]
  },
  {
   "cell_type": "code",
   "execution_count": 5,
   "metadata": {},
   "outputs": [
    {
     "data": {
      "text/plain": [
       "(180, 14)"
      ]
     },
     "execution_count": 5,
     "metadata": {},
     "output_type": "execute_result"
    }
   ],
   "source": [
    "values.shape    #there are 13 variables and 180 entries"
   ]
  },
  {
   "cell_type": "code",
   "execution_count": 6,
   "metadata": {},
   "outputs": [
    {
     "data": {
      "text/plain": [
       "180"
      ]
     },
     "execution_count": 6,
     "metadata": {},
     "output_type": "execute_result"
    }
   ],
   "source": [
    "np.sum(labels['patient_id']==values['patient_id'])   # checking that patient_id are the same in the two files"
   ]
  },
  {
   "cell_type": "code",
   "execution_count": 7,
   "metadata": {},
   "outputs": [
    {
     "data": {
      "image/png": "[encoded data removed]",
      "text/plain": [
       "<Figure size 432x288 with 1 Axes>"
      ]
     },
     "metadata": {
      "needs_background": "light"
     },
     "output_type": "display_data"
    }
   ],
   "source": [
    "plt.hist(labels['heart_disease_present'])\n",
    "plt.xticks([0,1],['No','Yes'])\n",
    "plt.grid()\n",
    "plt.show()"
   ]
  },
  {
   "cell_type": "markdown",
   "metadata": {},
   "source": [
    "# Data pre-processing"
   ]
  },
  {
   "cell_type": "code",
   "execution_count": null,
   "metadata": {},
   "outputs": [],
   "source": []
  },
  {
   "cell_type": "code",
   "execution_count": 8,
   "metadata": {},
   "outputs": [],
   "source": [
    "labels.set_index('patient_id',inplace=True)\n",
    "values.set_index('patient_id',inplace=True)"
   ]
  },
  {
   "cell_type": "code",
   "execution_count": 9,
   "metadata": {},
   "outputs": [
    {
     "data": {
      "text/html": [
       "<div>\n",
       "<style scoped>\n",
       "    .dataframe tbody tr th:only-of-type {\n",
       "        vertical-align: middle;\n",
       "    }\n",
       "\n",
       "    .dataframe tbody tr th {\n",
       "        vertical-align: top;\n",
       "    }\n",
       "\n",
       "    .dataframe thead th {\n",
       "        text-align: right;\n",
       "    }\n",
       "</style>\n",
       "<table border=\"1\" class=\"dataframe\">\n",
       "  <thead>\n",
       "    <tr style=\"text-align: right;\">\n",
       "      <th></th>\n",
       "      <th>slope_of_peak_exercise_st_segment</th>\n",
       "      <th>thal</th>\n",
       "      <th>resting_blood_pressure</th>\n",
       "      <th>chest_pain_type</th>\n",
       "      <th>num_major_vessels</th>\n",
       "      <th>fasting_blood_sugar_gt_120_mg_per_dl</th>\n",
       "      <th>resting_ekg_results</th>\n",
       "      <th>serum_cholesterol_mg_per_dl</th>\n",
       "      <th>oldpeak_eq_st_depression</th>\n",
       "      <th>sex</th>\n",
       "      <th>age</th>\n",
       "      <th>max_heart_rate_achieved</th>\n",
       "      <th>exercise_induced_angina</th>\n",
       "      <th>heart_disease_present</th>\n",
       "    </tr>\n",
       "    <tr>\n",
       "      <th>patient_id</th>\n",
       "      <th></th>\n",
       "      <th></th>\n",
       "      <th></th>\n",
       "      <th></th>\n",
       "      <th></th>\n",
       "      <th></th>\n",
       "      <th></th>\n",
       "      <th></th>\n",
       "      <th></th>\n",
       "      <th></th>\n",
       "      <th></th>\n",
       "      <th></th>\n",
       "      <th></th>\n",
       "      <th></th>\n",
       "    </tr>\n",
       "  </thead>\n",
       "  <tbody>\n",
       "    <tr>\n",
       "      <th>0z64un</th>\n",
       "      <td>1</td>\n",
       "      <td>normal</td>\n",
       "      <td>128</td>\n",
       "      <td>2</td>\n",
       "      <td>0</td>\n",
       "      <td>0</td>\n",
       "      <td>2</td>\n",
       "      <td>308</td>\n",
       "      <td>0.0</td>\n",
       "      <td>1</td>\n",
       "      <td>45</td>\n",
       "      <td>170</td>\n",
       "      <td>0</td>\n",
       "      <td>0</td>\n",
       "    </tr>\n",
       "    <tr>\n",
       "      <th>ryoo3j</th>\n",
       "      <td>2</td>\n",
       "      <td>normal</td>\n",
       "      <td>110</td>\n",
       "      <td>3</td>\n",
       "      <td>0</td>\n",
       "      <td>0</td>\n",
       "      <td>0</td>\n",
       "      <td>214</td>\n",
       "      <td>1.6</td>\n",
       "      <td>0</td>\n",
       "      <td>54</td>\n",
       "      <td>158</td>\n",
       "      <td>0</td>\n",
       "      <td>0</td>\n",
       "    </tr>\n",
       "    <tr>\n",
       "      <th>yt1s1x</th>\n",
       "      <td>1</td>\n",
       "      <td>normal</td>\n",
       "      <td>125</td>\n",
       "      <td>4</td>\n",
       "      <td>3</td>\n",
       "      <td>0</td>\n",
       "      <td>2</td>\n",
       "      <td>304</td>\n",
       "      <td>0.0</td>\n",
       "      <td>1</td>\n",
       "      <td>77</td>\n",
       "      <td>162</td>\n",
       "      <td>1</td>\n",
       "      <td>1</td>\n",
       "    </tr>\n",
       "    <tr>\n",
       "      <th>l2xjde</th>\n",
       "      <td>1</td>\n",
       "      <td>reversible_defect</td>\n",
       "      <td>152</td>\n",
       "      <td>4</td>\n",
       "      <td>0</td>\n",
       "      <td>0</td>\n",
       "      <td>0</td>\n",
       "      <td>223</td>\n",
       "      <td>0.0</td>\n",
       "      <td>1</td>\n",
       "      <td>40</td>\n",
       "      <td>181</td>\n",
       "      <td>0</td>\n",
       "      <td>1</td>\n",
       "    </tr>\n",
       "    <tr>\n",
       "      <th>oyt4ek</th>\n",
       "      <td>3</td>\n",
       "      <td>reversible_defect</td>\n",
       "      <td>178</td>\n",
       "      <td>1</td>\n",
       "      <td>0</td>\n",
       "      <td>0</td>\n",
       "      <td>2</td>\n",
       "      <td>270</td>\n",
       "      <td>4.2</td>\n",
       "      <td>1</td>\n",
       "      <td>59</td>\n",
       "      <td>145</td>\n",
       "      <td>0</td>\n",
       "      <td>0</td>\n",
       "    </tr>\n",
       "  </tbody>\n",
       "</table>\n",
       "</div>"
      ],
      "text/plain": [
       "            slope_of_peak_exercise_st_segment               thal  \\\n",
       "patient_id                                                         \n",
       "0z64un                                      1             normal   \n",
       "ryoo3j                                      2             normal   \n",
       "yt1s1x                                      1             normal   \n",
       "l2xjde                                      1  reversible_defect   \n",
       "oyt4ek                                      3  reversible_defect   \n",
       "\n",
       "            resting_blood_pressure  chest_pain_type  num_major_vessels  \\\n",
       "patient_id                                                               \n",
       "0z64un                         128                2                  0   \n",
       "ryoo3j                         110                3                  0   \n",
       "yt1s1x                         125                4                  3   \n",
       "l2xjde                         152                4                  0   \n",
       "oyt4ek                         178                1                  0   \n",
       "\n",
       "            fasting_blood_sugar_gt_120_mg_per_dl  resting_ekg_results  \\\n",
       "patient_id                                                              \n",
       "0z64un                                         0                    2   \n",
       "ryoo3j                                         0                    0   \n",
       "yt1s1x                                         0                    2   \n",
       "l2xjde                                         0                    0   \n",
       "oyt4ek                                         0                    2   \n",
       "\n",
       "            serum_cholesterol_mg_per_dl  oldpeak_eq_st_depression  sex  age  \\\n",
       "patient_id                                                                    \n",
       "0z64un                              308                       0.0    1   45   \n",
       "ryoo3j                              214                       1.6    0   54   \n",
       "yt1s1x                              304                       0.0    1   77   \n",
       "l2xjde                              223                       0.0    1   40   \n",
       "oyt4ek                              270                       4.2    1   59   \n",
       "\n",
       "            max_heart_rate_achieved  exercise_induced_angina  \\\n",
       "patient_id                                                     \n",
       "0z64un                          170                        0   \n",
       "ryoo3j                          158                        0   \n",
       "yt1s1x                          162                        1   \n",
       "l2xjde                          181                        0   \n",
       "oyt4ek                          145                        0   \n",
       "\n",
       "            heart_disease_present  \n",
       "patient_id                         \n",
       "0z64un                          0  \n",
       "ryoo3j                          0  \n",
       "yt1s1x                          1  \n",
       "l2xjde                          1  \n",
       "oyt4ek                          0  "
      ]
     },
     "execution_count": 9,
     "metadata": {},
     "output_type": "execute_result"
    }
   ],
   "source": [
    "df_train=values.join(labels,on=values.index)\n",
    "\n",
    "df_train.head()"
   ]
  },
  {
   "cell_type": "code",
   "execution_count": 10,
   "metadata": {},
   "outputs": [],
   "source": [
    "df_train[['fixed_defect','normal','reversible_defect']]=pd.get_dummies(df_train['thal'])\n",
    "\n",
    "df_train.drop(['thal','reversible_defect'],axis=1,inplace=True)"
   ]
  },
  {
   "cell_type": "code",
   "execution_count": 11,
   "metadata": {},
   "outputs": [
    {
     "data": {
      "text/plain": [
       "(180, 15)"
      ]
     },
     "execution_count": 11,
     "metadata": {},
     "output_type": "execute_result"
    }
   ],
   "source": [
    "df_train.shape"
   ]
  },
  {
   "cell_type": "code",
   "execution_count": 12,
   "metadata": {},
   "outputs": [
    {
     "name": "stdout",
     "output_type": "stream",
     "text": [
      "<class 'pandas.core.frame.DataFrame'>\n",
      "Index: 180 entries, 0z64un to 2nx10r\n",
      "Data columns (total 15 columns):\n",
      "slope_of_peak_exercise_st_segment       180 non-null int64\n",
      "resting_blood_pressure                  180 non-null int64\n",
      "chest_pain_type                         180 non-null int64\n",
      "num_major_vessels                       180 non-null int64\n",
      "fasting_blood_sugar_gt_120_mg_per_dl    180 non-null int64\n",
      "resting_ekg_results                     180 non-null int64\n",
      "serum_cholesterol_mg_per_dl             180 non-null int64\n",
      "oldpeak_eq_st_depression                180 non-null float64\n",
      "sex                                     180 non-null int64\n",
      "age                                     180 non-null int64\n",
      "max_heart_rate_achieved                 180 non-null int64\n",
      "exercise_induced_angina                 180 non-null int64\n",
      "heart_disease_present                   180 non-null int64\n",
      "fixed_defect                            180 non-null uint8\n",
      "normal                                  180 non-null uint8\n",
      "dtypes: float64(1), int64(12), uint8(2)\n",
      "memory usage: 20.0+ KB\n"
     ]
    }
   ],
   "source": [
    "df_train.info()   #all the variables are integer of float number. The patient ID is not a variable"
   ]
  },
  {
   "cell_type": "code",
   "execution_count": 13,
   "metadata": {},
   "outputs": [],
   "source": [
    "# definition of the array characterizing the training set\n",
    "\n",
    "X=np.array(df_train.drop('heart_disease_present',axis=1))\n",
    "y=df_train['heart_disease_present']   # I save in y my training results\n",
    "\n",
    "from sklearn.preprocessing import StandardScaler\n",
    "from sklearn.model_selection import train_test_split\n",
    "\n",
    "scaler=StandardScaler()\n",
    "X_std=scaler.fit_transform(X)\n",
    "#X_std=X\n",
    "\n",
    "X_train, X_test, y_train, y_test = train_test_split(X_std, y, test_size=0.25,random_state=32)\n",
    "\n",
    "y_train_dumm=pd.get_dummies(y_train)\n",
    "y_test_dumm=pd.get_dummies(y_test)\n",
    "\n",
    "from sklearn.utils import class_weight\n",
    "class_weights = class_weight.compute_class_weight('balanced',np.unique(y_train),y_train)"
   ]
  },
  {
   "cell_type": "markdown",
   "metadata": {},
   "source": [
    "# Neural Network"
   ]
  },
  {
   "cell_type": "code",
   "execution_count": 14,
   "metadata": {},
   "outputs": [
    {
     "name": "stdout",
     "output_type": "stream",
     "text": [
      "Train on 135 samples, validate on 45 samples\n",
      "Epoch 1/500\n",
      "135/135 [==============================] - 1s 9ms/step - loss: 0.6989 - acc: 0.5556 - val_loss: 0.5748 - val_acc: 0.7333\n",
      "\n",
      "Epoch 00001: val_acc improved from -inf to 0.73333, saving model to best_model.hdf5\n",
      "Epoch 2/500\n",
      "135/135 [==============================] - 0s 268us/step - loss: 0.6185 - acc: 0.6593 - val_loss: 0.5422 - val_acc: 0.7333\n",
      "\n",
      "Epoch 00002: val_acc did not improve from 0.73333\n",
      "Epoch 3/500\n",
      "135/135 [==============================] - 0s 335us/step - loss: 0.5866 - acc: 0.7481 - val_loss: 0.5177 - val_acc: 0.8000\n",
      "\n",
      "Epoch 00003: val_acc improved from 0.73333 to 0.80000, saving model to best_model.hdf5\n",
      "Epoch 4/500\n",
      "135/135 [==============================] - 0s 266us/step - loss: 0.5336 - acc: 0.8037 - val_loss: 0.4906 - val_acc: 0.8000\n",
      "\n",
      "Epoch 00004: val_acc did not improve from 0.80000\n",
      "Epoch 5/500\n",
      "135/135 [==============================] - 0s 320us/step - loss: 0.5043 - acc: 0.8333 - val_loss: 0.4588 - val_acc: 0.8222\n",
      "\n",
      "Epoch 00005: val_acc improved from 0.80000 to 0.82222, saving model to best_model.hdf5\n",
      "Epoch 6/500\n",
      "135/135 [==============================] - 0s 264us/step - loss: 0.4653 - acc: 0.8333 - val_loss: 0.4303 - val_acc: 0.8556\n",
      "\n",
      "Epoch 00006: val_acc improved from 0.82222 to 0.85556, saving model to best_model.hdf5\n",
      "Epoch 7/500\n",
      "135/135 [==============================] - 0s 292us/step - loss: 0.4608 - acc: 0.8444 - val_loss: 0.4120 - val_acc: 0.8556\n",
      "\n",
      "Epoch 00007: val_acc did not improve from 0.85556\n",
      "Epoch 8/500\n",
      "135/135 [==============================] - 0s 339us/step - loss: 0.4425 - acc: 0.8667 - val_loss: 0.4010 - val_acc: 0.8667\n",
      "\n",
      "Epoch 00008: val_acc improved from 0.85556 to 0.86667, saving model to best_model.hdf5\n",
      "Epoch 9/500\n",
      "135/135 [==============================] - 0s 245us/step - loss: 0.4105 - acc: 0.8667 - val_loss: 0.3958 - val_acc: 0.8444\n",
      "\n",
      "Epoch 00009: val_acc did not improve from 0.86667\n",
      "Epoch 10/500\n",
      "135/135 [==============================] - ETA: 0s - loss: 0.5192 - acc: 0.812 - 0s 287us/step - loss: 0.3857 - acc: 0.8778 - val_loss: 0.3896 - val_acc: 0.8222\n",
      "\n",
      "Epoch 00010: val_acc did not improve from 0.86667\n",
      "Epoch 11/500\n",
      "135/135 [==============================] - 0s 300us/step - loss: 0.3820 - acc: 0.8630 - val_loss: 0.3822 - val_acc: 0.8222\n",
      "\n",
      "Epoch 00011: val_acc did not improve from 0.86667\n",
      "Epoch 12/500\n",
      "135/135 [==============================] - 0s 351us/step - loss: 0.3537 - acc: 0.8667 - val_loss: 0.3766 - val_acc: 0.8444\n",
      "\n",
      "Epoch 00012: val_acc did not improve from 0.86667\n",
      "Epoch 13/500\n",
      "135/135 [==============================] - 0s 310us/step - loss: 0.3749 - acc: 0.8630 - val_loss: 0.3710 - val_acc: 0.8444\n",
      "\n",
      "Epoch 00013: val_acc did not improve from 0.86667\n",
      "Epoch 14/500\n",
      "135/135 [==============================] - 0s 426us/step - loss: 0.3797 - acc: 0.8593 - val_loss: 0.3662 - val_acc: 0.8444\n",
      "\n",
      "Epoch 00014: val_acc did not improve from 0.86667\n",
      "Epoch 15/500\n",
      "135/135 [==============================] - 0s 375us/step - loss: 0.3159 - acc: 0.8704 - val_loss: 0.3599 - val_acc: 0.8556\n",
      "\n",
      "Epoch 00015: val_acc did not improve from 0.86667\n",
      "Epoch 16/500\n",
      "135/135 [==============================] - 0s 399us/step - loss: 0.3478 - acc: 0.8593 - val_loss: 0.3615 - val_acc: 0.8556\n",
      "\n",
      "Epoch 00016: val_acc did not improve from 0.86667\n",
      "Epoch 17/500\n",
      "135/135 [==============================] - 0s 387us/step - loss: 0.3360 - acc: 0.8889 - val_loss: 0.3639 - val_acc: 0.8444\n",
      "\n",
      "Epoch 00017: val_acc did not improve from 0.86667\n",
      "Epoch 18/500\n",
      "135/135 [==============================] - 0s 361us/step - loss: 0.3210 - acc: 0.8926 - val_loss: 0.3682 - val_acc: 0.8333\n",
      "\n",
      "Epoch 00018: val_acc did not improve from 0.86667\n",
      "Epoch 19/500\n",
      "135/135 [==============================] - 0s 382us/step - loss: 0.3191 - acc: 0.8667 - val_loss: 0.3647 - val_acc: 0.8333\n",
      "\n",
      "Epoch 00019: val_acc did not improve from 0.86667\n",
      "Epoch 20/500\n",
      "135/135 [==============================] - 0s 353us/step - loss: 0.3295 - acc: 0.9000 - val_loss: 0.3573 - val_acc: 0.8444\n",
      "\n",
      "Epoch 00020: val_acc did not improve from 0.86667\n",
      "Epoch 21/500\n",
      "135/135 [==============================] - 0s 348us/step - loss: 0.3075 - acc: 0.8778 - val_loss: 0.3520 - val_acc: 0.8444\n",
      "\n",
      "Epoch 00021: val_acc did not improve from 0.86667\n",
      "Epoch 22/500\n",
      "135/135 [==============================] - 0s 344us/step - loss: 0.2760 - acc: 0.8889 - val_loss: 0.3512 - val_acc: 0.8556\n",
      "\n",
      "Epoch 00022: val_acc did not improve from 0.86667\n",
      "Epoch 23/500\n",
      "135/135 [==============================] - 0s 343us/step - loss: 0.2866 - acc: 0.8815 - val_loss: 0.3541 - val_acc: 0.8556\n",
      "\n",
      "Epoch 00023: val_acc did not improve from 0.86667\n",
      "Epoch 24/500\n",
      "135/135 [==============================] - 0s 487us/step - loss: 0.2995 - acc: 0.8852 - val_loss: 0.3602 - val_acc: 0.8444\n",
      "\n",
      "Epoch 00024: val_acc did not improve from 0.86667\n",
      "Epoch 25/500\n",
      "135/135 [==============================] - 0s 264us/step - loss: 0.2873 - acc: 0.8963 - val_loss: 0.3679 - val_acc: 0.8333\n",
      "\n",
      "Epoch 00025: val_acc did not improve from 0.86667\n",
      "Epoch 26/500\n",
      "135/135 [==============================] - 0s 242us/step - loss: 0.2809 - acc: 0.8889 - val_loss: 0.3777 - val_acc: 0.8333\n",
      "\n",
      "Epoch 00026: val_acc did not improve from 0.86667\n",
      "Epoch 27/500\n",
      "135/135 [==============================] - 0s 270us/step - loss: 0.2635 - acc: 0.8963 - val_loss: 0.3826 - val_acc: 0.8333\n",
      "\n",
      "Epoch 00027: val_acc did not improve from 0.86667\n",
      "Epoch 28/500\n",
      "135/135 [==============================] - 0s 246us/step - loss: 0.2824 - acc: 0.8852 - val_loss: 0.3932 - val_acc: 0.8333\n",
      "\n",
      "Epoch 00028: val_acc did not improve from 0.86667\n",
      "Epoch 29/500\n",
      "135/135 [==============================] - 0s 274us/step - loss: 0.2691 - acc: 0.9000 - val_loss: 0.3840 - val_acc: 0.8333\n",
      "\n",
      "Epoch 00029: val_acc did not improve from 0.86667\n",
      "Epoch 30/500\n",
      "135/135 [==============================] - 0s 265us/step - loss: 0.2703 - acc: 0.9037 - val_loss: 0.3707 - val_acc: 0.8444\n",
      "\n",
      "Epoch 00030: val_acc did not improve from 0.86667\n",
      "Epoch 31/500\n",
      "135/135 [==============================] - 0s 269us/step - loss: 0.2678 - acc: 0.8889 - val_loss: 0.3627 - val_acc: 0.8444\n",
      "\n",
      "Epoch 00031: val_acc did not improve from 0.86667\n",
      "Epoch 32/500\n",
      "135/135 [==============================] - 0s 252us/step - loss: 0.2480 - acc: 0.9074 - val_loss: 0.3523 - val_acc: 0.8556\n",
      "\n",
      "Epoch 00032: val_acc did not improve from 0.86667\n",
      "Epoch 33/500\n",
      "135/135 [==============================] - 0s 274us/step - loss: 0.2660 - acc: 0.8815 - val_loss: 0.3536 - val_acc: 0.8444\n",
      "\n",
      "Epoch 00033: val_acc did not improve from 0.86667\n",
      "Epoch 34/500\n",
      "135/135 [==============================] - 0s 272us/step - loss: 0.2371 - acc: 0.9222 - val_loss: 0.3645 - val_acc: 0.8444\n",
      "\n",
      "Epoch 00034: val_acc did not improve from 0.86667\n",
      "Epoch 35/500\n",
      "135/135 [==============================] - 0s 239us/step - loss: 0.2427 - acc: 0.9111 - val_loss: 0.3738 - val_acc: 0.8333\n",
      "\n",
      "Epoch 00035: val_acc did not improve from 0.86667\n",
      "Epoch 36/500\n",
      "135/135 [==============================] - 0s 272us/step - loss: 0.2456 - acc: 0.8815 - val_loss: 0.3810 - val_acc: 0.8333\n",
      "\n",
      "Epoch 00036: val_acc did not improve from 0.86667\n",
      "Epoch 37/500\n",
      "135/135 [==============================] - 0s 249us/step - loss: 0.2429 - acc: 0.9000 - val_loss: 0.3918 - val_acc: 0.8333\n",
      "\n",
      "Epoch 00037: val_acc did not improve from 0.86667\n",
      "Epoch 38/500\n",
      "135/135 [==============================] - 0s 276us/step - loss: 0.2254 - acc: 0.9037 - val_loss: 0.3965 - val_acc: 0.8333\n",
      "\n",
      "Epoch 00038: val_acc did not improve from 0.86667\n",
      "Epoch 39/500\n",
      "135/135 [==============================] - 0s 244us/step - loss: 0.2494 - acc: 0.8926 - val_loss: 0.3942 - val_acc: 0.8333\n",
      "\n",
      "Epoch 00039: val_acc did not improve from 0.86667\n",
      "Epoch 40/500\n",
      "135/135 [==============================] - 0s 278us/step - loss: 0.2280 - acc: 0.9222 - val_loss: 0.3891 - val_acc: 0.8333\n",
      "\n",
      "Epoch 00040: val_acc did not improve from 0.86667\n",
      "Epoch 41/500\n",
      "135/135 [==============================] - 0s 255us/step - loss: 0.2361 - acc: 0.9148 - val_loss: 0.3894 - val_acc: 0.8444\n",
      "\n",
      "Epoch 00041: val_acc did not improve from 0.86667\n",
      "Epoch 42/500\n",
      "135/135 [==============================] - 0s 295us/step - loss: 0.2199 - acc: 0.9074 - val_loss: 0.4034 - val_acc: 0.8333\n",
      "\n",
      "Epoch 00042: val_acc did not improve from 0.86667\n",
      "Epoch 43/500\n"
     ]
    },
    {
     "name": "stdout",
     "output_type": "stream",
     "text": [
      "135/135 [==============================] - 0s 232us/step - loss: 0.2125 - acc: 0.9185 - val_loss: 0.4137 - val_acc: 0.8333\n",
      "\n",
      "Epoch 00043: val_acc did not improve from 0.86667\n",
      "Epoch 44/500\n",
      "135/135 [==============================] - 0s 254us/step - loss: 0.2097 - acc: 0.9222 - val_loss: 0.4125 - val_acc: 0.8333\n",
      "\n",
      "Epoch 00044: val_acc did not improve from 0.86667\n",
      "Epoch 45/500\n",
      "135/135 [==============================] - 0s 221us/step - loss: 0.2036 - acc: 0.9185 - val_loss: 0.4034 - val_acc: 0.8444\n",
      "\n",
      "Epoch 00045: val_acc did not improve from 0.86667\n",
      "Epoch 46/500\n",
      "135/135 [==============================] - 0s 211us/step - loss: 0.1957 - acc: 0.9037 - val_loss: 0.3985 - val_acc: 0.8444\n",
      "\n",
      "Epoch 00046: val_acc did not improve from 0.86667\n",
      "Epoch 47/500\n",
      "135/135 [==============================] - 0s 225us/step - loss: 0.2080 - acc: 0.9259 - val_loss: 0.4066 - val_acc: 0.8444\n",
      "\n",
      "Epoch 00047: val_acc did not improve from 0.86667\n",
      "Epoch 48/500\n",
      "135/135 [==============================] - 0s 237us/step - loss: 0.2005 - acc: 0.9185 - val_loss: 0.4094 - val_acc: 0.8444\n",
      "\n",
      "Epoch 00048: val_acc did not improve from 0.86667\n",
      "Epoch 49/500\n",
      "135/135 [==============================] - 0s 234us/step - loss: 0.1990 - acc: 0.9259 - val_loss: 0.4223 - val_acc: 0.8444\n",
      "\n",
      "Epoch 00049: val_acc did not improve from 0.86667\n",
      "Epoch 50/500\n",
      "135/135 [==============================] - 0s 234us/step - loss: 0.1966 - acc: 0.9259 - val_loss: 0.4445 - val_acc: 0.8333\n",
      "\n",
      "Epoch 00050: val_acc did not improve from 0.86667\n",
      "Epoch 51/500\n",
      "135/135 [==============================] - 0s 224us/step - loss: 0.1844 - acc: 0.9259 - val_loss: 0.4564 - val_acc: 0.8333\n",
      "\n",
      "Epoch 00051: val_acc did not improve from 0.86667\n",
      "Epoch 52/500\n",
      "135/135 [==============================] - 0s 228us/step - loss: 0.1787 - acc: 0.9370 - val_loss: 0.4534 - val_acc: 0.8444\n",
      "\n",
      "Epoch 00052: val_acc did not improve from 0.86667\n",
      "Epoch 53/500\n",
      "135/135 [==============================] - 0s 230us/step - loss: 0.1969 - acc: 0.9259 - val_loss: 0.4545 - val_acc: 0.8444\n",
      "\n",
      "Epoch 00053: val_acc did not improve from 0.86667\n",
      "Epoch 54/500\n",
      "135/135 [==============================] - 0s 255us/step - loss: 0.1889 - acc: 0.9185 - val_loss: 0.4451 - val_acc: 0.8444\n",
      "\n",
      "Epoch 00054: val_acc did not improve from 0.86667\n",
      "Epoch 55/500\n",
      "135/135 [==============================] - 0s 360us/step - loss: 0.1758 - acc: 0.9259 - val_loss: 0.4378 - val_acc: 0.8444\n",
      "\n",
      "Epoch 00055: val_acc did not improve from 0.86667\n",
      "Epoch 56/500\n",
      "135/135 [==============================] - 0s 373us/step - loss: 0.1562 - acc: 0.9444 - val_loss: 0.4341 - val_acc: 0.8444\n",
      "\n",
      "Epoch 00056: val_acc did not improve from 0.86667\n",
      "Epoch 57/500\n",
      "135/135 [==============================] - 0s 645us/step - loss: 0.1647 - acc: 0.9222 - val_loss: 0.4322 - val_acc: 0.8444\n",
      "\n",
      "Epoch 00057: val_acc did not improve from 0.86667\n",
      "Epoch 58/500\n",
      "135/135 [==============================] - 0s 407us/step - loss: 0.1743 - acc: 0.9222 - val_loss: 0.4355 - val_acc: 0.8444\n",
      "\n",
      "Epoch 00058: val_acc did not improve from 0.86667\n",
      "Loss function: binary_crossentropy\n"
     ]
    }
   ],
   "source": [
    "from keras.optimizers import SGD\n",
    "from keras.callbacks import ModelCheckpoint\n",
    "from keras.layers import Dropout\n",
    "\n",
    "# Here I build the neural network\n",
    "ncols=X_train.shape[1]\n",
    "\n",
    "model=Sequential()\n",
    "\n",
    "# 1th hidden layer\n",
    "model.add(Dense(100,input_shape=(ncols,),activation='relu'))\n",
    "model.add(Dropout(0.2))\n",
    "\n",
    "model.add(Dense(100,activation='relu'))\n",
    "model.add(Dropout(0.2))\n",
    "\n",
    "# output layer\n",
    "model.add(Dense(2,activation='sigmoid'))\n",
    "\n",
    "# optimizer\n",
    "#opt=SGD(lr=0.02,momentum=0.5, nesterov=False)\n",
    "\n",
    "# compile\n",
    "model.compile(optimizer='adam',loss='binary_crossentropy',metrics=['accuracy'])\n",
    "\n",
    "# monitor\n",
    "early_stopping_monitor = EarlyStopping(patience=50,monitor='val_acc')\n",
    "checkpoint=ModelCheckpoint(filepath='best_model.hdf5',save_weights_only=False,monitor='val_acc',mode='auto',save_best_only=True,verbose=1)\n",
    "\n",
    "\n",
    "# fit the model\n",
    "history=model.fit(X_train, y_train_dumm ,epochs=500,validation_data=(X_test,y_test_dumm),callbacks=[early_stopping_monitor,checkpoint],class_weight=class_weights)\n",
    "print(\"Loss function: \" + model.loss)"
   ]
  },
  {
   "cell_type": "code",
   "execution_count": 15,
   "metadata": {},
   "outputs": [
    {
     "data": {
      "text/plain": [
       "dict_keys(['val_loss', 'val_acc', 'loss', 'acc'])"
      ]
     },
     "execution_count": 15,
     "metadata": {},
     "output_type": "execute_result"
    }
   ],
   "source": [
    "history.history.keys()"
   ]
  },
  {
   "cell_type": "markdown",
   "metadata": {},
   "source": [
    "# Evaluate the performance"
   ]
  },
  {
   "cell_type": "code",
   "execution_count": 16,
   "metadata": {},
   "outputs": [
    {
     "data": {
      "image/png": "[encoded data removed]",
      "text/plain": [
       "<Figure size 432x288 with 1 Axes>"
      ]
     },
     "metadata": {
      "needs_background": "light"
     },
     "output_type": "display_data"
    }
   ],
   "source": [
    "plt.plot(history.history['acc'])\n",
    "plt.plot(history.history['val_acc'])\n",
    "plt.legend(['Training accuracy','Validation accuracy'])\n",
    "plt.xlabel('Epoch')\n",
    "plt.ylabel('Accuracy')\n",
    "plt.grid()\n",
    "plt.show()"
   ]
  },
  {
   "cell_type": "code",
   "execution_count": 17,
   "metadata": {},
   "outputs": [
    {
     "name": "stdout",
     "output_type": "stream",
     "text": [
      "_________________________________________________________________\n",
      "Layer (type)                 Output Shape              Param #   \n",
      "=================================================================\n",
      "dense_1 (Dense)              (None, 100)               1500      \n",
      "_________________________________________________________________\n",
      "dropout_1 (Dropout)          (None, 100)               0         \n",
      "_________________________________________________________________\n",
      "dense_2 (Dense)              (None, 100)               10100     \n",
      "_________________________________________________________________\n",
      "dropout_2 (Dropout)          (None, 100)               0         \n",
      "_________________________________________________________________\n",
      "dense_3 (Dense)              (None, 2)                 202       \n",
      "=================================================================\n",
      "Total params: 11,802\n",
      "Trainable params: 11,802\n",
      "Non-trainable params: 0\n",
      "_________________________________________________________________\n"
     ]
    }
   ],
   "source": [
    "model.summary()"
   ]
  },
  {
   "cell_type": "code",
   "execution_count": 18,
   "metadata": {},
   "outputs": [],
   "source": [
    "my_model = load_model('best_model.hdf5')"
   ]
  },
  {
   "cell_type": "code",
   "execution_count": 19,
   "metadata": {},
   "outputs": [
    {
     "name": "stdout",
     "output_type": "stream",
     "text": [
      "[[27  4]\n",
      " [ 2 12]]\n",
      "              precision    recall  f1-score   support\n",
      "\n",
      "           0       0.93      0.87      0.90        31\n",
      "           1       0.75      0.86      0.80        14\n",
      "\n",
      "    accuracy                           0.87        45\n",
      "   macro avg       0.84      0.86      0.85        45\n",
      "weighted avg       0.87      0.87      0.87        45\n",
      "\n"
     ]
    }
   ],
   "source": [
    "from sklearn.metrics import confusion_matrix\n",
    "from sklearn.metrics import classification_report\n",
    "\n",
    "y_pred=np.argmax(my_model.predict(X_test),axis=1)\n",
    "\n",
    "print(confusion_matrix(y_test,y_pred))\n",
    "\n",
    "print(classification_report(y_test,y_pred))"
   ]
  },
  {
   "cell_type": "code",
   "execution_count": 20,
   "metadata": {},
   "outputs": [
    {
     "name": "stdout",
     "output_type": "stream",
     "text": [
      "Maximum validation accuracy 0.87\n"
     ]
    }
   ],
   "source": [
    "print('Maximum validation accuracy',round(np.max(history.history['val_acc']),2))"
   ]
  },
  {
   "cell_type": "code",
   "execution_count": null,
   "metadata": {},
   "outputs": [],
   "source": []
  },
  {
   "cell_type": "code",
   "execution_count": null,
   "metadata": {},
   "outputs": [],
   "source": []
  },
  {
   "cell_type": "code",
   "execution_count": null,
   "metadata": {},
   "outputs": [],
   "source": []
  }
 ],
 "metadata": {
  "kernelspec": {
   "display_name": "Python 3",
   "language": "python",
   "name": "python3"
  },
  "language_info": {
   "codemirror_mode": {
    "name": "ipython",
    "version": 3
   },
   "file_extension": ".py",
   "mimetype": "text/x-python",
   "name": "python",
   "nbconvert_exporter": "python",
   "pygments_lexer": "ipython3",
   "version": "3.6.10"
  }
 },
 "nbformat": 4,
 "nbformat_minor": 2
}
